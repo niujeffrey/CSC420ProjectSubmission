{
 "cells": [
  {
   "cell_type": "markdown",
   "metadata": {},
   "source": [
    "https://arxiv.org/pdf/1606.03073.pdf"
   ]
  },
  {
   "cell_type": "code",
   "execution_count": 1,
   "metadata": {},
   "outputs": [],
   "source": [
    "import os\n",
    "import math\n",
    "import torch\n",
    "import torch.nn as nn\n",
    "import torch.optim as optim\n",
    "import torch.nn.functional as F\n",
    "import torchvision.models as models\n",
    "import numpy as np\n",
    "import matplotlib.pyplot as plt\n",
    "\n",
    "from skimage import io, transform, color\n",
    "from torchvision import transforms, utils\n",
    "from torch.utils.data import DataLoader, Dataset\n",
    "from tqdm.notebook import tqdm\n",
    "\n",
    "use_gpu = torch.cuda.is_available()"
   ]
  },
  {
   "cell_type": "code",
   "execution_count": 2,
   "metadata": {},
   "outputs": [],
   "source": [
    "class ImageDataset(Dataset):\n",
    "    def __init__(self, root_dir, indices, transform=None):\n",
    "        self.root_dir = root_dir\n",
    "        self.indices = indices  # Which image numbers to take\n",
    "        self.transform = transform\n",
    "    \n",
    "    def __len__(self):\n",
    "        return len(self.indices)\n",
    "\n",
    "    def __getitem__(self, index):\n",
    "        try:\n",
    "            edge_name = os.path.join(self.root_dir, 'edges/', str(index + 1) + '.png')\n",
    "            icon_name = os.path.join(self.root_dir, 'icons/', str(index + 1) + '.png')\n",
    "            edge = io.imread(edge_name, as_gray=True)\n",
    "            edge = edge.reshape((120, 120, 1))\n",
    "            edge = edge.transpose((2, 0, 1))\n",
    "            icon = io.imread(icon_name)\n",
    "            icon = color.rgba2rgb(icon)\n",
    "            icon = icon.transpose((2, 0, 1))\n",
    "\n",
    "            return edge, icon\n",
    "        except ValueError:\n",
    "            print(index)\n",
    "            raise ValueError"
   ]
  },
  {
   "cell_type": "code",
   "execution_count": 3,
   "metadata": {},
   "outputs": [],
   "source": [
    "indices = np.arange(1, 10001)\n",
    "np.random.shuffle(indices)\n",
    "\n",
    "train_data = ImageDataset('./data/', indices[:7000])\n",
    "validation_data = ImageDataset('./data/', indices[7000:8500])\n",
    "test_data = ImageDataset('./data/', indices[8500:])"
   ]
  },
  {
   "cell_type": "code",
   "execution_count": 4,
   "metadata": {},
   "outputs": [],
   "source": [
    "class Res(nn.Module):\n",
    "    def __init__(self):\n",
    "        super(Res, self).__init__()\n",
    "        \n",
    "        self.conv1 = nn.Sequential(\n",
    "            nn.Conv2d(128, 128, kernel_size=3, padding=1),\n",
    "            nn.BatchNorm2d(128)\n",
    "        )\n",
    "        \n",
    "        self.conv2 = nn.Sequential(\n",
    "            nn.Conv2d(128, 128, kernel_size=3, padding=1),\n",
    "            nn.BatchNorm2d(128)\n",
    "        )\n",
    "        \n",
    "    def forward(self, x):\n",
    "        y = self.conv1(x)\n",
    "        y = F.relu(y)\n",
    "        y = self.conv2(y)\n",
    "        return y + x\n",
    "\n",
    "    \n",
    "class Net(nn.Module):\n",
    "    def __init__(self):\n",
    "        super(Net, self).__init__()\n",
    "        \n",
    "        self.conv1 = nn.Sequential(\n",
    "            nn.Conv2d(1, 32, kernel_size=9, padding=4),\n",
    "            nn.BatchNorm2d(32),\n",
    "            nn.ReLU(),\n",
    "        )\n",
    "        \n",
    "        self.conv2 = nn.Sequential(\n",
    "            nn.Conv2d(32, 64, kernel_size=3, stride=2, padding=1),\n",
    "            nn.BatchNorm2d(64),\n",
    "            nn.ReLU(),\n",
    "        )\n",
    "        \n",
    "        self.conv3 = nn.Sequential(\n",
    "            nn.Conv2d(64, 128, kernel_size=3, stride=2, padding=1),\n",
    "            nn.BatchNorm2d(128),\n",
    "            nn.ReLU(),\n",
    "        )\n",
    "        \n",
    "        self.residual = nn.Sequential(\n",
    "            Res(),\n",
    "            Res(),\n",
    "            Res(),\n",
    "            Res(),\n",
    "            Res(),\n",
    "        )\n",
    "        \n",
    "        self.deconv1 = nn.Sequential(\n",
    "            nn.ConvTranspose2d(128, 64, kernel_size=4, stride=2, padding=1),\n",
    "            nn.BatchNorm2d(64),\n",
    "            nn.ReLU(),\n",
    "        )\n",
    "        \n",
    "        self.deconv2 = nn.Sequential(\n",
    "            nn.ConvTranspose2d(64, 32, kernel_size=4, stride=2, padding=1),\n",
    "            nn.BatchNorm2d(32),\n",
    "            nn.ReLU(),\n",
    "        )\n",
    "        \n",
    "        self.final = nn.Sequential(\n",
    "            nn.Conv2d(32, 3, kernel_size=9, padding=4),\n",
    "            nn.BatchNorm2d(3),\n",
    "            nn.Tanh(),\n",
    "        )\n",
    "    \n",
    "    def forward(self, x):\n",
    "        x = self.conv1(x)\n",
    "        x = self.conv2(x)\n",
    "        x = self.conv3(x)\n",
    "        x = self.residual(x)\n",
    "        x = self.deconv1(x)\n",
    "        x = self.deconv2(x)\n",
    "        x = self.final(x)\n",
    "        return x"
   ]
  },
  {
   "cell_type": "code",
   "execution_count": 5,
   "metadata": {},
   "outputs": [],
   "source": [
    "BATCH_SIZE = 4\n",
    "LR = 0.001\n",
    "EPOCHS = 25"
   ]
  },
  {
   "cell_type": "code",
   "execution_count": 6,
   "metadata": {},
   "outputs": [],
   "source": [
    "# Second component of loss is a VGG-16 DNN\n",
    "vgg = models.vgg16(pretrained=True).cuda()\n",
    "clipped = list(vgg.children())[0][:9]\n",
    "clipped_model = torch.nn.Sequential(*clipped).cuda()"
   ]
  },
  {
   "cell_type": "code",
   "execution_count": 6,
   "metadata": {},
   "outputs": [],
   "source": [
    "# Borrowed from https://dsp.stackexchange.com/questions/38065/peak-signal-to-noise-ratio-psnr-in-python-for-an-image\n",
    "# Credit to user Himanshu Tyagi\n",
    "def psnr(img1, img2):\n",
    "    mse = np.mean( (img1 - img2) ** 2 )\n",
    "    if mse == 0:\n",
    "        return 100\n",
    "    PIXEL_MAX = 1\n",
    "    return 20 * math.log10(PIXEL_MAX / math.sqrt(mse))\n"
   ]
  },
  {
   "cell_type": "code",
   "execution_count": 8,
   "metadata": {},
   "outputs": [],
   "source": [
    "def validate(model, val_loader):\n",
    "    model.eval()\n",
    "    val_loss = 0\n",
    "    for edges, icons in tqdm(val_loader):\n",
    "        if use_gpu:\n",
    "            edges = edges.cuda()\n",
    "        icons = icons.float()\n",
    "        res = model(edges.float())\n",
    "        res = res.detach().cpu().numpy()\n",
    "        icons = icons.numpy()\n",
    "        val_loss += psnr(res, icons)      \n",
    "    print(f\"Validation PSNR: {val_loss / len(val_loader)}\")"
   ]
  },
  {
   "cell_type": "code",
   "execution_count": 9,
   "metadata": {},
   "outputs": [],
   "source": [
    "def train(model, train_loader, val_loader, criterion, optimizer):\n",
    "    for e in range(EPOCHS):\n",
    "        running_loss = 0\n",
    "        model.train()\n",
    "        for edges, icons in tqdm(train_loader):\n",
    "            if use_gpu:\n",
    "                edges = edges.cuda()\n",
    "                icons = icons.cuda()\n",
    "            \n",
    "            res = model(edges.float())\n",
    "#             print(res[0])\n",
    "#             print(icons[0])\n",
    "#             print(res.shape)\n",
    "#             print(icons.shape)\n",
    "            icons = icons.float()\n",
    "    \n",
    "            \n",
    "            loss = criterion(res, icons)\n",
    "            with torch.no_grad():\n",
    "                vgg_clip = clipped_model(icons)\n",
    "            loss += criterion(clipped_model(res), vgg_clip)\n",
    "            \n",
    "#             print(icons[:, :, :, :-1])\n",
    "#             print(icons[:,:,1:,:].shape)\n",
    "            var_loss = 0.00001 * (torch.sum(torch.sqrt(\n",
    "                torch.pow(icons[:, :, :, :-1] - icons[:, :, :, 1:], 2).flatten() + \\\n",
    "                torch.pow(icons[:,:,:-1,:] - icons[:,:,1:,:], 2).flatten()\n",
    "            )))\n",
    "            \n",
    "            loss += var_loss\n",
    "\n",
    "            optimizer.zero_grad()\n",
    "            loss.backward()\n",
    "            optimizer.step()\n",
    "            \n",
    "            running_loss += loss.item()\n",
    "        else:\n",
    "            print(f\"Epoch {e+1}\")\n",
    "            print(f\"Training loss: {running_loss / len(train_loader)}\")\n",
    "            validate(model, val_loader)"
   ]
  },
  {
   "cell_type": "code",
   "execution_count": 7,
   "metadata": {},
   "outputs": [],
   "source": [
    "train_loader = DataLoader(train_data, batch_size=BATCH_SIZE, shuffle=True)\n",
    "validation_loader = DataLoader(validation_data, batch_size=1, shuffle=True)\n",
    "test_loader = DataLoader(test_data, batch_size=1, shuffle=True)"
   ]
  },
  {
   "cell_type": "code",
   "execution_count": 13,
   "metadata": {
    "scrolled": false
   },
   "outputs": [
    {
     "data": {
      "application/vnd.jupyter.widget-view+json": {
       "model_id": "d80fee8dde504180aaef97b9b86c8a65",
       "version_major": 2,
       "version_minor": 0
      },
      "text/plain": [
       "HBox(children=(IntProgress(value=0, max=1750), HTML(value='')))"
      ]
     },
     "metadata": {},
     "output_type": "display_data"
    },
    {
     "name": "stdout",
     "output_type": "stream",
     "text": [
      "\n",
      "Epoch 1\n",
      "Training loss: 1.3758543936184475\n"
     ]
    },
    {
     "data": {
      "application/vnd.jupyter.widget-view+json": {
       "model_id": "815e4b069ecc4875afa26d10b4032a8f",
       "version_major": 2,
       "version_minor": 0
      },
      "text/plain": [
       "HBox(children=(IntProgress(value=0, max=1500), HTML(value='')))"
      ]
     },
     "metadata": {},
     "output_type": "display_data"
    },
    {
     "name": "stdout",
     "output_type": "stream",
     "text": [
      "\n",
      "Validation PSNR: 10.703395256320755\n"
     ]
    },
    {
     "data": {
      "application/vnd.jupyter.widget-view+json": {
       "model_id": "93b125f01b0643e4b6aa0df19a4c8d6c",
       "version_major": 2,
       "version_minor": 0
      },
      "text/plain": [
       "HBox(children=(IntProgress(value=0, max=1750), HTML(value='')))"
      ]
     },
     "metadata": {},
     "output_type": "display_data"
    },
    {
     "name": "stdout",
     "output_type": "stream",
     "text": [
      "\n",
      "Epoch 2\n",
      "Training loss: 0.9612137578896114\n"
     ]
    },
    {
     "data": {
      "application/vnd.jupyter.widget-view+json": {
       "model_id": "c770454cd0a744a98327226074f21e03",
       "version_major": 2,
       "version_minor": 0
      },
      "text/plain": [
       "HBox(children=(IntProgress(value=0, max=1500), HTML(value='')))"
      ]
     },
     "metadata": {},
     "output_type": "display_data"
    },
    {
     "name": "stdout",
     "output_type": "stream",
     "text": [
      "\n",
      "Validation PSNR: 11.906334205544896\n"
     ]
    },
    {
     "data": {
      "application/vnd.jupyter.widget-view+json": {
       "model_id": "f4dbc2ae946d4fa3899a11f54f8c7761",
       "version_major": 2,
       "version_minor": 0
      },
      "text/plain": [
       "HBox(children=(IntProgress(value=0, max=1750), HTML(value='')))"
      ]
     },
     "metadata": {},
     "output_type": "display_data"
    },
    {
     "name": "stdout",
     "output_type": "stream",
     "text": [
      "\n",
      "Epoch 3\n",
      "Training loss: 0.8833379963806697\n"
     ]
    },
    {
     "data": {
      "application/vnd.jupyter.widget-view+json": {
       "model_id": "3f7eb54ab7d34360b08ae19f97698980",
       "version_major": 2,
       "version_minor": 0
      },
      "text/plain": [
       "HBox(children=(IntProgress(value=0, max=1500), HTML(value='')))"
      ]
     },
     "metadata": {},
     "output_type": "display_data"
    },
    {
     "name": "stdout",
     "output_type": "stream",
     "text": [
      "\n",
      "Validation PSNR: 10.665639243031832\n"
     ]
    },
    {
     "data": {
      "application/vnd.jupyter.widget-view+json": {
       "model_id": "10e968815c4f4d45a4d99cde87e9f5c2",
       "version_major": 2,
       "version_minor": 0
      },
      "text/plain": [
       "HBox(children=(IntProgress(value=0, max=1750), HTML(value='')))"
      ]
     },
     "metadata": {},
     "output_type": "display_data"
    },
    {
     "name": "stdout",
     "output_type": "stream",
     "text": [
      "\n",
      "Epoch 4\n",
      "Training loss: 0.8372574869053704\n"
     ]
    },
    {
     "data": {
      "application/vnd.jupyter.widget-view+json": {
       "model_id": "30431955c8724261b9f9954b8dcdfe31",
       "version_major": 2,
       "version_minor": 0
      },
      "text/plain": [
       "HBox(children=(IntProgress(value=0, max=1500), HTML(value='')))"
      ]
     },
     "metadata": {},
     "output_type": "display_data"
    },
    {
     "name": "stdout",
     "output_type": "stream",
     "text": [
      "\n",
      "Validation PSNR: 12.649184758157896\n"
     ]
    },
    {
     "data": {
      "application/vnd.jupyter.widget-view+json": {
       "model_id": "6d12522b7f8b40c387ec1a26731c7301",
       "version_major": 2,
       "version_minor": 0
      },
      "text/plain": [
       "HBox(children=(IntProgress(value=0, max=1750), HTML(value='')))"
      ]
     },
     "metadata": {},
     "output_type": "display_data"
    },
    {
     "name": "stdout",
     "output_type": "stream",
     "text": [
      "\n",
      "Epoch 5\n",
      "Training loss: 0.7907763450145722\n"
     ]
    },
    {
     "data": {
      "application/vnd.jupyter.widget-view+json": {
       "model_id": "57e239c9519643cd97889bc032aa3225",
       "version_major": 2,
       "version_minor": 0
      },
      "text/plain": [
       "HBox(children=(IntProgress(value=0, max=1500), HTML(value='')))"
      ]
     },
     "metadata": {},
     "output_type": "display_data"
    },
    {
     "name": "stdout",
     "output_type": "stream",
     "text": [
      "\n",
      "Validation PSNR: 13.354692121401357\n"
     ]
    },
    {
     "data": {
      "application/vnd.jupyter.widget-view+json": {
       "model_id": "d5f664408e2141cb981ff964f97078ee",
       "version_major": 2,
       "version_minor": 0
      },
      "text/plain": [
       "HBox(children=(IntProgress(value=0, max=1750), HTML(value='')))"
      ]
     },
     "metadata": {},
     "output_type": "display_data"
    },
    {
     "name": "stdout",
     "output_type": "stream",
     "text": [
      "\n",
      "Epoch 6\n",
      "Training loss: 0.7579229264089039\n"
     ]
    },
    {
     "data": {
      "application/vnd.jupyter.widget-view+json": {
       "model_id": "b156200756d54c4f90804185d7c487b2",
       "version_major": 2,
       "version_minor": 0
      },
      "text/plain": [
       "HBox(children=(IntProgress(value=0, max=1500), HTML(value='')))"
      ]
     },
     "metadata": {},
     "output_type": "display_data"
    },
    {
     "name": "stdout",
     "output_type": "stream",
     "text": [
      "\n",
      "Validation PSNR: 13.306074182529832\n"
     ]
    },
    {
     "data": {
      "application/vnd.jupyter.widget-view+json": {
       "model_id": "ff8b86cf4e8543cd9a92807113fe4e57",
       "version_major": 2,
       "version_minor": 0
      },
      "text/plain": [
       "HBox(children=(IntProgress(value=0, max=1750), HTML(value='')))"
      ]
     },
     "metadata": {},
     "output_type": "display_data"
    },
    {
     "name": "stdout",
     "output_type": "stream",
     "text": [
      "\n",
      "Epoch 7\n",
      "Training loss: 0.7251307086263384\n"
     ]
    },
    {
     "data": {
      "application/vnd.jupyter.widget-view+json": {
       "model_id": "a4bd3898be4e40ae984e9b2a71affd82",
       "version_major": 2,
       "version_minor": 0
      },
      "text/plain": [
       "HBox(children=(IntProgress(value=0, max=1500), HTML(value='')))"
      ]
     },
     "metadata": {},
     "output_type": "display_data"
    },
    {
     "name": "stdout",
     "output_type": "stream",
     "text": [
      "\n",
      "Validation PSNR: 13.800969589462007\n"
     ]
    },
    {
     "data": {
      "application/vnd.jupyter.widget-view+json": {
       "model_id": "7523777404944531b20770e91873cb07",
       "version_major": 2,
       "version_minor": 0
      },
      "text/plain": [
       "HBox(children=(IntProgress(value=0, max=1750), HTML(value='')))"
      ]
     },
     "metadata": {},
     "output_type": "display_data"
    },
    {
     "name": "stdout",
     "output_type": "stream",
     "text": [
      "\n",
      "Epoch 8\n",
      "Training loss: 0.7016713921342578\n"
     ]
    },
    {
     "data": {
      "application/vnd.jupyter.widget-view+json": {
       "model_id": "898c812bb0b54003aa75564f51b0f45f",
       "version_major": 2,
       "version_minor": 0
      },
      "text/plain": [
       "HBox(children=(IntProgress(value=0, max=1500), HTML(value='')))"
      ]
     },
     "metadata": {},
     "output_type": "display_data"
    },
    {
     "name": "stdout",
     "output_type": "stream",
     "text": [
      "\n",
      "Validation PSNR: 13.82539754870898\n"
     ]
    },
    {
     "data": {
      "application/vnd.jupyter.widget-view+json": {
       "model_id": "015a43b6b9f6417fa4a8447826991a37",
       "version_major": 2,
       "version_minor": 0
      },
      "text/plain": [
       "HBox(children=(IntProgress(value=0, max=1750), HTML(value='')))"
      ]
     },
     "metadata": {},
     "output_type": "display_data"
    },
    {
     "name": "stdout",
     "output_type": "stream",
     "text": [
      "\n",
      "Epoch 9\n",
      "Training loss: 0.6782462356431144\n"
     ]
    },
    {
     "data": {
      "application/vnd.jupyter.widget-view+json": {
       "model_id": "cd71a2e2199940499f0a6ca2901add10",
       "version_major": 2,
       "version_minor": 0
      },
      "text/plain": [
       "HBox(children=(IntProgress(value=0, max=1500), HTML(value='')))"
      ]
     },
     "metadata": {},
     "output_type": "display_data"
    },
    {
     "name": "stdout",
     "output_type": "stream",
     "text": [
      "\n",
      "Validation PSNR: 13.910496084655563\n"
     ]
    },
    {
     "data": {
      "application/vnd.jupyter.widget-view+json": {
       "model_id": "bc1ddafee8ad457cba7410068b5bb61b",
       "version_major": 2,
       "version_minor": 0
      },
      "text/plain": [
       "HBox(children=(IntProgress(value=0, max=1750), HTML(value='')))"
      ]
     },
     "metadata": {},
     "output_type": "display_data"
    },
    {
     "name": "stdout",
     "output_type": "stream",
     "text": [
      "\n",
      "Epoch 10\n",
      "Training loss: 0.6511988655669348\n"
     ]
    },
    {
     "data": {
      "application/vnd.jupyter.widget-view+json": {
       "model_id": "8f8f972c4dac44a2814a24cee47c4fec",
       "version_major": 2,
       "version_minor": 0
      },
      "text/plain": [
       "HBox(children=(IntProgress(value=0, max=1500), HTML(value='')))"
      ]
     },
     "metadata": {},
     "output_type": "display_data"
    },
    {
     "name": "stdout",
     "output_type": "stream",
     "text": [
      "\n",
      "Validation PSNR: 14.229609383014415\n"
     ]
    },
    {
     "data": {
      "application/vnd.jupyter.widget-view+json": {
       "model_id": "b7b39c3ce97a41f297f85fa44e05546d",
       "version_major": 2,
       "version_minor": 0
      },
      "text/plain": [
       "HBox(children=(IntProgress(value=0, max=1750), HTML(value='')))"
      ]
     },
     "metadata": {},
     "output_type": "display_data"
    },
    {
     "name": "stdout",
     "output_type": "stream",
     "text": [
      "\n",
      "Epoch 11\n",
      "Training loss: 0.6339321947608675\n"
     ]
    },
    {
     "data": {
      "application/vnd.jupyter.widget-view+json": {
       "model_id": "3a2b9dfb8dfd481681d2fdd044c491d1",
       "version_major": 2,
       "version_minor": 0
      },
      "text/plain": [
       "HBox(children=(IntProgress(value=0, max=1500), HTML(value='')))"
      ]
     },
     "metadata": {},
     "output_type": "display_data"
    },
    {
     "name": "stdout",
     "output_type": "stream",
     "text": [
      "\n",
      "Validation PSNR: 14.135191231818554\n"
     ]
    },
    {
     "data": {
      "application/vnd.jupyter.widget-view+json": {
       "model_id": "105b8489b5584b099ff53dd8a363f644",
       "version_major": 2,
       "version_minor": 0
      },
      "text/plain": [
       "HBox(children=(IntProgress(value=0, max=1750), HTML(value='')))"
      ]
     },
     "metadata": {},
     "output_type": "display_data"
    },
    {
     "name": "stdout",
     "output_type": "stream",
     "text": [
      "\n",
      "Epoch 12\n",
      "Training loss: 0.6176373557703836\n"
     ]
    },
    {
     "data": {
      "application/vnd.jupyter.widget-view+json": {
       "model_id": "26e763999e0c4fc6b44f1de66ec80aff",
       "version_major": 2,
       "version_minor": 0
      },
      "text/plain": [
       "HBox(children=(IntProgress(value=0, max=1500), HTML(value='')))"
      ]
     },
     "metadata": {},
     "output_type": "display_data"
    },
    {
     "name": "stdout",
     "output_type": "stream",
     "text": [
      "\n",
      "Validation PSNR: 14.438512803746503\n"
     ]
    },
    {
     "data": {
      "application/vnd.jupyter.widget-view+json": {
       "model_id": "05c412c0d0ce403bb6ef8db8b2dee6ad",
       "version_major": 2,
       "version_minor": 0
      },
      "text/plain": [
       "HBox(children=(IntProgress(value=0, max=1750), HTML(value='')))"
      ]
     },
     "metadata": {},
     "output_type": "display_data"
    },
    {
     "name": "stdout",
     "output_type": "stream",
     "text": [
      "\n",
      "Epoch 13\n",
      "Training loss: 0.5958799731050218\n"
     ]
    },
    {
     "data": {
      "application/vnd.jupyter.widget-view+json": {
       "model_id": "aaf983da8dfd459baccbcb9ec4ab506c",
       "version_major": 2,
       "version_minor": 0
      },
      "text/plain": [
       "HBox(children=(IntProgress(value=0, max=1500), HTML(value='')))"
      ]
     },
     "metadata": {},
     "output_type": "display_data"
    },
    {
     "name": "stdout",
     "output_type": "stream",
     "text": [
      "\n",
      "Validation PSNR: 14.591794423063831\n"
     ]
    },
    {
     "data": {
      "application/vnd.jupyter.widget-view+json": {
       "model_id": "e5591e4e473448e5b1e7c1a9589aaa1b",
       "version_major": 2,
       "version_minor": 0
      },
      "text/plain": [
       "HBox(children=(IntProgress(value=0, max=1750), HTML(value='')))"
      ]
     },
     "metadata": {},
     "output_type": "display_data"
    },
    {
     "name": "stdout",
     "output_type": "stream",
     "text": [
      "\n",
      "Epoch 14\n",
      "Training loss: 0.5790038439546312\n"
     ]
    },
    {
     "data": {
      "application/vnd.jupyter.widget-view+json": {
       "model_id": "7cad4a7e669c471f81d4dd31c2e657b8",
       "version_major": 2,
       "version_minor": 0
      },
      "text/plain": [
       "HBox(children=(IntProgress(value=0, max=1500), HTML(value='')))"
      ]
     },
     "metadata": {},
     "output_type": "display_data"
    },
    {
     "name": "stdout",
     "output_type": "stream",
     "text": [
      "\n",
      "Validation PSNR: 14.623762009399373\n"
     ]
    },
    {
     "data": {
      "application/vnd.jupyter.widget-view+json": {
       "model_id": "5de1e2c96d2949f7a0739ca6346da4e3",
       "version_major": 2,
       "version_minor": 0
      },
      "text/plain": [
       "HBox(children=(IntProgress(value=0, max=1750), HTML(value='')))"
      ]
     },
     "metadata": {},
     "output_type": "display_data"
    },
    {
     "name": "stdout",
     "output_type": "stream",
     "text": [
      "\n",
      "Epoch 15\n",
      "Training loss: 0.5666462978294917\n"
     ]
    },
    {
     "data": {
      "application/vnd.jupyter.widget-view+json": {
       "model_id": "2629633c8f2740758af47c354a84a0bc",
       "version_major": 2,
       "version_minor": 0
      },
      "text/plain": [
       "HBox(children=(IntProgress(value=0, max=1500), HTML(value='')))"
      ]
     },
     "metadata": {},
     "output_type": "display_data"
    },
    {
     "name": "stdout",
     "output_type": "stream",
     "text": [
      "\n",
      "Validation PSNR: 14.796149295445018\n"
     ]
    },
    {
     "data": {
      "application/vnd.jupyter.widget-view+json": {
       "model_id": "5d3f23205e7843dfa3a84ea5d6b1127f",
       "version_major": 2,
       "version_minor": 0
      },
      "text/plain": [
       "HBox(children=(IntProgress(value=0, max=1750), HTML(value='')))"
      ]
     },
     "metadata": {},
     "output_type": "display_data"
    },
    {
     "name": "stdout",
     "output_type": "stream",
     "text": [
      "\n",
      "Epoch 16\n",
      "Training loss: 0.5538654321432114\n"
     ]
    },
    {
     "data": {
      "application/vnd.jupyter.widget-view+json": {
       "model_id": "1e540fb0fe6c452b912abdc84a82da31",
       "version_major": 2,
       "version_minor": 0
      },
      "text/plain": [
       "HBox(children=(IntProgress(value=0, max=1500), HTML(value='')))"
      ]
     },
     "metadata": {},
     "output_type": "display_data"
    },
    {
     "name": "stdout",
     "output_type": "stream",
     "text": [
      "\n",
      "Validation PSNR: 14.992192732680513\n"
     ]
    },
    {
     "data": {
      "application/vnd.jupyter.widget-view+json": {
       "model_id": "1538231e5f6e471287084ef33443f4c3",
       "version_major": 2,
       "version_minor": 0
      },
      "text/plain": [
       "HBox(children=(IntProgress(value=0, max=1750), HTML(value='')))"
      ]
     },
     "metadata": {},
     "output_type": "display_data"
    },
    {
     "name": "stdout",
     "output_type": "stream",
     "text": [
      "\n",
      "Epoch 17\n",
      "Training loss: 0.5389305361935071\n"
     ]
    },
    {
     "data": {
      "application/vnd.jupyter.widget-view+json": {
       "model_id": "60c003930e1d4a3cb65cbe2851d9ea1c",
       "version_major": 2,
       "version_minor": 0
      },
      "text/plain": [
       "HBox(children=(IntProgress(value=0, max=1500), HTML(value='')))"
      ]
     },
     "metadata": {},
     "output_type": "display_data"
    },
    {
     "name": "stdout",
     "output_type": "stream",
     "text": [
      "\n",
      "Validation PSNR: 15.272812821199546\n"
     ]
    },
    {
     "data": {
      "application/vnd.jupyter.widget-view+json": {
       "model_id": "f099ee09364d484d86bd654e50b2d066",
       "version_major": 2,
       "version_minor": 0
      },
      "text/plain": [
       "HBox(children=(IntProgress(value=0, max=1750), HTML(value='')))"
      ]
     },
     "metadata": {},
     "output_type": "display_data"
    },
    {
     "name": "stdout",
     "output_type": "stream",
     "text": [
      "\n",
      "Epoch 18\n",
      "Training loss: 0.5268234277623041\n"
     ]
    },
    {
     "data": {
      "application/vnd.jupyter.widget-view+json": {
       "model_id": "b6bb2deb3b304ae1a6a1b3e8a896f012",
       "version_major": 2,
       "version_minor": 0
      },
      "text/plain": [
       "HBox(children=(IntProgress(value=0, max=1500), HTML(value='')))"
      ]
     },
     "metadata": {},
     "output_type": "display_data"
    },
    {
     "name": "stdout",
     "output_type": "stream",
     "text": [
      "\n",
      "Validation PSNR: 15.263700919066878\n"
     ]
    },
    {
     "data": {
      "application/vnd.jupyter.widget-view+json": {
       "model_id": "b93bfcc142d9485384253e66cfd82012",
       "version_major": 2,
       "version_minor": 0
      },
      "text/plain": [
       "HBox(children=(IntProgress(value=0, max=1750), HTML(value='')))"
      ]
     },
     "metadata": {},
     "output_type": "display_data"
    },
    {
     "name": "stdout",
     "output_type": "stream",
     "text": [
      "\n",
      "Epoch 19\n",
      "Training loss: 0.5144130053435053\n"
     ]
    },
    {
     "data": {
      "application/vnd.jupyter.widget-view+json": {
       "model_id": "2aa6ff253c774baa9d6379dc98e865ab",
       "version_major": 2,
       "version_minor": 0
      },
      "text/plain": [
       "HBox(children=(IntProgress(value=0, max=1500), HTML(value='')))"
      ]
     },
     "metadata": {},
     "output_type": "display_data"
    },
    {
     "name": "stdout",
     "output_type": "stream",
     "text": [
      "\n",
      "Validation PSNR: 15.503434372734208\n"
     ]
    },
    {
     "data": {
      "application/vnd.jupyter.widget-view+json": {
       "model_id": "2246a70b3241415abd1da073101971f5",
       "version_major": 2,
       "version_minor": 0
      },
      "text/plain": [
       "HBox(children=(IntProgress(value=0, max=1750), HTML(value='')))"
      ]
     },
     "metadata": {},
     "output_type": "display_data"
    },
    {
     "name": "stdout",
     "output_type": "stream",
     "text": [
      "\n",
      "Epoch 20\n",
      "Training loss: 0.5023371081096786\n"
     ]
    },
    {
     "data": {
      "application/vnd.jupyter.widget-view+json": {
       "model_id": "4fd1d02155c847c5a02b26354ed480bb",
       "version_major": 2,
       "version_minor": 0
      },
      "text/plain": [
       "HBox(children=(IntProgress(value=0, max=1500), HTML(value='')))"
      ]
     },
     "metadata": {},
     "output_type": "display_data"
    },
    {
     "name": "stdout",
     "output_type": "stream",
     "text": [
      "\n",
      "Validation PSNR: 15.177398283063228\n"
     ]
    },
    {
     "data": {
      "application/vnd.jupyter.widget-view+json": {
       "model_id": "879ba0bfb6664a878623aafd8bedba0d",
       "version_major": 2,
       "version_minor": 0
      },
      "text/plain": [
       "HBox(children=(IntProgress(value=0, max=1750), HTML(value='')))"
      ]
     },
     "metadata": {},
     "output_type": "display_data"
    },
    {
     "name": "stdout",
     "output_type": "stream",
     "text": [
      "\n",
      "Epoch 21\n",
      "Training loss: 0.49330180181775773\n"
     ]
    },
    {
     "data": {
      "application/vnd.jupyter.widget-view+json": {
       "model_id": "7db89c095f274113a18c3e9c09723ee5",
       "version_major": 2,
       "version_minor": 0
      },
      "text/plain": [
       "HBox(children=(IntProgress(value=0, max=1500), HTML(value='')))"
      ]
     },
     "metadata": {},
     "output_type": "display_data"
    },
    {
     "name": "stdout",
     "output_type": "stream",
     "text": [
      "\n",
      "Validation PSNR: 15.74837598843546\n"
     ]
    },
    {
     "data": {
      "application/vnd.jupyter.widget-view+json": {
       "model_id": "3f3a7da2ccb145a3baf0cbef4db2f171",
       "version_major": 2,
       "version_minor": 0
      },
      "text/plain": [
       "HBox(children=(IntProgress(value=0, max=1750), HTML(value='')))"
      ]
     },
     "metadata": {},
     "output_type": "display_data"
    },
    {
     "name": "stdout",
     "output_type": "stream",
     "text": [
      "\n",
      "Epoch 22\n",
      "Training loss: 0.4889867992571422\n"
     ]
    },
    {
     "data": {
      "application/vnd.jupyter.widget-view+json": {
       "model_id": "c386feb164244f6d9b9642cc54fcdf12",
       "version_major": 2,
       "version_minor": 0
      },
      "text/plain": [
       "HBox(children=(IntProgress(value=0, max=1500), HTML(value='')))"
      ]
     },
     "metadata": {},
     "output_type": "display_data"
    },
    {
     "name": "stdout",
     "output_type": "stream",
     "text": [
      "\n",
      "Validation PSNR: 15.50764493646962\n"
     ]
    },
    {
     "data": {
      "application/vnd.jupyter.widget-view+json": {
       "model_id": "0cf05d41ee17490c88a17e7f4ea31a5d",
       "version_major": 2,
       "version_minor": 0
      },
      "text/plain": [
       "HBox(children=(IntProgress(value=0, max=1750), HTML(value='')))"
      ]
     },
     "metadata": {},
     "output_type": "display_data"
    },
    {
     "name": "stdout",
     "output_type": "stream",
     "text": [
      "\n",
      "Epoch 23\n",
      "Training loss: 0.4732492472870009\n"
     ]
    },
    {
     "data": {
      "application/vnd.jupyter.widget-view+json": {
       "model_id": "431cfe641749487fb3fea138fac8266b",
       "version_major": 2,
       "version_minor": 0
      },
      "text/plain": [
       "HBox(children=(IntProgress(value=0, max=1500), HTML(value='')))"
      ]
     },
     "metadata": {},
     "output_type": "display_data"
    },
    {
     "name": "stdout",
     "output_type": "stream",
     "text": [
      "\n",
      "Validation PSNR: 15.903432814510873\n"
     ]
    },
    {
     "data": {
      "application/vnd.jupyter.widget-view+json": {
       "model_id": "5e91102a17cc4b9887c3741b337b9589",
       "version_major": 2,
       "version_minor": 0
      },
      "text/plain": [
       "HBox(children=(IntProgress(value=0, max=1750), HTML(value='')))"
      ]
     },
     "metadata": {},
     "output_type": "display_data"
    },
    {
     "name": "stdout",
     "output_type": "stream",
     "text": [
      "\n",
      "Epoch 24\n",
      "Training loss: 0.4707472071307046\n"
     ]
    },
    {
     "data": {
      "application/vnd.jupyter.widget-view+json": {
       "model_id": "b274c472d38a4e0e93a42874b8c4b910",
       "version_major": 2,
       "version_minor": 0
      },
      "text/plain": [
       "HBox(children=(IntProgress(value=0, max=1500), HTML(value='')))"
      ]
     },
     "metadata": {},
     "output_type": "display_data"
    },
    {
     "name": "stdout",
     "output_type": "stream",
     "text": [
      "\n",
      "Validation PSNR: 15.049976209583306\n"
     ]
    },
    {
     "data": {
      "application/vnd.jupyter.widget-view+json": {
       "model_id": "b05601b5f4044e3b93f62879c674dd5d",
       "version_major": 2,
       "version_minor": 0
      },
      "text/plain": [
       "HBox(children=(IntProgress(value=0, max=1750), HTML(value='')))"
      ]
     },
     "metadata": {},
     "output_type": "display_data"
    },
    {
     "name": "stdout",
     "output_type": "stream",
     "text": [
      "\n",
      "Epoch 25\n",
      "Training loss: 0.47028747284412387\n"
     ]
    },
    {
     "data": {
      "application/vnd.jupyter.widget-view+json": {
       "model_id": "fb745b8f337a4c1cb8f7c9f89b813e71",
       "version_major": 2,
       "version_minor": 0
      },
      "text/plain": [
       "HBox(children=(IntProgress(value=0, max=1500), HTML(value='')))"
      ]
     },
     "metadata": {},
     "output_type": "display_data"
    },
    {
     "name": "stdout",
     "output_type": "stream",
     "text": [
      "\n",
      "Validation PSNR: 16.28601680766952\n"
     ]
    }
   ],
   "source": [
    "net = Net()\n",
    "if use_gpu:\n",
    "    net = net.cuda()\n",
    "\n",
    "\n",
    "criterion = nn.MSELoss()\n",
    "optimizer = optim.Adam(net.parameters(), lr=LR, betas=(0.9, 0.999), eps=1e-8)\n",
    "\n",
    "train(net, train_loader, validation_loader, criterion, optimizer)"
   ]
  },
  {
   "cell_type": "code",
   "execution_count": 22,
   "metadata": {},
   "outputs": [],
   "source": [
    "torch.save(net.state_dict(), 'CSI.pt')"
   ]
  },
  {
   "cell_type": "code",
   "execution_count": 8,
   "metadata": {},
   "outputs": [
    {
     "data": {
      "text/plain": [
       "Net(\n",
       "  (conv1): Sequential(\n",
       "    (0): Conv2d(1, 32, kernel_size=(9, 9), stride=(1, 1), padding=(4, 4))\n",
       "    (1): BatchNorm2d(32, eps=1e-05, momentum=0.1, affine=True, track_running_stats=True)\n",
       "    (2): ReLU()\n",
       "  )\n",
       "  (conv2): Sequential(\n",
       "    (0): Conv2d(32, 64, kernel_size=(3, 3), stride=(2, 2), padding=(1, 1))\n",
       "    (1): BatchNorm2d(64, eps=1e-05, momentum=0.1, affine=True, track_running_stats=True)\n",
       "    (2): ReLU()\n",
       "  )\n",
       "  (conv3): Sequential(\n",
       "    (0): Conv2d(64, 128, kernel_size=(3, 3), stride=(2, 2), padding=(1, 1))\n",
       "    (1): BatchNorm2d(128, eps=1e-05, momentum=0.1, affine=True, track_running_stats=True)\n",
       "    (2): ReLU()\n",
       "  )\n",
       "  (residual): Sequential(\n",
       "    (0): Res(\n",
       "      (conv1): Sequential(\n",
       "        (0): Conv2d(128, 128, kernel_size=(3, 3), stride=(1, 1), padding=(1, 1))\n",
       "        (1): BatchNorm2d(128, eps=1e-05, momentum=0.1, affine=True, track_running_stats=True)\n",
       "      )\n",
       "      (conv2): Sequential(\n",
       "        (0): Conv2d(128, 128, kernel_size=(3, 3), stride=(1, 1), padding=(1, 1))\n",
       "        (1): BatchNorm2d(128, eps=1e-05, momentum=0.1, affine=True, track_running_stats=True)\n",
       "      )\n",
       "    )\n",
       "    (1): Res(\n",
       "      (conv1): Sequential(\n",
       "        (0): Conv2d(128, 128, kernel_size=(3, 3), stride=(1, 1), padding=(1, 1))\n",
       "        (1): BatchNorm2d(128, eps=1e-05, momentum=0.1, affine=True, track_running_stats=True)\n",
       "      )\n",
       "      (conv2): Sequential(\n",
       "        (0): Conv2d(128, 128, kernel_size=(3, 3), stride=(1, 1), padding=(1, 1))\n",
       "        (1): BatchNorm2d(128, eps=1e-05, momentum=0.1, affine=True, track_running_stats=True)\n",
       "      )\n",
       "    )\n",
       "    (2): Res(\n",
       "      (conv1): Sequential(\n",
       "        (0): Conv2d(128, 128, kernel_size=(3, 3), stride=(1, 1), padding=(1, 1))\n",
       "        (1): BatchNorm2d(128, eps=1e-05, momentum=0.1, affine=True, track_running_stats=True)\n",
       "      )\n",
       "      (conv2): Sequential(\n",
       "        (0): Conv2d(128, 128, kernel_size=(3, 3), stride=(1, 1), padding=(1, 1))\n",
       "        (1): BatchNorm2d(128, eps=1e-05, momentum=0.1, affine=True, track_running_stats=True)\n",
       "      )\n",
       "    )\n",
       "    (3): Res(\n",
       "      (conv1): Sequential(\n",
       "        (0): Conv2d(128, 128, kernel_size=(3, 3), stride=(1, 1), padding=(1, 1))\n",
       "        (1): BatchNorm2d(128, eps=1e-05, momentum=0.1, affine=True, track_running_stats=True)\n",
       "      )\n",
       "      (conv2): Sequential(\n",
       "        (0): Conv2d(128, 128, kernel_size=(3, 3), stride=(1, 1), padding=(1, 1))\n",
       "        (1): BatchNorm2d(128, eps=1e-05, momentum=0.1, affine=True, track_running_stats=True)\n",
       "      )\n",
       "    )\n",
       "    (4): Res(\n",
       "      (conv1): Sequential(\n",
       "        (0): Conv2d(128, 128, kernel_size=(3, 3), stride=(1, 1), padding=(1, 1))\n",
       "        (1): BatchNorm2d(128, eps=1e-05, momentum=0.1, affine=True, track_running_stats=True)\n",
       "      )\n",
       "      (conv2): Sequential(\n",
       "        (0): Conv2d(128, 128, kernel_size=(3, 3), stride=(1, 1), padding=(1, 1))\n",
       "        (1): BatchNorm2d(128, eps=1e-05, momentum=0.1, affine=True, track_running_stats=True)\n",
       "      )\n",
       "    )\n",
       "  )\n",
       "  (deconv1): Sequential(\n",
       "    (0): ConvTranspose2d(128, 64, kernel_size=(4, 4), stride=(2, 2), padding=(1, 1))\n",
       "    (1): BatchNorm2d(64, eps=1e-05, momentum=0.1, affine=True, track_running_stats=True)\n",
       "    (2): ReLU()\n",
       "  )\n",
       "  (deconv2): Sequential(\n",
       "    (0): ConvTranspose2d(64, 32, kernel_size=(4, 4), stride=(2, 2), padding=(1, 1))\n",
       "    (1): BatchNorm2d(32, eps=1e-05, momentum=0.1, affine=True, track_running_stats=True)\n",
       "    (2): ReLU()\n",
       "  )\n",
       "  (final): Sequential(\n",
       "    (0): Conv2d(32, 3, kernel_size=(9, 9), stride=(1, 1), padding=(4, 4))\n",
       "    (1): BatchNorm2d(3, eps=1e-05, momentum=0.1, affine=True, track_running_stats=True)\n",
       "    (2): Tanh()\n",
       "  )\n",
       ")"
      ]
     },
     "execution_count": 8,
     "metadata": {},
     "output_type": "execute_result"
    }
   ],
   "source": [
    "net = Net()\n",
    "device = torch.device('cuda')\n",
    "net.load_state_dict(torch.load('CSI.pt'))\n",
    "net.to(device)"
   ]
  },
  {
   "cell_type": "code",
   "execution_count": 9,
   "metadata": {},
   "outputs": [],
   "source": [
    "def test(model, test_loader, visualize=False, samples=1):\n",
    "    model.train()\n",
    "    test_loss = 0\n",
    "    for edges, icons in tqdm(test_loader):\n",
    "        if use_gpu:\n",
    "            edges = edges.cuda()\n",
    "        \n",
    "        res = model(edges.float())\n",
    "        res = res.detach().cpu().numpy()[0,:,:,:]\n",
    "        icons = icons.float().numpy()[0, :, :, :]\n",
    "        test_loss += psnr(res, icons)\n",
    "        \n",
    "        if visualize and samples > 0:\n",
    "            samples -= 1\n",
    "            res = res.transpose((1, 2, 0))\n",
    "            res = res.clip(0, 1)\n",
    "            icons = icons.transpose((1, 2, 0))\n",
    "            edges = edges.detach().cpu().numpy()[0, 0, :, :]\n",
    "            plt.imshow(edges, cmap='gray')\n",
    "            plt.axis('off')\n",
    "            plt.show()\n",
    "            plt.imshow(res)\n",
    "            plt.axis('off')\n",
    "            plt.show()\n",
    "            plt.imshow(icons)\n",
    "            plt.axis('off')\n",
    "            plt.show()\n",
    "            \n",
    "    print(f\"Test PSNR is {test_loss / len(test_loader)}\")"
   ]
  },
  {
   "cell_type": "code",
   "execution_count": 10,
   "metadata": {
    "scrolled": false
   },
   "outputs": [
    {
     "data": {
      "application/vnd.jupyter.widget-view+json": {
       "model_id": "52c04741154b4915bd2d8e3e5fb36f0f",
       "version_major": 2,
       "version_minor": 0
      },
      "text/plain": [
       "HBox(children=(IntProgress(value=0, max=1500), HTML(value='')))"
      ]
     },
     "metadata": {},
     "output_type": "display_data"
    },
    {
     "data": {
      "image/png": "[encoded data removed]",
      "text/plain": [
       "<Figure size 432x288 with 1 Axes>"
      ]
     },
     "metadata": {
      "needs_background": "light"
     },
     "output_type": "display_data"
    },
    {
     "data": {
      "image/png": "[encoded data removed]",
      "text/plain": [
       "<Figure size 432x288 with 1 Axes>"
      ]
     },
     "metadata": {
      "needs_background": "light"
     },
     "output_type": "display_data"
    },
    {
     "data": {
      "image/png": "[encoded data removed]",
      "text/plain": [
       "<Figure size 432x288 with 1 Axes>"
      ]
     },
     "metadata": {
      "needs_background": "light"
     },
     "output_type": "display_data"
    },
    {
     "name": "stdout",
     "output_type": "stream",
     "text": [
      "\n",
      "Test PSNR is 14.252988022412756\n"
     ]
    }
   ],
   "source": [
    "test(net, test_loader, visualize=True, samples=1)"
   ]
  }
 ],
 "metadata": {
  "kernelspec": {
   "display_name": "Python 3",
   "language": "python",
   "name": "python3"
  },
  "language_info": {
   "codemirror_mode": {
    "name": "ipython",
    "version": 3
   },
   "file_extension": ".py",
   "mimetype": "text/x-python",
   "name": "python",
   "nbconvert_exporter": "python",
   "pygments_lexer": "ipython3",
   "version": "3.7.4"
  },
  "widgets": {
   "application/vnd.jupyter.widget-state+json": {
    "state": {
     "00aa3efe4afa4b7ba371f33e2c19f060": {
      "model_module": "@jupyter-widgets/base",
      "model_module_version": "1.2.0",
      "model_name": "LayoutModel",
      "state": {}
     },
     "00ed85812b994441a517f1aeb7a792a9": {
      "model_module": "@jupyter-widgets/controls",
      "model_module_version": "1.5.0",
      "model_name": "HTMLModel",
      "state": {
       "layout": "IPY_MODEL_d6f2d7b33b4d48c68ecc09a427fa8626",
       "style": "IPY_MODEL_e9892a69c6464166953bf8cf46632670",
       "value": " 1750/1750 [01:33&lt;00:00, 18.76it/s]"
      }
     },
     "015a43b6b9f6417fa4a8447826991a37": {
      "model_module": "@jupyter-widgets/controls",
      "model_module_version": "1.5.0",
      "model_name": "HBoxModel",
      "state": {
       "children": [
        "IPY_MODEL_381caf4382fd44989c69a75f5af279c4",
        "IPY_MODEL_b5cfbecb405f4c2d98d49ee936959c24"
       ],
       "layout": "IPY_MODEL_61348606c7004733863082a4107d2f4f"
      }
     },
     "01b80254b7884633aed7be4537bfb732": {
      "model_module": "@jupyter-widgets/base",
      "model_module_version": "1.2.0",
      "model_name": "LayoutModel",
      "state": {}
     },
     "01d94815c5724ce3b10cdbd3cf5a23d8": {
      "model_module": "@jupyter-widgets/base",
      "model_module_version": "1.2.0",
      "model_name": "LayoutModel",
      "state": {}
     },
     "0284622b57f14f6da2f9dfde2032a246": {
      "model_module": "@jupyter-widgets/controls",
      "model_module_version": "1.5.0",
      "model_name": "IntProgressModel",
      "state": {
       "bar_style": "success",
       "description": "100%",
       "layout": "IPY_MODEL_b9f459ff5ea54280981a6910a9047fb2",
       "max": 1750,
       "style": "IPY_MODEL_6855e104baf042c490bb521248e74928",
       "value": 1750
      }
     },
     "02af633c66734c7aa63165ec13c272aa": {
      "model_module": "@jupyter-widgets/controls",
      "model_module_version": "1.5.0",
      "model_name": "DescriptionStyleModel",
      "state": {
       "description_width": ""
      }
     },
     "0303fccc863d45b8b2cd20c632bbf9f0": {
      "model_module": "@jupyter-widgets/base",
      "model_module_version": "1.2.0",
      "model_name": "LayoutModel",
      "state": {}
     },
     "0355c34cb4cf4bed8246eb215694a6f2": {
      "model_module": "@jupyter-widgets/base",
      "model_module_version": "1.2.0",
      "model_name": "LayoutModel",
      "state": {}
     },
     "04042b03593245399799d522e784df80": {
      "model_module": "@jupyter-widgets/base",
      "model_module_version": "1.2.0",
      "model_name": "LayoutModel",
      "state": {}
     },
     "040f8e2cac2d4fcfa04b5bd3c00ccaa8": {
      "model_module": "@jupyter-widgets/controls",
      "model_module_version": "1.5.0",
      "model_name": "ProgressStyleModel",
      "state": {
       "description_width": "initial"
      }
     },
     "04121efe5b3f4cb7b539b1a7d1a591d0": {
      "model_module": "@jupyter-widgets/base",
      "model_module_version": "1.2.0",
      "model_name": "LayoutModel",
      "state": {}
     },
     "04a2d2ca8a2940359361cda054c374ed": {
      "model_module": "@jupyter-widgets/base",
      "model_module_version": "1.2.0",
      "model_name": "LayoutModel",
      "state": {}
     },
     "04b7c7b96314424eab4a5867fc10cc28": {
      "model_module": "@jupyter-widgets/controls",
      "model_module_version": "1.5.0",
      "model_name": "IntProgressModel",
      "state": {
       "bar_style": "success",
       "description": "100%",
       "layout": "IPY_MODEL_7ab5302c435b4f8dbbf86172ea69bc26",
       "max": 1500,
       "style": "IPY_MODEL_a9ad81a9992148e0a0cd3ff568235738",
       "value": 1500
      }
     },
     "04f7058cf0234f29a1bad37e1725123e": {
      "model_module": "@jupyter-widgets/controls",
      "model_module_version": "1.5.0",
      "model_name": "ProgressStyleModel",
      "state": {
       "description_width": "initial"
      }
     },
     "054edb9c829d4e73a8f73e546ddfa2ea": {
      "model_module": "@jupyter-widgets/controls",
      "model_module_version": "1.5.0",
      "model_name": "HTMLModel",
      "state": {
       "layout": "IPY_MODEL_0e56af9d64c74597a4028517200c1d3a",
       "style": "IPY_MODEL_13ec9ce4c6214e40b1fa12a97fa57865",
       "value": " 1750/1750 [15:05&lt;00:00,  1.93it/s]"
      }
     },
     "05c412c0d0ce403bb6ef8db8b2dee6ad": {
      "model_module": "@jupyter-widgets/controls",
      "model_module_version": "1.5.0",
      "model_name": "HBoxModel",
      "state": {
       "children": [
        "IPY_MODEL_42ba531ea9a34ee5a378260108198fd7",
        "IPY_MODEL_6338d5f86bcd469494c018d3044cb767"
       ],
       "layout": "IPY_MODEL_409542b708c5484ba1bf69a71a0a7fe5"
      }
     },
     "05d51505673d4924a327ced6b800f87a": {
      "model_module": "@jupyter-widgets/controls",
      "model_module_version": "1.5.0",
      "model_name": "DescriptionStyleModel",
      "state": {
       "description_width": ""
      }
     },
     "0614979fb86340fc86eb80b9062cabe0": {
      "model_module": "@jupyter-widgets/controls",
      "model_module_version": "1.5.0",
      "model_name": "HTMLModel",
      "state": {
       "layout": "IPY_MODEL_c8167d20c57c48d59908c149158c28b4",
       "style": "IPY_MODEL_985f5caf1c7c4e8b835688e5d8fb7c42",
       "value": " 1500/1500 [01:30&lt;00:00, 16.59it/s]"
      }
     },
     "06f5d5656a1546a9859f8a2f405a9a05": {
      "model_module": "@jupyter-widgets/base",
      "model_module_version": "1.2.0",
      "model_name": "LayoutModel",
      "state": {}
     },
     "0705a7f0307e4e8e87212175d3632626": {
      "model_module": "@jupyter-widgets/controls",
      "model_module_version": "1.5.0",
      "model_name": "DescriptionStyleModel",
      "state": {
       "description_width": ""
      }
     },
     "089718b5c05f4b83ad9ed1585b2148c8": {
      "model_module": "@jupyter-widgets/controls",
      "model_module_version": "1.5.0",
      "model_name": "IntProgressModel",
      "state": {
       "bar_style": "success",
       "description": "100%",
       "layout": "IPY_MODEL_dd613027fd3b4dd983ebdee763547b8c",
       "max": 1500,
       "style": "IPY_MODEL_1f0b1b83024647f68718a05c2f148849",
       "value": 1500
      }
     },
     "08b796c46ccc4fdd81e1daefdec620a7": {
      "model_module": "@jupyter-widgets/base",
      "model_module_version": "1.2.0",
      "model_name": "LayoutModel",
      "state": {}
     },
     "08df1c93e70b43038fb7cbe9c3118efc": {
      "model_module": "@jupyter-widgets/controls",
      "model_module_version": "1.5.0",
      "model_name": "IntProgressModel",
      "state": {
       "bar_style": "success",
       "description": "100%",
       "layout": "IPY_MODEL_6354b66d2e8a4feea83e50cb17dc1d7e",
       "max": 1500,
       "style": "IPY_MODEL_7bc7bb7b43524a56a9bbb54221c61ffa",
       "value": 1500
      }
     },
     "08e5bf16ae514a618b96e30982c66d4f": {
      "model_module": "@jupyter-widgets/controls",
      "model_module_version": "1.5.0",
      "model_name": "HTMLModel",
      "state": {
       "layout": "IPY_MODEL_8a58acd335684ed09b9ed85cb865fdd6",
       "style": "IPY_MODEL_aa28ff9be376432e986e4941fb41cc54",
       "value": " 1750/1750 [01:29&lt;00:00, 19.46it/s]"
      }
     },
     "08f1b76a2e6141829d1b3e0700aca7fc": {
      "model_module": "@jupyter-widgets/base",
      "model_module_version": "1.2.0",
      "model_name": "LayoutModel",
      "state": {}
     },
     "0907e3695040488dbf03bb3f031ea831": {
      "model_module": "@jupyter-widgets/base",
      "model_module_version": "1.2.0",
      "model_name": "LayoutModel",
      "state": {}
     },
     "0970e3f79a7149b4b5c3af3d1bd881c1": {
      "model_module": "@jupyter-widgets/base",
      "model_module_version": "1.2.0",
      "model_name": "LayoutModel",
      "state": {}
     },
     "09bb20ce43224b6e858fd0232c9b9d42": {
      "model_module": "@jupyter-widgets/controls",
      "model_module_version": "1.5.0",
      "model_name": "IntProgressModel",
      "state": {
       "bar_style": "success",
       "description": "100%",
       "layout": "IPY_MODEL_839d3a7b12764eaeb400bd7d9d8bb15d",
       "max": 1750,
       "style": "IPY_MODEL_931a5f717fb44ad6bbd5bf71d995197e",
       "value": 1750
      }
     },
     "09cb8ec9d4cd4944bb80839d10a586f4": {
      "model_module": "@jupyter-widgets/base",
      "model_module_version": "1.2.0",
      "model_name": "LayoutModel",
      "state": {}
     },
     "09e8f021a4c14a40a5edc4088c26692a": {
      "model_module": "@jupyter-widgets/controls",
      "model_module_version": "1.5.0",
      "model_name": "IntProgressModel",
      "state": {
       "bar_style": "success",
       "description": "100%",
       "layout": "IPY_MODEL_ff2e5302c91742f28e7192207841f4f1",
       "max": 1750,
       "style": "IPY_MODEL_2f8b051f850d405d8e0f93e73e367c9c",
       "value": 1750
      }
     },
     "0a3f059c11fd45578290d06de98cc697": {
      "model_module": "@jupyter-widgets/controls",
      "model_module_version": "1.5.0",
      "model_name": "HBoxModel",
      "state": {
       "children": [
        "IPY_MODEL_46c3b3a7051f4179970861aa06d9d814",
        "IPY_MODEL_a8525df90b764805a43973b3f11a2498"
       ],
       "layout": "IPY_MODEL_32c7c614b69141e887815c1764db496f"
      }
     },
     "0abe341800604eb98c6eb0db354cf991": {
      "model_module": "@jupyter-widgets/controls",
      "model_module_version": "1.5.0",
      "model_name": "ProgressStyleModel",
      "state": {
       "description_width": "initial"
      }
     },
     "0b294628e2754878b3d7cea76d0e21ab": {
      "model_module": "@jupyter-widgets/base",
      "model_module_version": "1.2.0",
      "model_name": "LayoutModel",
      "state": {}
     },
     "0b41a4b2da334159b85a25d86242ecb3": {
      "model_module": "@jupyter-widgets/controls",
      "model_module_version": "1.5.0",
      "model_name": "IntProgressModel",
      "state": {
       "bar_style": "success",
       "description": "100%",
       "layout": "IPY_MODEL_3cbe94fc8bf842048a899ea36ef4609b",
       "max": 1500,
       "style": "IPY_MODEL_3b7f141adaba46e2a2de28c564c03adc",
       "value": 1500
      }
     },
     "0bafff64ca184aa9b180a594a6f2f0ad": {
      "model_module": "@jupyter-widgets/controls",
      "model_module_version": "1.5.0",
      "model_name": "HTMLModel",
      "state": {
       "layout": "IPY_MODEL_e884959e972e43ce8759e4fbdf121521",
       "style": "IPY_MODEL_825615c32ab748dca113c14884561280",
       "value": " 1750/1750 [11:26&lt;00:00,  2.55it/s]"
      }
     },
     "0bc0d4317e1c4caf90f8c8aa02d0d80e": {
      "model_module": "@jupyter-widgets/controls",
      "model_module_version": "1.5.0",
      "model_name": "DescriptionStyleModel",
      "state": {
       "description_width": ""
      }
     },
     "0bd4477bc4814545b730ecf29d48d43d": {
      "model_module": "@jupyter-widgets/controls",
      "model_module_version": "1.5.0",
      "model_name": "HTMLModel",
      "state": {
       "layout": "IPY_MODEL_785dd4db02304242b741128ce13791a8",
       "style": "IPY_MODEL_de1e3b806f4742d2a2019d6d5741e784",
       "value": " 1750/1750 [17:32&lt;00:00,  1.66it/s]"
      }
     },
     "0c1f89546a8b4d7da8c8555caa5af9e3": {
      "model_module": "@jupyter-widgets/controls",
      "model_module_version": "1.5.0",
      "model_name": "IntProgressModel",
      "state": {
       "bar_style": "success",
       "description": "100%",
       "layout": "IPY_MODEL_3404ec76819e41e797a9ba6fb276e3af",
       "max": 1750,
       "style": "IPY_MODEL_259d8dd0ecd3443fb7b6883428ec18bc",
       "value": 1750
      }
     },
     "0c49409bf7e44facb38c499390fdaa85": {
      "model_module": "@jupyter-widgets/controls",
      "model_module_version": "1.5.0",
      "model_name": "DescriptionStyleModel",
      "state": {
       "description_width": ""
      }
     },
     "0cf05d41ee17490c88a17e7f4ea31a5d": {
      "model_module": "@jupyter-widgets/controls",
      "model_module_version": "1.5.0",
      "model_name": "HBoxModel",
      "state": {
       "children": [
        "IPY_MODEL_8ef072ee4d9c4f8e8ab543045e61e049",
        "IPY_MODEL_8f09593678814d099a90183b4c042b2b"
       ],
       "layout": "IPY_MODEL_7c36ed1279064aafb052c0c0c249f65f"
      }
     },
     "0cf38e62b98843cc83381d47c69156f2": {
      "model_module": "@jupyter-widgets/controls",
      "model_module_version": "1.5.0",
      "model_name": "HTMLModel",
      "state": {
       "layout": "IPY_MODEL_8586f924f9164625b7a41b47260f47c2",
       "style": "IPY_MODEL_c797278283b7493ab06024e051e8879e",
       "value": " 1750/1750 [03:46&lt;00:00,  7.74it/s]"
      }
     },
     "0d00f58cabb24d8e8d26490b0fb25976": {
      "model_module": "@jupyter-widgets/controls",
      "model_module_version": "1.5.0",
      "model_name": "HBoxModel",
      "state": {
       "children": [
        "IPY_MODEL_6139f635d3284b4ea0f4a9e11bdab967",
        "IPY_MODEL_778dd8dbb498461f97ca74fbfcd5a9f8"
       ],
       "layout": "IPY_MODEL_a4389587d92643c79153e8318470310a"
      }
     },
     "0d2db855e688467fb799e85fe1016db7": {
      "model_module": "@jupyter-widgets/controls",
      "model_module_version": "1.5.0",
      "model_name": "HTMLModel",
      "state": {
       "layout": "IPY_MODEL_0970e3f79a7149b4b5c3af3d1bd881c1",
       "style": "IPY_MODEL_fdead1188c0b4d29a7d30195fe3f9bd5",
       "value": " 1750/1750 [02:50&lt;00:00, 10.24it/s]"
      }
     },
     "0d48566359a84e1a84523e4926c48a1f": {
      "model_module": "@jupyter-widgets/controls",
      "model_module_version": "1.5.0",
      "model_name": "DescriptionStyleModel",
      "state": {
       "description_width": ""
      }
     },
     "0d6f569c67574613a2876a35366d1a2c": {
      "model_module": "@jupyter-widgets/controls",
      "model_module_version": "1.5.0",
      "model_name": "DescriptionStyleModel",
      "state": {
       "description_width": ""
      }
     },
     "0dc31457888c4daebc7db4d302ecb535": {
      "model_module": "@jupyter-widgets/base",
      "model_module_version": "1.2.0",
      "model_name": "LayoutModel",
      "state": {}
     },
     "0dc712d2ed4a4aafae07efa3a3d58163": {
      "model_module": "@jupyter-widgets/controls",
      "model_module_version": "1.5.0",
      "model_name": "HBoxModel",
      "state": {
       "children": [
        "IPY_MODEL_64d7f19890f94beebb2f4ab4e495d3ca",
        "IPY_MODEL_187cbfa88f5c4bcf824ee3501224cec7"
       ],
       "layout": "IPY_MODEL_e62bfec933e44dc0bf61b6d440383728"
      }
     },
     "0de5bcea2d0f4720afe213351a4c23cf": {
      "model_module": "@jupyter-widgets/base",
      "model_module_version": "1.2.0",
      "model_name": "LayoutModel",
      "state": {}
     },
     "0e56af9d64c74597a4028517200c1d3a": {
      "model_module": "@jupyter-widgets/base",
      "model_module_version": "1.2.0",
      "model_name": "LayoutModel",
      "state": {}
     },
     "0e5b1cdb9c2f417f9b49042bce6ad729": {
      "model_module": "@jupyter-widgets/base",
      "model_module_version": "1.2.0",
      "model_name": "LayoutModel",
      "state": {}
     },
     "0e7aacf9eb624a27912cd3c84708b4e9": {
      "model_module": "@jupyter-widgets/base",
      "model_module_version": "1.2.0",
      "model_name": "LayoutModel",
      "state": {}
     },
     "0ede7d9bcfc64522a17447b75b94d06d": {
      "model_module": "@jupyter-widgets/controls",
      "model_module_version": "1.5.0",
      "model_name": "HTMLModel",
      "state": {
       "layout": "IPY_MODEL_2cc088e330404376a3012c8d03f39568",
       "style": "IPY_MODEL_a8485e5ea0f04fa8a7b76e372af62a56",
       "value": " 1750/1750 [02:58&lt;00:00,  9.78it/s]"
      }
     },
     "0efd641ac89f4c6e94f006a19d2e92ab": {
      "model_module": "@jupyter-widgets/base",
      "model_module_version": "1.2.0",
      "model_name": "LayoutModel",
      "state": {}
     },
     "0f19e8ea6c1a44f1ab9c7d555c0a5f46": {
      "model_module": "@jupyter-widgets/controls",
      "model_module_version": "1.5.0",
      "model_name": "HBoxModel",
      "state": {
       "children": [
        "IPY_MODEL_114d55bd7b024af1b87c3a7c3ab202c2",
        "IPY_MODEL_6a4ace1672ad47ea9d73cb570b40b383"
       ],
       "layout": "IPY_MODEL_3b0bf47b466049bf8a1c9af42ddc2879"
      }
     },
     "0f87c19ad02d4c4483a3825dc226e6b0": {
      "model_module": "@jupyter-widgets/controls",
      "model_module_version": "1.5.0",
      "model_name": "HBoxModel",
      "state": {
       "children": [
        "IPY_MODEL_c957c746187a4b5f8cbe30fff2e12320",
        "IPY_MODEL_e2bb171a6e47436f90f2400d390404e6"
       ],
       "layout": "IPY_MODEL_b678248bb74c49009ef898679d56ec3c"
      }
     },
     "0fcf944a03034fde95d0c8f5a6ce5d0f": {
      "model_module": "@jupyter-widgets/controls",
      "model_module_version": "1.5.0",
      "model_name": "ProgressStyleModel",
      "state": {
       "description_width": "initial"
      }
     },
     "0fe4393f17444a80b383c91138e6c823": {
      "model_module": "@jupyter-widgets/controls",
      "model_module_version": "1.5.0",
      "model_name": "HTMLModel",
      "state": {
       "layout": "IPY_MODEL_558f4652b1f84ffa9162e8e6bd41a4dd",
       "style": "IPY_MODEL_3ca16a9c604841dbbcfdfa3256fcfb4c",
       "value": " 0/1500 [03:39&lt;?, ?it/s]"
      }
     },
     "100c3f93d2524a408295a2d4b80adf3b": {
      "model_module": "@jupyter-widgets/controls",
      "model_module_version": "1.5.0",
      "model_name": "IntProgressModel",
      "state": {
       "bar_style": "success",
       "description": "100%",
       "layout": "IPY_MODEL_da8ec7bfeaef4c21bf9df84f8da7ca45",
       "max": 1500,
       "style": "IPY_MODEL_8ae2327cd1be47e88c28794fdd7e6ee1",
       "value": 1500
      }
     },
     "1050008f2f974975a849b25f6bba8be9": {
      "model_module": "@jupyter-widgets/controls",
      "model_module_version": "1.5.0",
      "model_name": "IntProgressModel",
      "state": {
       "bar_style": "success",
       "description": "100%",
       "layout": "IPY_MODEL_1835f92f2183459cb85265f0aaa4aedc",
       "max": 1500,
       "style": "IPY_MODEL_4aa1495768fd4ccd95e959bdba34e45f",
       "value": 1500
      }
     },
     "105b8489b5584b099ff53dd8a363f644": {
      "model_module": "@jupyter-widgets/controls",
      "model_module_version": "1.5.0",
      "model_name": "HBoxModel",
      "state": {
       "children": [
        "IPY_MODEL_d69b8d5099ee41b58898c7c67e376f09",
        "IPY_MODEL_2d709133572f42adbce6962dd49ef62d"
       ],
       "layout": "IPY_MODEL_d0f8119fa8d34a4ebd4f06f715deb214"
      }
     },
     "105c2997352d442c90a259f4847ca928": {
      "model_module": "@jupyter-widgets/base",
      "model_module_version": "1.2.0",
      "model_name": "LayoutModel",
      "state": {}
     },
     "107c3a77f26040e7b6af3a52d5ea9d64": {
      "model_module": "@jupyter-widgets/controls",
      "model_module_version": "1.5.0",
      "model_name": "HTMLModel",
      "state": {
       "layout": "IPY_MODEL_d66c8cc064a8462c985f4bfbb85b6368",
       "style": "IPY_MODEL_bd794899496f45999823d0db381ddac4",
       "value": " 1750/1750 [02:59&lt;00:00,  9.73it/s]"
      }
     },
     "10e968815c4f4d45a4d99cde87e9f5c2": {
      "model_module": "@jupyter-widgets/controls",
      "model_module_version": "1.5.0",
      "model_name": "HBoxModel",
      "state": {
       "children": [
        "IPY_MODEL_99e984f81024439dac1a278b21085e58",
        "IPY_MODEL_f3c093decc5d4e4ba968c634c620e340"
       ],
       "layout": "IPY_MODEL_ad84f45cd448406c89796575b0e5d77e"
      }
     },
     "114d55bd7b024af1b87c3a7c3ab202c2": {
      "model_module": "@jupyter-widgets/controls",
      "model_module_version": "1.5.0",
      "model_name": "IntProgressModel",
      "state": {
       "bar_style": "danger",
       "description": "  1%",
       "layout": "IPY_MODEL_3fb691c2fc6542f98cefa5f55f179270",
       "max": 1500,
       "style": "IPY_MODEL_7aa791b235b444daa11ffb1d52eb3576",
       "value": 21
      }
     },
     "1154dc1ba68446a0b79a71bfd1ccf201": {
      "model_module": "@jupyter-widgets/base",
      "model_module_version": "1.2.0",
      "model_name": "LayoutModel",
      "state": {}
     },
     "120cdf81d079490096d396da728cbcbe": {
      "model_module": "@jupyter-widgets/controls",
      "model_module_version": "1.5.0",
      "model_name": "ProgressStyleModel",
      "state": {
       "description_width": "initial"
      }
     },
     "12ecb3e6fbaf4f10a3f67a37cd8372ac": {
      "model_module": "@jupyter-widgets/controls",
      "model_module_version": "1.5.0",
      "model_name": "IntProgressModel",
      "state": {
       "bar_style": "success",
       "description": "100%",
       "layout": "IPY_MODEL_5ff09e14739543c8ba90f95518e16a2e",
       "max": 1500,
       "style": "IPY_MODEL_3e3b4a6c8a9544248673d8dc4e908130",
       "value": 1500
      }
     },
     "133d36bb27b646fb930d6fe439179cef": {
      "model_module": "@jupyter-widgets/controls",
      "model_module_version": "1.5.0",
      "model_name": "DescriptionStyleModel",
      "state": {
       "description_width": ""
      }
     },
     "13df535babbd46129edeb7abf1f1762e": {
      "model_module": "@jupyter-widgets/controls",
      "model_module_version": "1.5.0",
      "model_name": "IntProgressModel",
      "state": {
       "bar_style": "success",
       "description": "100%",
       "layout": "IPY_MODEL_5177362ec9014d738ef4bd92180f3287",
       "max": 1750,
       "style": "IPY_MODEL_b6cc81a10873458da2881296c4d5f859",
       "value": 1750
      }
     },
     "13ec9ce4c6214e40b1fa12a97fa57865": {
      "model_module": "@jupyter-widgets/controls",
      "model_module_version": "1.5.0",
      "model_name": "DescriptionStyleModel",
      "state": {
       "description_width": ""
      }
     },
     "148bc6a69ba3458d917bd2e95427c2ff": {
      "model_module": "@jupyter-widgets/base",
      "model_module_version": "1.2.0",
      "model_name": "LayoutModel",
      "state": {}
     },
     "14b9a5c213f347e4b328fb37881af34d": {
      "model_module": "@jupyter-widgets/controls",
      "model_module_version": "1.5.0",
      "model_name": "ProgressStyleModel",
      "state": {
       "description_width": "initial"
      }
     },
     "152dc1d0922444c0a495472d6469345b": {
      "model_module": "@jupyter-widgets/base",
      "model_module_version": "1.2.0",
      "model_name": "LayoutModel",
      "state": {}
     },
     "1538231e5f6e471287084ef33443f4c3": {
      "model_module": "@jupyter-widgets/controls",
      "model_module_version": "1.5.0",
      "model_name": "HBoxModel",
      "state": {
       "children": [
        "IPY_MODEL_944bb8996fff4c6984e56a6930964ad8",
        "IPY_MODEL_d6973fe1bae348769d8d6f5ae9a6087b"
       ],
       "layout": "IPY_MODEL_4f14cdf1c11141b0969a1adbb3b9750b"
      }
     },
     "15bc9cd18112405fbeb4679cd761fd17": {
      "model_module": "@jupyter-widgets/controls",
      "model_module_version": "1.5.0",
      "model_name": "ProgressStyleModel",
      "state": {
       "description_width": "initial"
      }
     },
     "15ee84c4b5a8406d9f916198a80a6197": {
      "model_module": "@jupyter-widgets/controls",
      "model_module_version": "1.5.0",
      "model_name": "DescriptionStyleModel",
      "state": {
       "description_width": ""
      }
     },
     "174d36abd13e4935840aaf3ddd83ca06": {
      "model_module": "@jupyter-widgets/controls",
      "model_module_version": "1.5.0",
      "model_name": "ProgressStyleModel",
      "state": {
       "description_width": "initial"
      }
     },
     "1835f92f2183459cb85265f0aaa4aedc": {
      "model_module": "@jupyter-widgets/base",
      "model_module_version": "1.2.0",
      "model_name": "LayoutModel",
      "state": {}
     },
     "184ce222cc49462986e216563d13be55": {
      "model_module": "@jupyter-widgets/controls",
      "model_module_version": "1.5.0",
      "model_name": "DescriptionStyleModel",
      "state": {
       "description_width": ""
      }
     },
     "187cbfa88f5c4bcf824ee3501224cec7": {
      "model_module": "@jupyter-widgets/controls",
      "model_module_version": "1.5.0",
      "model_name": "HTMLModel",
      "state": {
       "layout": "IPY_MODEL_5ae06376353b4053a46a04aae88b6420",
       "style": "IPY_MODEL_05d51505673d4924a327ced6b800f87a",
       "value": " 1500/1500 [00:24&lt;00:00, 62.24it/s]"
      }
     },
     "18af6aef2d7e40cd853def12d93c16fb": {
      "model_module": "@jupyter-widgets/controls",
      "model_module_version": "1.5.0",
      "model_name": "ProgressStyleModel",
      "state": {
       "description_width": "initial"
      }
     },
     "18dd0fb119ea486b9670f4bc88f43dbc": {
      "model_module": "@jupyter-widgets/base",
      "model_module_version": "1.2.0",
      "model_name": "LayoutModel",
      "state": {}
     },
     "18ee314c681d4263a2d1146e8fcbb78f": {
      "model_module": "@jupyter-widgets/base",
      "model_module_version": "1.2.0",
      "model_name": "LayoutModel",
      "state": {}
     },
     "1912572aa6eb4e0d997ac7814b981981": {
      "model_module": "@jupyter-widgets/controls",
      "model_module_version": "1.5.0",
      "model_name": "ProgressStyleModel",
      "state": {
       "description_width": "initial"
      }
     },
     "199576c535234fb1a4f7a18fb539f5f1": {
      "model_module": "@jupyter-widgets/base",
      "model_module_version": "1.2.0",
      "model_name": "LayoutModel",
      "state": {}
     },
     "19bb1c8fc8f84a68b75ec18f38a43c59": {
      "model_module": "@jupyter-widgets/controls",
      "model_module_version": "1.5.0",
      "model_name": "DescriptionStyleModel",
      "state": {
       "description_width": ""
      }
     },
     "19edfb6eb45346a98349d19c0b790c6d": {
      "model_module": "@jupyter-widgets/controls",
      "model_module_version": "1.5.0",
      "model_name": "HTMLModel",
      "state": {
       "layout": "IPY_MODEL_79cffed59fd340fb8134ac826478f789",
       "style": "IPY_MODEL_e03fd21172744db4a0f30bb0857e9d55",
       "value": " 1750/1750 [04:44&lt;00:00,  6.15it/s]"
      }
     },
     "1a88df56617a47b98cbd29e887ab994c": {
      "model_module": "@jupyter-widgets/base",
      "model_module_version": "1.2.0",
      "model_name": "LayoutModel",
      "state": {}
     },
     "1ab249eb7fc647de8d30a5770dd12c89": {
      "model_module": "@jupyter-widgets/base",
      "model_module_version": "1.2.0",
      "model_name": "LayoutModel",
      "state": {}
     },
     "1acc49b81a1e417ca14d084267e4b7e2": {
      "model_module": "@jupyter-widgets/base",
      "model_module_version": "1.2.0",
      "model_name": "LayoutModel",
      "state": {}
     },
     "1acc689f233546b6a1193082c519ba17": {
      "model_module": "@jupyter-widgets/controls",
      "model_module_version": "1.5.0",
      "model_name": "HTMLModel",
      "state": {
       "layout": "IPY_MODEL_33603569871540d9812bb42bfaed24d9",
       "style": "IPY_MODEL_939eef2b0f9b4c8c9d009538be48e0ee",
       "value": " 1500/1500 [00:24&lt;00:00, 60.92it/s]"
      }
     },
     "1b6fbfebf4224781a9dbbb59d838f60b": {
      "model_module": "@jupyter-widgets/base",
      "model_module_version": "1.2.0",
      "model_name": "LayoutModel",
      "state": {}
     },
     "1b7b1049054f4df7a5eff289612f1ceb": {
      "model_module": "@jupyter-widgets/controls",
      "model_module_version": "1.5.0",
      "model_name": "HTMLModel",
      "state": {
       "layout": "IPY_MODEL_4bd37d091b6b46b58c3c77d5901fca5f",
       "style": "IPY_MODEL_76e2d34b0f0c41f4b8720b055c59a5f1",
       "value": " 0/1500 [03:54&lt;?, ?it/s]"
      }
     },
     "1bff6ed23fee4cb68d33742c0dbcd8d3": {
      "model_module": "@jupyter-widgets/controls",
      "model_module_version": "1.5.0",
      "model_name": "DescriptionStyleModel",
      "state": {
       "description_width": ""
      }
     },
     "1d67f1c7aa794af1aa046f8f6081d95a": {
      "model_module": "@jupyter-widgets/controls",
      "model_module_version": "1.5.0",
      "model_name": "HBoxModel",
      "state": {
       "children": [
        "IPY_MODEL_d7a0817f2e9447c9bfb177c380f8b4ac",
        "IPY_MODEL_332a3343c9824dcdbe1fd10472996268"
       ],
       "layout": "IPY_MODEL_50257c50812f4219bd97452bab6e5937"
      }
     },
     "1d746a8bd85a4e8984da09dc162f1573": {
      "model_module": "@jupyter-widgets/base",
      "model_module_version": "1.2.0",
      "model_name": "LayoutModel",
      "state": {}
     },
     "1d7fa8a1374640dc9e83afb7323c48ff": {
      "model_module": "@jupyter-widgets/controls",
      "model_module_version": "1.5.0",
      "model_name": "IntProgressModel",
      "state": {
       "bar_style": "success",
       "description": "100%",
       "layout": "IPY_MODEL_4791bf461c2b463790d8ecbc3da01c15",
       "max": 1500,
       "style": "IPY_MODEL_a4fb321f5e4f4323a2067c2b5fba9769",
       "value": 1500
      }
     },
     "1e540fb0fe6c452b912abdc84a82da31": {
      "model_module": "@jupyter-widgets/controls",
      "model_module_version": "1.5.0",
      "model_name": "HBoxModel",
      "state": {
       "children": [
        "IPY_MODEL_d3489dde86c9402e9338e94c1d6a7304",
        "IPY_MODEL_7102e76a1f6f49bea695687e937adde2"
       ],
       "layout": "IPY_MODEL_c4d8e020188c42549192db2948fe7968"
      }
     },
     "1f0b1b83024647f68718a05c2f148849": {
      "model_module": "@jupyter-widgets/controls",
      "model_module_version": "1.5.0",
      "model_name": "ProgressStyleModel",
      "state": {
       "description_width": "initial"
      }
     },
     "1fc0a512f4ca4e408caf5d6e02a6c206": {
      "model_module": "@jupyter-widgets/base",
      "model_module_version": "1.2.0",
      "model_name": "LayoutModel",
      "state": {}
     },
     "205ee646d92f43109fa2a59a923cce5b": {
      "model_module": "@jupyter-widgets/controls",
      "model_module_version": "1.5.0",
      "model_name": "HTMLModel",
      "state": {
       "layout": "IPY_MODEL_be282af6e5634356bf8d704b34d06cfe",
       "style": "IPY_MODEL_02af633c66734c7aa63165ec13c272aa",
       "value": " 1097/1500 [43:23&lt;15:56,  2.37s/it]"
      }
     },
     "212f4b23eb4248078391eae2703b4992": {
      "model_module": "@jupyter-widgets/controls",
      "model_module_version": "1.5.0",
      "model_name": "DescriptionStyleModel",
      "state": {
       "description_width": ""
      }
     },
     "21567c7545a94a3cb33bbf789b25cc4a": {
      "model_module": "@jupyter-widgets/base",
      "model_module_version": "1.2.0",
      "model_name": "LayoutModel",
      "state": {}
     },
     "21fd5302e7474f60abc0ad842d13d910": {
      "model_module": "@jupyter-widgets/controls",
      "model_module_version": "1.5.0",
      "model_name": "IntProgressModel",
      "state": {
       "bar_style": "success",
       "description": "100%",
       "layout": "IPY_MODEL_18ee314c681d4263a2d1146e8fcbb78f",
       "max": 1750,
       "style": "IPY_MODEL_120cdf81d079490096d396da728cbcbe",
       "value": 1750
      }
     },
     "2246a70b3241415abd1da073101971f5": {
      "model_module": "@jupyter-widgets/controls",
      "model_module_version": "1.5.0",
      "model_name": "HBoxModel",
      "state": {
       "children": [
        "IPY_MODEL_4f4baad1c6a94b3ca206124ed0bf8f34",
        "IPY_MODEL_f0bd611cd1d44e2c949de6b76e0de2ec"
       ],
       "layout": "IPY_MODEL_ad2baa5370c249b2894b8e4813d58efd"
      }
     },
     "224ef935060a4e668782e070e4bf921c": {
      "model_module": "@jupyter-widgets/base",
      "model_module_version": "1.2.0",
      "model_name": "LayoutModel",
      "state": {}
     },
     "23602adb3cc442108ab49d62c07a2f9c": {
      "model_module": "@jupyter-widgets/base",
      "model_module_version": "1.2.0",
      "model_name": "LayoutModel",
      "state": {}
     },
     "2378c1ec2a024b96944176e4b1fa82ab": {
      "model_module": "@jupyter-widgets/base",
      "model_module_version": "1.2.0",
      "model_name": "LayoutModel",
      "state": {}
     },
     "23b80bb797334ccc92a25cd31f829f40": {
      "model_module": "@jupyter-widgets/controls",
      "model_module_version": "1.5.0",
      "model_name": "DescriptionStyleModel",
      "state": {
       "description_width": ""
      }
     },
     "23bc1821bc0147c1821a9c9beace155d": {
      "model_module": "@jupyter-widgets/controls",
      "model_module_version": "1.5.0",
      "model_name": "ProgressStyleModel",
      "state": {
       "description_width": "initial"
      }
     },
     "23c2be54adf6495d8ccc76f4b80f353e": {
      "model_module": "@jupyter-widgets/base",
      "model_module_version": "1.2.0",
      "model_name": "LayoutModel",
      "state": {}
     },
     "24147784e1e04e968330e60b8cb2d2ee": {
      "model_module": "@jupyter-widgets/controls",
      "model_module_version": "1.5.0",
      "model_name": "DescriptionStyleModel",
      "state": {
       "description_width": ""
      }
     },
     "24b0448060bf473aa15232349cce587e": {
      "model_module": "@jupyter-widgets/controls",
      "model_module_version": "1.5.0",
      "model_name": "HTMLModel",
      "state": {
       "layout": "IPY_MODEL_e68c226cd45946a4823f9f54d892b6d9",
       "style": "IPY_MODEL_6e36ed1373ea4a189bd7893deb3a4de0",
       "value": " 1750/1750 [14:30&lt;00:00,  2.01it/s]"
      }
     },
     "24d7acf86aa9486b843d305e39e1b0e3": {
      "model_module": "@jupyter-widgets/controls",
      "model_module_version": "1.5.0",
      "model_name": "DescriptionStyleModel",
      "state": {
       "description_width": ""
      }
     },
     "259d8dd0ecd3443fb7b6883428ec18bc": {
      "model_module": "@jupyter-widgets/controls",
      "model_module_version": "1.5.0",
      "model_name": "ProgressStyleModel",
      "state": {
       "description_width": "initial"
      }
     },
     "25bb437e1b5540fc98211f4ad2512d2f": {
      "model_module": "@jupyter-widgets/controls",
      "model_module_version": "1.5.0",
      "model_name": "IntProgressModel",
      "state": {
       "bar_style": "success",
       "description": "100%",
       "layout": "IPY_MODEL_399eaad477c14afe927412b622c13562",
       "max": 1750,
       "style": "IPY_MODEL_53e7a6c2acaa439dbc873b4d1c506f8b",
       "value": 1750
      }
     },
     "25f2cf23591b45968b627d77566e9e03": {
      "model_module": "@jupyter-widgets/base",
      "model_module_version": "1.2.0",
      "model_name": "LayoutModel",
      "state": {}
     },
     "2629633c8f2740758af47c354a84a0bc": {
      "model_module": "@jupyter-widgets/controls",
      "model_module_version": "1.5.0",
      "model_name": "HBoxModel",
      "state": {
       "children": [
        "IPY_MODEL_b2322453d96342e7953e19974bc7c666",
        "IPY_MODEL_d530f99f902243a890071b4ac1003bc8"
       ],
       "layout": "IPY_MODEL_c08b040b110a423c941da3b333fa7b84"
      }
     },
     "26439f414c814e9f9a82f3340f660338": {
      "model_module": "@jupyter-widgets/controls",
      "model_module_version": "1.5.0",
      "model_name": "ProgressStyleModel",
      "state": {
       "description_width": "initial"
      }
     },
     "266b7327c0b9424092bbc3a717b4ec9a": {
      "model_module": "@jupyter-widgets/controls",
      "model_module_version": "1.5.0",
      "model_name": "IntProgressModel",
      "state": {
       "bar_style": "success",
       "description": "100%",
       "layout": "IPY_MODEL_348c67487e454755bda20a7979a636c2",
       "max": 1500,
       "style": "IPY_MODEL_88b98cc89c6e425094306be926e17550",
       "value": 1500
      }
     },
     "26c71471a3824809b7401e77a7229dc9": {
      "model_module": "@jupyter-widgets/controls",
      "model_module_version": "1.5.0",
      "model_name": "DescriptionStyleModel",
      "state": {
       "description_width": ""
      }
     },
     "26cff22992b3465d9586c08a3287226a": {
      "model_module": "@jupyter-widgets/base",
      "model_module_version": "1.2.0",
      "model_name": "LayoutModel",
      "state": {}
     },
     "26e763999e0c4fc6b44f1de66ec80aff": {
      "model_module": "@jupyter-widgets/controls",
      "model_module_version": "1.5.0",
      "model_name": "HBoxModel",
      "state": {
       "children": [
        "IPY_MODEL_ddd301989b0f4af59315dab70549d113",
        "IPY_MODEL_5c61551d74ba47f998d6e339fb5efafa"
       ],
       "layout": "IPY_MODEL_bb8962479a9b4e6bba01d83d17babbde"
      }
     },
     "27cbd119ba974af8bcff1a7e40396b5f": {
      "model_module": "@jupyter-widgets/controls",
      "model_module_version": "1.5.0",
      "model_name": "ProgressStyleModel",
      "state": {
       "description_width": "initial"
      }
     },
     "28a7e996f231434f959bc3add02d2797": {
      "model_module": "@jupyter-widgets/controls",
      "model_module_version": "1.5.0",
      "model_name": "IntProgressModel",
      "state": {
       "bar_style": "success",
       "description": "100%",
       "layout": "IPY_MODEL_0de5bcea2d0f4720afe213351a4c23cf",
       "max": 1500,
       "style": "IPY_MODEL_3c7cb75dfb914893a3ef294c3cc57ca0",
       "value": 1500
      }
     },
     "297416491f8f424baad7d2c663fcc4ff": {
      "model_module": "@jupyter-widgets/base",
      "model_module_version": "1.2.0",
      "model_name": "LayoutModel",
      "state": {}
     },
     "29a8bcb34366442cb9d82db8fb18d068": {
      "model_module": "@jupyter-widgets/base",
      "model_module_version": "1.2.0",
      "model_name": "LayoutModel",
      "state": {}
     },
     "2aa6ff253c774baa9d6379dc98e865ab": {
      "model_module": "@jupyter-widgets/controls",
      "model_module_version": "1.5.0",
      "model_name": "HBoxModel",
      "state": {
       "children": [
        "IPY_MODEL_3d5124e59e5c415b9accf1e9740b8df5",
        "IPY_MODEL_f32c160aaaab49909956295b5393fc03"
       ],
       "layout": "IPY_MODEL_08b796c46ccc4fdd81e1daefdec620a7"
      }
     },
     "2ae2a9e5afd5488f8c17818784a1689d": {
      "model_module": "@jupyter-widgets/controls",
      "model_module_version": "1.5.0",
      "model_name": "HTMLModel",
      "state": {
       "layout": "IPY_MODEL_4e724c20adce49c6b78ca065ea70fda0",
       "style": "IPY_MODEL_4703537c00b34bc1a6607eb73aeddc2d",
       "value": " 1500/1500 [32:39&lt;00:00,  1.31s/it]"
      }
     },
     "2b26bd2a664d41c0989c49e4a523fe84": {
      "model_module": "@jupyter-widgets/controls",
      "model_module_version": "1.5.0",
      "model_name": "ProgressStyleModel",
      "state": {
       "description_width": "initial"
      }
     },
     "2b81df8dc902474aa221df8f9c5882ec": {
      "model_module": "@jupyter-widgets/controls",
      "model_module_version": "1.5.0",
      "model_name": "IntProgressModel",
      "state": {
       "bar_style": "success",
       "description": "100%",
       "layout": "IPY_MODEL_8316a03744ff44b88f9942dd157a0243",
       "max": 1500,
       "style": "IPY_MODEL_9eb520b4ab5c4a40bc7c9e4f8455ccaf",
       "value": 1500
      }
     },
     "2b850d1f53d74e859d6cf8b7f390d8f5": {
      "model_module": "@jupyter-widgets/controls",
      "model_module_version": "1.5.0",
      "model_name": "DescriptionStyleModel",
      "state": {
       "description_width": ""
      }
     },
     "2c40384e55db4feaa498df40cb88483d": {
      "model_module": "@jupyter-widgets/base",
      "model_module_version": "1.2.0",
      "model_name": "LayoutModel",
      "state": {}
     },
     "2c68821e0a27435ead9c96e63d7505ac": {
      "model_module": "@jupyter-widgets/base",
      "model_module_version": "1.2.0",
      "model_name": "LayoutModel",
      "state": {}
     },
     "2c988f623ab5495f9070a16313505486": {
      "model_module": "@jupyter-widgets/controls",
      "model_module_version": "1.5.0",
      "model_name": "HBoxModel",
      "state": {
       "children": [
        "IPY_MODEL_ae4ba0c5b8db4f1b893832600841d518",
        "IPY_MODEL_0fe4393f17444a80b383c91138e6c823"
       ],
       "layout": "IPY_MODEL_ac5aa9e283b84ebeaeebe7469bb408f1"
      }
     },
     "2c9d205d882140c69025acdf421cc27a": {
      "model_module": "@jupyter-widgets/controls",
      "model_module_version": "1.5.0",
      "model_name": "HTMLModel",
      "state": {
       "layout": "IPY_MODEL_3ac4de2fe7d74041ab798ebfc2c86918",
       "style": "IPY_MODEL_b6ab88cf1d1d4b5dbd96488a71645d98",
       "value": " 1750/1750 [02:52&lt;00:00, 10.17it/s]"
      }
     },
     "2cc088e330404376a3012c8d03f39568": {
      "model_module": "@jupyter-widgets/base",
      "model_module_version": "1.2.0",
      "model_name": "LayoutModel",
      "state": {}
     },
     "2d521aebe20846418abfa41a4c76f1a8": {
      "model_module": "@jupyter-widgets/controls",
      "model_module_version": "1.5.0",
      "model_name": "HTMLModel",
      "state": {
       "layout": "IPY_MODEL_bebd6ba41cca4d72908227bc77143d25",
       "style": "IPY_MODEL_82738b46a9bf4b77a5a3cd715826a567",
       "value": " 1500/1500 [02:29&lt;00:00, 10.03it/s]"
      }
     },
     "2d709133572f42adbce6962dd49ef62d": {
      "model_module": "@jupyter-widgets/controls",
      "model_module_version": "1.5.0",
      "model_name": "HTMLModel",
      "state": {
       "layout": "IPY_MODEL_7f899ded6619467e879677603cd3d904",
       "style": "IPY_MODEL_3c02fea6b43940fdaa637ee56a58e61b",
       "value": " 1750/1750 [20:31&lt;00:00,  1.42it/s]"
      }
     },
     "2da3c34bc9a3451d8f15e895385f47ae": {
      "model_module": "@jupyter-widgets/controls",
      "model_module_version": "1.5.0",
      "model_name": "IntProgressModel",
      "state": {
       "bar_style": "success",
       "description": "100%",
       "layout": "IPY_MODEL_422df233cf1844afbf5d50571cf85d38",
       "max": 1500,
       "style": "IPY_MODEL_04f7058cf0234f29a1bad37e1725123e",
       "value": 1500
      }
     },
     "2dab50dc04a64a158e7c678b48496512": {
      "model_module": "@jupyter-widgets/base",
      "model_module_version": "1.2.0",
      "model_name": "LayoutModel",
      "state": {}
     },
     "2e3d96c8341c481388ec670a5af23528": {
      "model_module": "@jupyter-widgets/base",
      "model_module_version": "1.2.0",
      "model_name": "LayoutModel",
      "state": {}
     },
     "2eaa496c1a3641c9ba05518ca499121e": {
      "model_module": "@jupyter-widgets/base",
      "model_module_version": "1.2.0",
      "model_name": "LayoutModel",
      "state": {}
     },
     "2f5366c5f8094d518b822a8bf286768c": {
      "model_module": "@jupyter-widgets/controls",
      "model_module_version": "1.5.0",
      "model_name": "DescriptionStyleModel",
      "state": {
       "description_width": ""
      }
     },
     "2f6ef2b079d94b1698e187dcecb93b3e": {
      "model_module": "@jupyter-widgets/base",
      "model_module_version": "1.2.0",
      "model_name": "LayoutModel",
      "state": {}
     },
     "2f8b051f850d405d8e0f93e73e367c9c": {
      "model_module": "@jupyter-widgets/controls",
      "model_module_version": "1.5.0",
      "model_name": "ProgressStyleModel",
      "state": {
       "description_width": "initial"
      }
     },
     "30431955c8724261b9f9954b8dcdfe31": {
      "model_module": "@jupyter-widgets/controls",
      "model_module_version": "1.5.0",
      "model_name": "HBoxModel",
      "state": {
       "children": [
        "IPY_MODEL_86f1d800a33d48d0bb0160d8d4242155",
        "IPY_MODEL_7abe867ab3e64aa68d2baeb4b05a6935"
       ],
       "layout": "IPY_MODEL_f4d74dd92c39490e9238f81ba327f0d6"
      }
     },
     "3289a9fbbd124dcfb1a0eabe079db9d2": {
      "model_module": "@jupyter-widgets/controls",
      "model_module_version": "1.5.0",
      "model_name": "ProgressStyleModel",
      "state": {
       "description_width": "initial"
      }
     },
     "32be264b7e7646bbbcc8acac47282019": {
      "model_module": "@jupyter-widgets/controls",
      "model_module_version": "1.5.0",
      "model_name": "IntProgressModel",
      "state": {
       "bar_style": "success",
       "description": "100%",
       "layout": "IPY_MODEL_3425b607c6be4f57baa60aabb567774c",
       "max": 1750,
       "style": "IPY_MODEL_fa5fdcf94b1d42d0ab5fc15890b2581a",
       "value": 1750
      }
     },
     "32c7c614b69141e887815c1764db496f": {
      "model_module": "@jupyter-widgets/base",
      "model_module_version": "1.2.0",
      "model_name": "LayoutModel",
      "state": {}
     },
     "332a3343c9824dcdbe1fd10472996268": {
      "model_module": "@jupyter-widgets/controls",
      "model_module_version": "1.5.0",
      "model_name": "HTMLModel",
      "state": {
       "layout": "IPY_MODEL_5433b2c94d044053a49e1580e23f4523",
       "style": "IPY_MODEL_24147784e1e04e968330e60b8cb2d2ee",
       "value": " 353/1750 [53:33&lt;3:31:58,  9.10s/it]"
      }
     },
     "33603569871540d9812bb42bfaed24d9": {
      "model_module": "@jupyter-widgets/base",
      "model_module_version": "1.2.0",
      "model_name": "LayoutModel",
      "state": {}
     },
     "33cd1ee156c24db680b24cc4f10076ac": {
      "model_module": "@jupyter-widgets/controls",
      "model_module_version": "1.5.0",
      "model_name": "IntProgressModel",
      "state": {
       "bar_style": "success",
       "description": "100%",
       "layout": "IPY_MODEL_ca7d2ada87b643e794e37f4ff3f20584",
       "max": 1500,
       "style": "IPY_MODEL_27cbd119ba974af8bcff1a7e40396b5f",
       "value": 1500
      }
     },
     "3404ec76819e41e797a9ba6fb276e3af": {
      "model_module": "@jupyter-widgets/base",
      "model_module_version": "1.2.0",
      "model_name": "LayoutModel",
      "state": {}
     },
     "3425b607c6be4f57baa60aabb567774c": {
      "model_module": "@jupyter-widgets/base",
      "model_module_version": "1.2.0",
      "model_name": "LayoutModel",
      "state": {}
     },
     "343c3717536146249be24c1e614b7775": {
      "model_module": "@jupyter-widgets/controls",
      "model_module_version": "1.5.0",
      "model_name": "ProgressStyleModel",
      "state": {
       "description_width": "initial"
      }
     },
     "34731226ce4c4a43a3ffeb304e78e778": {
      "model_module": "@jupyter-widgets/controls",
      "model_module_version": "1.5.0",
      "model_name": "ProgressStyleModel",
      "state": {
       "description_width": "initial"
      }
     },
     "348c67487e454755bda20a7979a636c2": {
      "model_module": "@jupyter-widgets/base",
      "model_module_version": "1.2.0",
      "model_name": "LayoutModel",
      "state": {}
     },
     "348cad6c6841476ba5fad288c6e74d3e": {
      "model_module": "@jupyter-widgets/controls",
      "model_module_version": "1.5.0",
      "model_name": "DescriptionStyleModel",
      "state": {
       "description_width": ""
      }
     },
     "34de56af384744d19421f3e586d3d716": {
      "model_module": "@jupyter-widgets/controls",
      "model_module_version": "1.5.0",
      "model_name": "HTMLModel",
      "state": {
       "layout": "IPY_MODEL_e3c547c2879f4ac69b8c00d5804fe233",
       "style": "IPY_MODEL_5708124ed7754f6987c840c60b1ab05b",
       "value": " 1750/1750 [02:52&lt;00:00, 10.15it/s]"
      }
     },
     "351adc31304e4f94bfb4f5e566d6bb8f": {
      "model_module": "@jupyter-widgets/controls",
      "model_module_version": "1.5.0",
      "model_name": "DescriptionStyleModel",
      "state": {
       "description_width": ""
      }
     },
     "362987f6a0fe4b00a65ab3c3c07e5e24": {
      "model_module": "@jupyter-widgets/base",
      "model_module_version": "1.2.0",
      "model_name": "LayoutModel",
      "state": {}
     },
     "381caf4382fd44989c69a75f5af279c4": {
      "model_module": "@jupyter-widgets/controls",
      "model_module_version": "1.5.0",
      "model_name": "IntProgressModel",
      "state": {
       "bar_style": "success",
       "description": "100%",
       "layout": "IPY_MODEL_224ef935060a4e668782e070e4bf921c",
       "max": 1750,
       "style": "IPY_MODEL_26439f414c814e9f9a82f3340f660338",
       "value": 1750
      }
     },
     "3915dc85ede74529b15dc875f6a9ddec": {
      "model_module": "@jupyter-widgets/base",
      "model_module_version": "1.2.0",
      "model_name": "LayoutModel",
      "state": {}
     },
     "399eaad477c14afe927412b622c13562": {
      "model_module": "@jupyter-widgets/base",
      "model_module_version": "1.2.0",
      "model_name": "LayoutModel",
      "state": {}
     },
     "3a029c53873e4215902d5621f38d3569": {
      "model_module": "@jupyter-widgets/controls",
      "model_module_version": "1.5.0",
      "model_name": "IntProgressModel",
      "state": {
       "bar_style": "success",
       "description": "100%",
       "layout": "IPY_MODEL_c79729d9053348f6822ad30387a46427",
       "max": 1750,
       "style": "IPY_MODEL_df8532ed77504b4d9b47e5b1a45d6c40",
       "value": 1750
      }
     },
     "3a2b9dfb8dfd481681d2fdd044c491d1": {
      "model_module": "@jupyter-widgets/controls",
      "model_module_version": "1.5.0",
      "model_name": "HBoxModel",
      "state": {
       "children": [
        "IPY_MODEL_089718b5c05f4b83ad9ed1585b2148c8",
        "IPY_MODEL_fbd3ef588f964da3b44ace34459c8d34"
       ],
       "layout": "IPY_MODEL_08f1b76a2e6141829d1b3e0700aca7fc"
      }
     },
     "3a353d49a4194b2182c20af1ad68f5de": {
      "model_module": "@jupyter-widgets/controls",
      "model_module_version": "1.5.0",
      "model_name": "HBoxModel",
      "state": {
       "children": [
        "IPY_MODEL_8928c27f5f73419fbbd34f3d58b19e8c",
        "IPY_MODEL_45f8dee69f834d5d955f91ecb0fbba9b"
       ],
       "layout": "IPY_MODEL_959b552a9fc0434198884815d09c1c00"
      }
     },
     "3a4c9867f9244c6d9352dedf169de7ad": {
      "model_module": "@jupyter-widgets/controls",
      "model_module_version": "1.5.0",
      "model_name": "HBoxModel",
      "state": {
       "children": [
        "IPY_MODEL_b06072a19cd04b30bcd7b0410a1d7e69",
        "IPY_MODEL_4f8d274201034ae187aa44a5c67426f9"
       ],
       "layout": "IPY_MODEL_7961a0a7f71a47cba13536bdaee8549d"
      }
     },
     "3ac4de2fe7d74041ab798ebfc2c86918": {
      "model_module": "@jupyter-widgets/base",
      "model_module_version": "1.2.0",
      "model_name": "LayoutModel",
      "state": {}
     },
     "3acea49966254512a9344eae74d9bd1e": {
      "model_module": "@jupyter-widgets/base",
      "model_module_version": "1.2.0",
      "model_name": "LayoutModel",
      "state": {}
     },
     "3b032c9134d2466581318fb0b82f3a86": {
      "model_module": "@jupyter-widgets/base",
      "model_module_version": "1.2.0",
      "model_name": "LayoutModel",
      "state": {}
     },
     "3b0bf47b466049bf8a1c9af42ddc2879": {
      "model_module": "@jupyter-widgets/base",
      "model_module_version": "1.2.0",
      "model_name": "LayoutModel",
      "state": {}
     },
     "3b698707f1f346f7bade68acf9e86e77": {
      "model_module": "@jupyter-widgets/base",
      "model_module_version": "1.2.0",
      "model_name": "LayoutModel",
      "state": {}
     },
     "3b7f141adaba46e2a2de28c564c03adc": {
      "model_module": "@jupyter-widgets/controls",
      "model_module_version": "1.5.0",
      "model_name": "ProgressStyleModel",
      "state": {
       "description_width": "initial"
      }
     },
     "3bf2ffc6e1b2415fa9dcd550a6bf626b": {
      "model_module": "@jupyter-widgets/base",
      "model_module_version": "1.2.0",
      "model_name": "LayoutModel",
      "state": {}
     },
     "3bf3c7b2fd3d4ff6bd3e4bd17bdd82f9": {
      "model_module": "@jupyter-widgets/base",
      "model_module_version": "1.2.0",
      "model_name": "LayoutModel",
      "state": {}
     },
     "3c02fea6b43940fdaa637ee56a58e61b": {
      "model_module": "@jupyter-widgets/controls",
      "model_module_version": "1.5.0",
      "model_name": "DescriptionStyleModel",
      "state": {
       "description_width": ""
      }
     },
     "3c21dfc00475470cae9b5bbba1b2a562": {
      "model_module": "@jupyter-widgets/controls",
      "model_module_version": "1.5.0",
      "model_name": "DescriptionStyleModel",
      "state": {
       "description_width": ""
      }
     },
     "3c7cb75dfb914893a3ef294c3cc57ca0": {
      "model_module": "@jupyter-widgets/controls",
      "model_module_version": "1.5.0",
      "model_name": "ProgressStyleModel",
      "state": {
       "description_width": "initial"
      }
     },
     "3c9fc3f18ee047b6b44417af65940982": {
      "model_module": "@jupyter-widgets/base",
      "model_module_version": "1.2.0",
      "model_name": "LayoutModel",
      "state": {}
     },
     "3ca16a9c604841dbbcfdfa3256fcfb4c": {
      "model_module": "@jupyter-widgets/controls",
      "model_module_version": "1.5.0",
      "model_name": "DescriptionStyleModel",
      "state": {
       "description_width": ""
      }
     },
     "3ca2428762f742ec89528fddb51aad0a": {
      "model_module": "@jupyter-widgets/controls",
      "model_module_version": "1.5.0",
      "model_name": "ProgressStyleModel",
      "state": {
       "description_width": "initial"
      }
     },
     "3cbe94fc8bf842048a899ea36ef4609b": {
      "model_module": "@jupyter-widgets/base",
      "model_module_version": "1.2.0",
      "model_name": "LayoutModel",
      "state": {}
     },
     "3d03f00b587b40d285ec9180380e3ce3": {
      "model_module": "@jupyter-widgets/controls",
      "model_module_version": "1.5.0",
      "model_name": "HBoxModel",
      "state": {
       "children": [
        "IPY_MODEL_1050008f2f974975a849b25f6bba8be9",
        "IPY_MODEL_bf97b76c35b846feb5d4d6645f6e2786"
       ],
       "layout": "IPY_MODEL_fb47e087fc094bbbbe2c7fc0a898696d"
      }
     },
     "3d4844a6e9fa462c8c262352f860cf86": {
      "model_module": "@jupyter-widgets/controls",
      "model_module_version": "1.5.0",
      "model_name": "HTMLModel",
      "state": {
       "layout": "IPY_MODEL_6caf22ba3cd540c8986170b4642d216d",
       "style": "IPY_MODEL_70f5cc99a4a74ba0b248ab176b3149dc",
       "value": " 1500/1500 [12:13&lt;00:00,  2.04it/s]"
      }
     },
     "3d5124e59e5c415b9accf1e9740b8df5": {
      "model_module": "@jupyter-widgets/controls",
      "model_module_version": "1.5.0",
      "model_name": "IntProgressModel",
      "state": {
       "bar_style": "success",
       "description": "100%",
       "layout": "IPY_MODEL_82a6e81ae02e431e9eefdf06bf6395c0",
       "max": 1500,
       "style": "IPY_MODEL_a251f78831a6417a8af15c7824a12dd5",
       "value": 1500
      }
     },
     "3db65065dc734fa8b88d50d78e361a8b": {
      "model_module": "@jupyter-widgets/base",
      "model_module_version": "1.2.0",
      "model_name": "LayoutModel",
      "state": {}
     },
     "3dea4d49e4c24d218fab208f1937d7f6": {
      "model_module": "@jupyter-widgets/controls",
      "model_module_version": "1.5.0",
      "model_name": "ProgressStyleModel",
      "state": {
       "description_width": "initial"
      }
     },
     "3e3b4a6c8a9544248673d8dc4e908130": {
      "model_module": "@jupyter-widgets/controls",
      "model_module_version": "1.5.0",
      "model_name": "ProgressStyleModel",
      "state": {
       "description_width": "initial"
      }
     },
     "3f0ecd868ada47e7baa717f172817ed9": {
      "model_module": "@jupyter-widgets/base",
      "model_module_version": "1.2.0",
      "model_name": "LayoutModel",
      "state": {}
     },
     "3f3a7da2ccb145a3baf0cbef4db2f171": {
      "model_module": "@jupyter-widgets/controls",
      "model_module_version": "1.5.0",
      "model_name": "HBoxModel",
      "state": {
       "children": [
        "IPY_MODEL_25bb437e1b5540fc98211f4ad2512d2f",
        "IPY_MODEL_00ed85812b994441a517f1aeb7a792a9"
       ],
       "layout": "IPY_MODEL_23c2be54adf6495d8ccc76f4b80f353e"
      }
     },
     "3f7eb54ab7d34360b08ae19f97698980": {
      "model_module": "@jupyter-widgets/controls",
      "model_module_version": "1.5.0",
      "model_name": "HBoxModel",
      "state": {
       "children": [
        "IPY_MODEL_958ad53abfee490f9e4105e8f7cd7f0d",
        "IPY_MODEL_2ae2a9e5afd5488f8c17818784a1689d"
       ],
       "layout": "IPY_MODEL_e0891caf3a3e467f85b6569469f051fe"
      }
     },
     "3fb691c2fc6542f98cefa5f55f179270": {
      "model_module": "@jupyter-widgets/base",
      "model_module_version": "1.2.0",
      "model_name": "LayoutModel",
      "state": {}
     },
     "409542b708c5484ba1bf69a71a0a7fe5": {
      "model_module": "@jupyter-widgets/base",
      "model_module_version": "1.2.0",
      "model_name": "LayoutModel",
      "state": {}
     },
     "40b16a009fad4a17b44e0c7815579f22": {
      "model_module": "@jupyter-widgets/base",
      "model_module_version": "1.2.0",
      "model_name": "LayoutModel",
      "state": {}
     },
     "40d249e6475f49a88da8813408f05aa0": {
      "model_module": "@jupyter-widgets/base",
      "model_module_version": "1.2.0",
      "model_name": "LayoutModel",
      "state": {}
     },
     "412803437497406fbc53be3456b0397d": {
      "model_module": "@jupyter-widgets/base",
      "model_module_version": "1.2.0",
      "model_name": "LayoutModel",
      "state": {}
     },
     "41e72dca6b7e48409c10083efef33d76": {
      "model_module": "@jupyter-widgets/controls",
      "model_module_version": "1.5.0",
      "model_name": "IntProgressModel",
      "state": {
       "bar_style": "success",
       "description": "100%",
       "layout": "IPY_MODEL_87ab29ed7a134725b83f83c9e441e301",
       "max": 1500,
       "style": "IPY_MODEL_14b9a5c213f347e4b328fb37881af34d",
       "value": 1500
      }
     },
     "422df233cf1844afbf5d50571cf85d38": {
      "model_module": "@jupyter-widgets/base",
      "model_module_version": "1.2.0",
      "model_name": "LayoutModel",
      "state": {}
     },
     "42ba531ea9a34ee5a378260108198fd7": {
      "model_module": "@jupyter-widgets/controls",
      "model_module_version": "1.5.0",
      "model_name": "IntProgressModel",
      "state": {
       "bar_style": "success",
       "description": "100%",
       "layout": "IPY_MODEL_4f31d3d7364a49caa1c56c40678ea76d",
       "max": 1750,
       "style": "IPY_MODEL_3289a9fbbd124dcfb1a0eabe079db9d2",
       "value": 1750
      }
     },
     "42c6b88a63af423faffea9c7d9f9e45e": {
      "model_module": "@jupyter-widgets/controls",
      "model_module_version": "1.5.0",
      "model_name": "HTMLModel",
      "state": {
       "layout": "IPY_MODEL_e2df43013e8646e68de609b20de134e2",
       "style": "IPY_MODEL_6c50f40271004f3ca7ee2df883e27a53",
       "value": " 0/1500 [02:01&lt;?, ?it/s]"
      }
     },
     "431cfe641749487fb3fea138fac8266b": {
      "model_module": "@jupyter-widgets/controls",
      "model_module_version": "1.5.0",
      "model_name": "HBoxModel",
      "state": {
       "children": [
        "IPY_MODEL_76dcf40a16ef4a528300269dec3dec29",
        "IPY_MODEL_75c499a7df64422884c326451e413b0a"
       ],
       "layout": "IPY_MODEL_8b6e336641b343ce9df8979d4005a1f9"
      }
     },
     "43d06b95520f4d578b2d9743699fb5cf": {
      "model_module": "@jupyter-widgets/base",
      "model_module_version": "1.2.0",
      "model_name": "LayoutModel",
      "state": {}
     },
     "448d8dad57594d70bfa330b79b34298c": {
      "model_module": "@jupyter-widgets/controls",
      "model_module_version": "1.5.0",
      "model_name": "ProgressStyleModel",
      "state": {
       "description_width": "initial"
      }
     },
     "44ee147b4c0345a4bfa1505304d1e2fa": {
      "model_module": "@jupyter-widgets/base",
      "model_module_version": "1.2.0",
      "model_name": "LayoutModel",
      "state": {}
     },
     "45138cbe34aa4a2cb2cca2ee807c1897": {
      "model_module": "@jupyter-widgets/controls",
      "model_module_version": "1.5.0",
      "model_name": "DescriptionStyleModel",
      "state": {
       "description_width": ""
      }
     },
     "45657da376ba4811bf01cb20a02897be": {
      "model_module": "@jupyter-widgets/base",
      "model_module_version": "1.2.0",
      "model_name": "LayoutModel",
      "state": {}
     },
     "45ac2b1baaf14e5b877a6bee1fea7249": {
      "model_module": "@jupyter-widgets/base",
      "model_module_version": "1.2.0",
      "model_name": "LayoutModel",
      "state": {}
     },
     "45f8dee69f834d5d955f91ecb0fbba9b": {
      "model_module": "@jupyter-widgets/controls",
      "model_module_version": "1.5.0",
      "model_name": "HTMLModel",
      "state": {
       "layout": "IPY_MODEL_a10b1a0a39ff4cec93e09fb6f0a993a1",
       "style": "IPY_MODEL_dee932d6f6114d2ca7646326ecad5ca1",
       "value": " 1500/1500 [06:22&lt;00:00,  3.92it/s]"
      }
     },
     "4658e429c177445685a9f5087e9b416a": {
      "model_module": "@jupyter-widgets/controls",
      "model_module_version": "1.5.0",
      "model_name": "HTMLModel",
      "state": {
       "layout": "IPY_MODEL_ac01b7b4b9964a1eb2574fd6a231903e",
       "style": "IPY_MODEL_8a14e72e999647918d4b503536fd1d1c",
       "value": " 0/1500 [00:47&lt;?, ?it/s]"
      }
     },
     "46c3b3a7051f4179970861aa06d9d814": {
      "model_module": "@jupyter-widgets/controls",
      "model_module_version": "1.5.0",
      "model_name": "IntProgressModel",
      "state": {
       "bar_style": "danger",
       "description": "  0%",
       "layout": "IPY_MODEL_bbb54bc1d0c04688b7ecda96ef14b276",
       "max": 1500,
       "style": "IPY_MODEL_6f83efb454fc48eebc79a8a273501a39"
      }
     },
     "4703537c00b34bc1a6607eb73aeddc2d": {
      "model_module": "@jupyter-widgets/controls",
      "model_module_version": "1.5.0",
      "model_name": "DescriptionStyleModel",
      "state": {
       "description_width": ""
      }
     },
     "4745c2e0e834453f8a057901def6614e": {
      "model_module": "@jupyter-widgets/base",
      "model_module_version": "1.2.0",
      "model_name": "LayoutModel",
      "state": {}
     },
     "4785c464a13e4a29957ae13d42f3d0c0": {
      "model_module": "@jupyter-widgets/base",
      "model_module_version": "1.2.0",
      "model_name": "LayoutModel",
      "state": {}
     },
     "4791bf461c2b463790d8ecbc3da01c15": {
      "model_module": "@jupyter-widgets/base",
      "model_module_version": "1.2.0",
      "model_name": "LayoutModel",
      "state": {}
     },
     "490257c03b384e9d9e7be18b8612a4b7": {
      "model_module": "@jupyter-widgets/base",
      "model_module_version": "1.2.0",
      "model_name": "LayoutModel",
      "state": {}
     },
     "491274d9d577493fb636eb2442a5b961": {
      "model_module": "@jupyter-widgets/controls",
      "model_module_version": "1.5.0",
      "model_name": "ProgressStyleModel",
      "state": {
       "description_width": "initial"
      }
     },
     "4a11ef3444104f8382b591a01d6d2149": {
      "model_module": "@jupyter-widgets/controls",
      "model_module_version": "1.5.0",
      "model_name": "IntProgressModel",
      "state": {
       "bar_style": "success",
       "description": "100%",
       "layout": "IPY_MODEL_8b6b89d946c7476bad26c389206224b5",
       "max": 1500,
       "style": "IPY_MODEL_fae1038ffa254367a27ff54b2d5861e4",
       "value": 1500
      }
     },
     "4a4182022f1b483f9e635c5dbbe0b96e": {
      "model_module": "@jupyter-widgets/base",
      "model_module_version": "1.2.0",
      "model_name": "LayoutModel",
      "state": {}
     },
     "4a4afb68a68248d9b26d2e7ca048ae8e": {
      "model_module": "@jupyter-widgets/controls",
      "model_module_version": "1.5.0",
      "model_name": "IntProgressModel",
      "state": {
       "bar_style": "success",
       "description": "100%",
       "layout": "IPY_MODEL_4785c464a13e4a29957ae13d42f3d0c0",
       "max": 1750,
       "style": "IPY_MODEL_c883e695ea394ad79f0314e20cd69ac7",
       "value": 1750
      }
     },
     "4aa1495768fd4ccd95e959bdba34e45f": {
      "model_module": "@jupyter-widgets/controls",
      "model_module_version": "1.5.0",
      "model_name": "ProgressStyleModel",
      "state": {
       "description_width": "initial"
      }
     },
     "4ad0c96077494a3299186f44b6feb26c": {
      "model_module": "@jupyter-widgets/base",
      "model_module_version": "1.2.0",
      "model_name": "LayoutModel",
      "state": {}
     },
     "4adc579defc649a98dc3ff6b15d4817b": {
      "model_module": "@jupyter-widgets/controls",
      "model_module_version": "1.5.0",
      "model_name": "HBoxModel",
      "state": {
       "children": [
        "IPY_MODEL_6eb2ad48eb1e4d93b25ff309f9c46494",
        "IPY_MODEL_68a97b036deb479c94fb03978ebcf329"
       ],
       "layout": "IPY_MODEL_2dab50dc04a64a158e7c678b48496512"
      }
     },
     "4af3fab54e7d49abaae73f7cc8acfd1d": {
      "model_module": "@jupyter-widgets/controls",
      "model_module_version": "1.5.0",
      "model_name": "ProgressStyleModel",
      "state": {
       "description_width": "initial"
      }
     },
     "4b3fa9d9e9454adf8027712b21491c71": {
      "model_module": "@jupyter-widgets/base",
      "model_module_version": "1.2.0",
      "model_name": "LayoutModel",
      "state": {}
     },
     "4bd37d091b6b46b58c3c77d5901fca5f": {
      "model_module": "@jupyter-widgets/base",
      "model_module_version": "1.2.0",
      "model_name": "LayoutModel",
      "state": {}
     },
     "4beddef8728b4aefb37f64731fd2a54d": {
      "model_module": "@jupyter-widgets/controls",
      "model_module_version": "1.5.0",
      "model_name": "IntProgressModel",
      "state": {
       "bar_style": "danger",
       "description": "  1%",
       "layout": "IPY_MODEL_7139d48b445c48c4afdd7d01e85756f5",
       "max": 1500,
       "style": "IPY_MODEL_98a18914e0b04aad95fe90784eac794d",
       "value": 15
      }
     },
     "4c14a06e160a4046befa3db22e18278c": {
      "model_module": "@jupyter-widgets/base",
      "model_module_version": "1.2.0",
      "model_name": "LayoutModel",
      "state": {}
     },
     "4c309cb29f0f404dae6b5a8c49e21823": {
      "model_module": "@jupyter-widgets/controls",
      "model_module_version": "1.5.0",
      "model_name": "ProgressStyleModel",
      "state": {
       "description_width": "initial"
      }
     },
     "4ccc5c9228c64713a7b0501de555287f": {
      "model_module": "@jupyter-widgets/base",
      "model_module_version": "1.2.0",
      "model_name": "LayoutModel",
      "state": {}
     },
     "4cee0f178c614934b7febf9d92009ae3": {
      "model_module": "@jupyter-widgets/base",
      "model_module_version": "1.2.0",
      "model_name": "LayoutModel",
      "state": {}
     },
     "4e724c20adce49c6b78ca065ea70fda0": {
      "model_module": "@jupyter-widgets/base",
      "model_module_version": "1.2.0",
      "model_name": "LayoutModel",
      "state": {}
     },
     "4e9439d3328c4b0188f14c5dd65147a7": {
      "model_module": "@jupyter-widgets/base",
      "model_module_version": "1.2.0",
      "model_name": "LayoutModel",
      "state": {}
     },
     "4f14cdf1c11141b0969a1adbb3b9750b": {
      "model_module": "@jupyter-widgets/base",
      "model_module_version": "1.2.0",
      "model_name": "LayoutModel",
      "state": {}
     },
     "4f31d3d7364a49caa1c56c40678ea76d": {
      "model_module": "@jupyter-widgets/base",
      "model_module_version": "1.2.0",
      "model_name": "LayoutModel",
      "state": {}
     },
     "4f4baad1c6a94b3ca206124ed0bf8f34": {
      "model_module": "@jupyter-widgets/controls",
      "model_module_version": "1.5.0",
      "model_name": "IntProgressModel",
      "state": {
       "bar_style": "success",
       "description": "100%",
       "layout": "IPY_MODEL_cba5f979676d426d9179c0e81b902c62",
       "max": 1750,
       "style": "IPY_MODEL_ece5ccc847204a2683d34339e763cd00",
       "value": 1750
      }
     },
     "4f8d274201034ae187aa44a5c67426f9": {
      "model_module": "@jupyter-widgets/controls",
      "model_module_version": "1.5.0",
      "model_name": "HTMLModel",
      "state": {
       "layout": "IPY_MODEL_5d2a0d810b4f462c87b483830aa8cae6",
       "style": "IPY_MODEL_0705a7f0307e4e8e87212175d3632626",
       "value": " 1500/1500 [00:09&lt;00:00, 164.18it/s]"
      }
     },
     "4fa648bf9d424a5484882ccc0f89007e": {
      "model_module": "@jupyter-widgets/base",
      "model_module_version": "1.2.0",
      "model_name": "LayoutModel",
      "state": {}
     },
     "4fb65e9c0c1744ae8ee24cc8ab24f2d2": {
      "model_module": "@jupyter-widgets/base",
      "model_module_version": "1.2.0",
      "model_name": "LayoutModel",
      "state": {}
     },
     "4fd1d02155c847c5a02b26354ed480bb": {
      "model_module": "@jupyter-widgets/controls",
      "model_module_version": "1.5.0",
      "model_name": "HBoxModel",
      "state": {
       "children": [
        "IPY_MODEL_ae439bd22b3541be9b09d90a635d21a1",
        "IPY_MODEL_991413145cc04abb9885b1d11f79dab3"
       ],
       "layout": "IPY_MODEL_6957c06932314920a0076f53d9671a54"
      }
     },
     "50257c50812f4219bd97452bab6e5937": {
      "model_module": "@jupyter-widgets/base",
      "model_module_version": "1.2.0",
      "model_name": "LayoutModel",
      "state": {}
     },
     "507bf825a9d94ae0aaf063787605e711": {
      "model_module": "@jupyter-widgets/base",
      "model_module_version": "1.2.0",
      "model_name": "LayoutModel",
      "state": {}
     },
     "513f5669143d4cd7920bbabaad2b3579": {
      "model_module": "@jupyter-widgets/controls",
      "model_module_version": "1.5.0",
      "model_name": "ProgressStyleModel",
      "state": {
       "description_width": "initial"
      }
     },
     "514c4e360a034f5bb3e9271b99e4e453": {
      "model_module": "@jupyter-widgets/controls",
      "model_module_version": "1.5.0",
      "model_name": "DescriptionStyleModel",
      "state": {
       "description_width": ""
      }
     },
     "5177362ec9014d738ef4bd92180f3287": {
      "model_module": "@jupyter-widgets/base",
      "model_module_version": "1.2.0",
      "model_name": "LayoutModel",
      "state": {}
     },
     "51dd13772a7f4238bc19f7dd0e1116b7": {
      "model_module": "@jupyter-widgets/controls",
      "model_module_version": "1.5.0",
      "model_name": "ProgressStyleModel",
      "state": {
       "description_width": "initial"
      }
     },
     "526df7637eec45afb098b27a479facf8": {
      "model_module": "@jupyter-widgets/controls",
      "model_module_version": "1.5.0",
      "model_name": "DescriptionStyleModel",
      "state": {
       "description_width": ""
      }
     },
     "527a6b5a9fe04b65a006bee54f1a2130": {
      "model_module": "@jupyter-widgets/base",
      "model_module_version": "1.2.0",
      "model_name": "LayoutModel",
      "state": {}
     },
     "52dcef47efa54689b4d312e28e5a0e67": {
      "model_module": "@jupyter-widgets/controls",
      "model_module_version": "1.5.0",
      "model_name": "IntProgressModel",
      "state": {
       "bar_style": "danger",
       "description": "  0%",
       "layout": "IPY_MODEL_8a33b072da624f7cbab975082b365bf7",
       "max": 1500,
       "style": "IPY_MODEL_15bc9cd18112405fbeb4679cd761fd17"
      }
     },
     "537bd33b6f884e61b159d408857b4829": {
      "model_module": "@jupyter-widgets/base",
      "model_module_version": "1.2.0",
      "model_name": "LayoutModel",
      "state": {}
     },
     "53d4c8aa76454a2abdffb76e87fa02d5": {
      "model_module": "@jupyter-widgets/controls",
      "model_module_version": "1.5.0",
      "model_name": "ProgressStyleModel",
      "state": {
       "description_width": "initial"
      }
     },
     "53e7a6c2acaa439dbc873b4d1c506f8b": {
      "model_module": "@jupyter-widgets/controls",
      "model_module_version": "1.5.0",
      "model_name": "ProgressStyleModel",
      "state": {
       "description_width": "initial"
      }
     },
     "5433b2c94d044053a49e1580e23f4523": {
      "model_module": "@jupyter-widgets/base",
      "model_module_version": "1.2.0",
      "model_name": "LayoutModel",
      "state": {}
     },
     "558d08b659b54707a062e29a02445083": {
      "model_module": "@jupyter-widgets/controls",
      "model_module_version": "1.5.0",
      "model_name": "ProgressStyleModel",
      "state": {
       "description_width": "initial"
      }
     },
     "558f4652b1f84ffa9162e8e6bd41a4dd": {
      "model_module": "@jupyter-widgets/base",
      "model_module_version": "1.2.0",
      "model_name": "LayoutModel",
      "state": {}
     },
     "561dc530e74448fea91548c46436fc30": {
      "model_module": "@jupyter-widgets/controls",
      "model_module_version": "1.5.0",
      "model_name": "IntProgressModel",
      "state": {
       "bar_style": "success",
       "description": "100%",
       "layout": "IPY_MODEL_6540040515e84fd8b4906ffd3a4efb94",
       "max": 1750,
       "style": "IPY_MODEL_716ab5b75f4c458080a52eac937100cb",
       "value": 1750
      }
     },
     "56ce504e858f4e8aa669179dcd6aade0": {
      "model_module": "@jupyter-widgets/controls",
      "model_module_version": "1.5.0",
      "model_name": "HBoxModel",
      "state": {
       "children": [
        "IPY_MODEL_de6f96fa4d8b492a85723a93237e2697",
        "IPY_MODEL_7a7436ad62e542b6bd0fbe5cf1671dee"
       ],
       "layout": "IPY_MODEL_8f99c1a0cc9642eba1a3e568758264ad"
      }
     },
     "5708124ed7754f6987c840c60b1ab05b": {
      "model_module": "@jupyter-widgets/controls",
      "model_module_version": "1.5.0",
      "model_name": "DescriptionStyleModel",
      "state": {
       "description_width": ""
      }
     },
     "572bed82efe64ed88eea35be4356b40f": {
      "model_module": "@jupyter-widgets/base",
      "model_module_version": "1.2.0",
      "model_name": "LayoutModel",
      "state": {}
     },
     "575965d4f7954ed8a4e34b7a6b696028": {
      "model_module": "@jupyter-widgets/base",
      "model_module_version": "1.2.0",
      "model_name": "LayoutModel",
      "state": {}
     },
     "578247a1fa0e4432a3baecb798af201c": {
      "model_module": "@jupyter-widgets/base",
      "model_module_version": "1.2.0",
      "model_name": "LayoutModel",
      "state": {}
     },
     "5794fba5674141dd829791bbd357a31c": {
      "model_module": "@jupyter-widgets/controls",
      "model_module_version": "1.5.0",
      "model_name": "HTMLModel",
      "state": {
       "layout": "IPY_MODEL_9b46a011ea2f47c58527d182cf26d005",
       "style": "IPY_MODEL_9056e466b495403e847ec6681c2977d6",
       "value": " 1500/1500 [29:40&lt;00:00,  1.19s/it]"
      }
     },
     "57e239c9519643cd97889bc032aa3225": {
      "model_module": "@jupyter-widgets/controls",
      "model_module_version": "1.5.0",
      "model_name": "HBoxModel",
      "state": {
       "children": [
        "IPY_MODEL_88b851e22b1741b4a06134884fc50273",
        "IPY_MODEL_5794fba5674141dd829791bbd357a31c"
       ],
       "layout": "IPY_MODEL_1b6fbfebf4224781a9dbbb59d838f60b"
      }
     },
     "5892265b835e458dae05d164c8ca04da": {
      "model_module": "@jupyter-widgets/controls",
      "model_module_version": "1.5.0",
      "model_name": "HBoxModel",
      "state": {
       "children": [
        "IPY_MODEL_b100b80a28bf4c42a266c3ea38dcf34d",
        "IPY_MODEL_6ddb6cca836e41e7892fb5534383d64d"
       ],
       "layout": "IPY_MODEL_9817ad6f45a4437e8ae22f46b926176d"
      }
     },
     "58beb77c624942e999ee1126cffb4481": {
      "model_module": "@jupyter-widgets/controls",
      "model_module_version": "1.5.0",
      "model_name": "ProgressStyleModel",
      "state": {
       "description_width": "initial"
      }
     },
     "594520c7e15c43258cb1316f63715964": {
      "model_module": "@jupyter-widgets/base",
      "model_module_version": "1.2.0",
      "model_name": "LayoutModel",
      "state": {}
     },
     "5971908f089f4278b2999a4d40ffc6e3": {
      "model_module": "@jupyter-widgets/controls",
      "model_module_version": "1.5.0",
      "model_name": "HTMLModel",
      "state": {
       "layout": "IPY_MODEL_d625b463cdbe4800819549f76d9203d8",
       "style": "IPY_MODEL_9f53a539b7d54de59ca4906a9ab45607",
       "value": " 1500/1500 [10:04&lt;00:00,  2.48it/s]"
      }
     },
     "5a329cec28b3476c9d5b8cec800132c2": {
      "model_module": "@jupyter-widgets/base",
      "model_module_version": "1.2.0",
      "model_name": "LayoutModel",
      "state": {}
     },
     "5ae06376353b4053a46a04aae88b6420": {
      "model_module": "@jupyter-widgets/base",
      "model_module_version": "1.2.0",
      "model_name": "LayoutModel",
      "state": {}
     },
     "5b6c4b782ef04daab48128947140df89": {
      "model_module": "@jupyter-widgets/controls",
      "model_module_version": "1.5.0",
      "model_name": "IntProgressModel",
      "state": {
       "bar_style": "success",
       "description": "100%",
       "layout": "IPY_MODEL_45657da376ba4811bf01cb20a02897be",
       "max": 1750,
       "style": "IPY_MODEL_69dc629a08e04e4094e90fe21edc2b2c",
       "value": 1750
      }
     },
     "5b9568524b7c402187f9af86e543f63b": {
      "model_module": "@jupyter-widgets/controls",
      "model_module_version": "1.5.0",
      "model_name": "DescriptionStyleModel",
      "state": {
       "description_width": ""
      }
     },
     "5be7b24a9481406a9503b4b4109c0b93": {
      "model_module": "@jupyter-widgets/base",
      "model_module_version": "1.2.0",
      "model_name": "LayoutModel",
      "state": {}
     },
     "5c61551d74ba47f998d6e339fb5efafa": {
      "model_module": "@jupyter-widgets/controls",
      "model_module_version": "1.5.0",
      "model_name": "HTMLModel",
      "state": {
       "layout": "IPY_MODEL_f8971be3b1e248f7abfee33f7b346f4d",
       "style": "IPY_MODEL_d7877830d0d04235a82db610f1bf624b",
       "value": " 1500/1500 [01:39&lt;00:00, 15.13it/s]"
      }
     },
     "5cfa012fb0f243f1ad4f2a0150535888": {
      "model_module": "@jupyter-widgets/base",
      "model_module_version": "1.2.0",
      "model_name": "LayoutModel",
      "state": {}
     },
     "5d2a0d810b4f462c87b483830aa8cae6": {
      "model_module": "@jupyter-widgets/base",
      "model_module_version": "1.2.0",
      "model_name": "LayoutModel",
      "state": {}
     },
     "5d3f23205e7843dfa3a84ea5d6b1127f": {
      "model_module": "@jupyter-widgets/controls",
      "model_module_version": "1.5.0",
      "model_name": "HBoxModel",
      "state": {
       "children": [
        "IPY_MODEL_7e30c7d613e54dcc87af17146fd08c67",
        "IPY_MODEL_24b0448060bf473aa15232349cce587e"
       ],
       "layout": "IPY_MODEL_7c700ebcc4544ac1b03db8314f5b10c0"
      }
     },
     "5de1e2c96d2949f7a0739ca6346da4e3": {
      "model_module": "@jupyter-widgets/controls",
      "model_module_version": "1.5.0",
      "model_name": "HBoxModel",
      "state": {
       "children": [
        "IPY_MODEL_8c19631560684e2897a8a31de13da92e",
        "IPY_MODEL_de7aae43bb7a4702865003ecd6a54013"
       ],
       "layout": "IPY_MODEL_fc9d65bd3d624400ba14e80e4c32b53a"
      }
     },
     "5e0576e79bce4aa3ac123c3bee3f2b46": {
      "model_module": "@jupyter-widgets/base",
      "model_module_version": "1.2.0",
      "model_name": "LayoutModel",
      "state": {}
     },
     "5e91102a17cc4b9887c3741b337b9589": {
      "model_module": "@jupyter-widgets/controls",
      "model_module_version": "1.5.0",
      "model_name": "HBoxModel",
      "state": {
       "children": [
        "IPY_MODEL_bc1b8ddb4bb1448f94ee947c09bc89c7",
        "IPY_MODEL_7fb38154bffe491199ad6df642bac3d1"
       ],
       "layout": "IPY_MODEL_01d94815c5724ce3b10cdbd3cf5a23d8"
      }
     },
     "5f0eb0b5e46042b0a037c3668e54fb83": {
      "model_module": "@jupyter-widgets/controls",
      "model_module_version": "1.5.0",
      "model_name": "IntProgressModel",
      "state": {
       "bar_style": "success",
       "description": "100%",
       "layout": "IPY_MODEL_c1f08956fdba40d4bdd18501868cb331",
       "max": 1500,
       "style": "IPY_MODEL_e44cb8abf8af4df49e97ebc8b39ead6a",
       "value": 1500
      }
     },
     "5f251dc944a54503a3e401b035db6492": {
      "model_module": "@jupyter-widgets/controls",
      "model_module_version": "1.5.0",
      "model_name": "HBoxModel",
      "state": {
       "children": [
        "IPY_MODEL_ab167c1810504556a26eb2b8e244c3e2",
        "IPY_MODEL_6bd568421c2f448ea68b9fdada48e622"
       ],
       "layout": "IPY_MODEL_412803437497406fbc53be3456b0397d"
      }
     },
     "5ff09e14739543c8ba90f95518e16a2e": {
      "model_module": "@jupyter-widgets/base",
      "model_module_version": "1.2.0",
      "model_name": "LayoutModel",
      "state": {}
     },
     "60c003930e1d4a3cb65cbe2851d9ea1c": {
      "model_module": "@jupyter-widgets/controls",
      "model_module_version": "1.5.0",
      "model_name": "HBoxModel",
      "state": {
       "children": [
        "IPY_MODEL_08df1c93e70b43038fb7cbe9c3118efc",
        "IPY_MODEL_9b4f1951fad246848d8ca8939704407f"
       ],
       "layout": "IPY_MODEL_eb126ba097ff4061890bc782fe2cf97c"
      }
     },
     "613224b056414307bd697724f7336af4": {
      "model_module": "@jupyter-widgets/controls",
      "model_module_version": "1.5.0",
      "model_name": "DescriptionStyleModel",
      "state": {
       "description_width": ""
      }
     },
     "61348606c7004733863082a4107d2f4f": {
      "model_module": "@jupyter-widgets/base",
      "model_module_version": "1.2.0",
      "model_name": "LayoutModel",
      "state": {}
     },
     "6139f635d3284b4ea0f4a9e11bdab967": {
      "model_module": "@jupyter-widgets/controls",
      "model_module_version": "1.5.0",
      "model_name": "IntProgressModel",
      "state": {
       "bar_style": "success",
       "description": "100%",
       "layout": "IPY_MODEL_ec94c48e022f4dba86abf7f147ec8131",
       "max": 1750,
       "style": "IPY_MODEL_e615a70443604c6fa17bef4edf8a0bb5",
       "value": 1750
      }
     },
     "6168d7fb71314cb682c99df5c88e19b4": {
      "model_module": "@jupyter-widgets/controls",
      "model_module_version": "1.5.0",
      "model_name": "ProgressStyleModel",
      "state": {
       "description_width": "initial"
      }
     },
     "62089c86167940dca3ea56fccfb201db": {
      "model_module": "@jupyter-widgets/controls",
      "model_module_version": "1.5.0",
      "model_name": "DescriptionStyleModel",
      "state": {
       "description_width": ""
      }
     },
     "62f3794345f04561807d7e39f1846a66": {
      "model_module": "@jupyter-widgets/base",
      "model_module_version": "1.2.0",
      "model_name": "LayoutModel",
      "state": {}
     },
     "62f91d7df69841e2b2b67b990e791f82": {
      "model_module": "@jupyter-widgets/controls",
      "model_module_version": "1.5.0",
      "model_name": "DescriptionStyleModel",
      "state": {
       "description_width": ""
      }
     },
     "6338d5f86bcd469494c018d3044cb767": {
      "model_module": "@jupyter-widgets/controls",
      "model_module_version": "1.5.0",
      "model_name": "HTMLModel",
      "state": {
       "layout": "IPY_MODEL_756edef9000448cab3ec1210ae023b27",
       "style": "IPY_MODEL_6a0c7e76df584d5097fbb7230af58d08",
       "value": " 1750/1750 [01:30&lt;00:00, 19.39it/s]"
      }
     },
     "6354b66d2e8a4feea83e50cb17dc1d7e": {
      "model_module": "@jupyter-widgets/base",
      "model_module_version": "1.2.0",
      "model_name": "LayoutModel",
      "state": {}
     },
     "636bb7eb694648108c35f197be971b8b": {
      "model_module": "@jupyter-widgets/base",
      "model_module_version": "1.2.0",
      "model_name": "LayoutModel",
      "state": {}
     },
     "63c33a71f930446b8f26c398a3ff6c31": {
      "model_module": "@jupyter-widgets/controls",
      "model_module_version": "1.5.0",
      "model_name": "HBoxModel",
      "state": {
       "children": [
        "IPY_MODEL_aecee43b9a454305bc018564a887f435",
        "IPY_MODEL_f329eb7e4e3d46d69486420fee5d1b5a"
       ],
       "layout": "IPY_MODEL_a0ebebf031664c469c9fc691ab3887ce"
      }
     },
     "64d7f19890f94beebb2f4ab4e495d3ca": {
      "model_module": "@jupyter-widgets/controls",
      "model_module_version": "1.5.0",
      "model_name": "IntProgressModel",
      "state": {
       "bar_style": "success",
       "description": "100%",
       "layout": "IPY_MODEL_2eaa496c1a3641c9ba05518ca499121e",
       "max": 1500,
       "style": "IPY_MODEL_eac5e94ae3f64b76ab7d6aad7de66136",
       "value": 1500
      }
     },
     "6540040515e84fd8b4906ffd3a4efb94": {
      "model_module": "@jupyter-widgets/base",
      "model_module_version": "1.2.0",
      "model_name": "LayoutModel",
      "state": {}
     },
     "661b6def2635490d9550d9cb682f4c83": {
      "model_module": "@jupyter-widgets/controls",
      "model_module_version": "1.5.0",
      "model_name": "DescriptionStyleModel",
      "state": {
       "description_width": ""
      }
     },
     "66b2fbd72d2f41c5904993fe8ac4c7a5": {
      "model_module": "@jupyter-widgets/base",
      "model_module_version": "1.2.0",
      "model_name": "LayoutModel",
      "state": {}
     },
     "67409ed6d97d469d949944099248277a": {
      "model_module": "@jupyter-widgets/controls",
      "model_module_version": "1.5.0",
      "model_name": "HTMLModel",
      "state": {
       "layout": "IPY_MODEL_ab2a0aeedfbf448e8ffc5f00cf2ef712",
       "style": "IPY_MODEL_212f4b23eb4248078391eae2703b4992",
       "value": " 1750/1750 [57:28&lt;00:00,  1.97s/it]"
      }
     },
     "67d491dfbaba46b6a716a4ed20d13fdd": {
      "model_module": "@jupyter-widgets/controls",
      "model_module_version": "1.5.0",
      "model_name": "HTMLModel",
      "state": {
       "layout": "IPY_MODEL_7e586c46691741739d387d5ec05de272",
       "style": "IPY_MODEL_133d36bb27b646fb930d6fe439179cef",
       "value": " 24/1500 [02:45&lt;2:49:23,  6.89s/it]"
      }
     },
     "682c2f7e6689489fbcd96e727c2ceb7d": {
      "model_module": "@jupyter-widgets/base",
      "model_module_version": "1.2.0",
      "model_name": "LayoutModel",
      "state": {}
     },
     "6855e104baf042c490bb521248e74928": {
      "model_module": "@jupyter-widgets/controls",
      "model_module_version": "1.5.0",
      "model_name": "ProgressStyleModel",
      "state": {
       "description_width": "initial"
      }
     },
     "687d8a8c01a2477480b1072db242804e": {
      "model_module": "@jupyter-widgets/base",
      "model_module_version": "1.2.0",
      "model_name": "LayoutModel",
      "state": {}
     },
     "68929ccc2e3b4a79bafa8dcb0dd22ef5": {
      "model_module": "@jupyter-widgets/base",
      "model_module_version": "1.2.0",
      "model_name": "LayoutModel",
      "state": {}
     },
     "68a97b036deb479c94fb03978ebcf329": {
      "model_module": "@jupyter-widgets/controls",
      "model_module_version": "1.5.0",
      "model_name": "HTMLModel",
      "state": {
       "layout": "IPY_MODEL_f87061c55d5c4317aca4c8b7e045ddd3",
       "style": "IPY_MODEL_26c71471a3824809b7401e77a7229dc9",
       "value": " 1500/1500 [01:37&lt;00:00, 15.31it/s]"
      }
     },
     "6957c06932314920a0076f53d9671a54": {
      "model_module": "@jupyter-widgets/base",
      "model_module_version": "1.2.0",
      "model_name": "LayoutModel",
      "state": {}
     },
     "69dc629a08e04e4094e90fe21edc2b2c": {
      "model_module": "@jupyter-widgets/controls",
      "model_module_version": "1.5.0",
      "model_name": "ProgressStyleModel",
      "state": {
       "description_width": "initial"
      }
     },
     "6a0c7e76df584d5097fbb7230af58d08": {
      "model_module": "@jupyter-widgets/controls",
      "model_module_version": "1.5.0",
      "model_name": "DescriptionStyleModel",
      "state": {
       "description_width": ""
      }
     },
     "6a21d48f40064812a896c9ea28cecb94": {
      "model_module": "@jupyter-widgets/base",
      "model_module_version": "1.2.0",
      "model_name": "LayoutModel",
      "state": {}
     },
     "6a4acdc68b854983a8c324b26662d1ca": {
      "model_module": "@jupyter-widgets/controls",
      "model_module_version": "1.5.0",
      "model_name": "HTMLModel",
      "state": {
       "layout": "IPY_MODEL_5be7b24a9481406a9503b4b4109c0b93",
       "style": "IPY_MODEL_23b80bb797334ccc92a25cd31f829f40",
       "value": " 1500/1500 [01:30&lt;00:00, 16.63it/s]"
      }
     },
     "6a4ace1672ad47ea9d73cb570b40b383": {
      "model_module": "@jupyter-widgets/controls",
      "model_module_version": "1.5.0",
      "model_name": "HTMLModel",
      "state": {
       "layout": "IPY_MODEL_6b428084ce644010a84bae37aba2bcf3",
       "style": "IPY_MODEL_348cad6c6841476ba5fad288c6e74d3e",
       "value": " 21/1500 [03:26&lt;4:02:38,  9.84s/it]"
      }
     },
     "6a66e36b8bd54d97aebd43bbf8190848": {
      "model_module": "@jupyter-widgets/controls",
      "model_module_version": "1.5.0",
      "model_name": "HBoxModel",
      "state": {
       "children": [
        "IPY_MODEL_41e72dca6b7e48409c10083efef33d76",
        "IPY_MODEL_3d4844a6e9fa462c8c262352f860cf86"
       ],
       "layout": "IPY_MODEL_cde96e3eb6f640b18854016a4ad4f9e6"
      }
     },
     "6b197b8c9b8a4119a9d8162f879261f5": {
      "model_module": "@jupyter-widgets/controls",
      "model_module_version": "1.5.0",
      "model_name": "HBoxModel",
      "state": {
       "children": [
        "IPY_MODEL_21fd5302e7474f60abc0ad842d13d910",
        "IPY_MODEL_67409ed6d97d469d949944099248277a"
       ],
       "layout": "IPY_MODEL_297416491f8f424baad7d2c663fcc4ff"
      }
     },
     "6b428084ce644010a84bae37aba2bcf3": {
      "model_module": "@jupyter-widgets/base",
      "model_module_version": "1.2.0",
      "model_name": "LayoutModel",
      "state": {}
     },
     "6bc3dd0c65e54dc581103b284133e565": {
      "model_module": "@jupyter-widgets/controls",
      "model_module_version": "1.5.0",
      "model_name": "ProgressStyleModel",
      "state": {
       "description_width": "initial"
      }
     },
     "6bc59e2b3be54d2597a1b4272c93a0b3": {
      "model_module": "@jupyter-widgets/controls",
      "model_module_version": "1.5.0",
      "model_name": "ProgressStyleModel",
      "state": {
       "description_width": "initial"
      }
     },
     "6bd568421c2f448ea68b9fdada48e622": {
      "model_module": "@jupyter-widgets/controls",
      "model_module_version": "1.5.0",
      "model_name": "HTMLModel",
      "state": {
       "layout": "IPY_MODEL_e7eb3110746e4646bbe7551486b719a7",
       "style": "IPY_MODEL_ef26e97e24b04b96920a84d6e9875a4e",
       "value": " 1500/1500 [01:30&lt;00:00, 16.50it/s]"
      }
     },
     "6c50f40271004f3ca7ee2df883e27a53": {
      "model_module": "@jupyter-widgets/controls",
      "model_module_version": "1.5.0",
      "model_name": "DescriptionStyleModel",
      "state": {
       "description_width": ""
      }
     },
     "6caf22ba3cd540c8986170b4642d216d": {
      "model_module": "@jupyter-widgets/base",
      "model_module_version": "1.2.0",
      "model_name": "LayoutModel",
      "state": {}
     },
     "6d12522b7f8b40c387ec1a26731c7301": {
      "model_module": "@jupyter-widgets/controls",
      "model_module_version": "1.5.0",
      "model_name": "HBoxModel",
      "state": {
       "children": [
        "IPY_MODEL_e37ecf8591fb4032a2baf840243c157e",
        "IPY_MODEL_d037948b058048b38c4365ec74863674"
       ],
       "layout": "IPY_MODEL_abfffd05968b40e29ff659ddd43ece9b"
      }
     },
     "6d24fb4a071f4daebf78a24f2f8833af": {
      "model_module": "@jupyter-widgets/controls",
      "model_module_version": "1.5.0",
      "model_name": "HBoxModel",
      "state": {
       "children": [
        "IPY_MODEL_a8bfc9b0231e42d89a9f33eefdec3924",
        "IPY_MODEL_bf7b6855082848f4801fdf9c5d9d6255"
       ],
       "layout": "IPY_MODEL_0355c34cb4cf4bed8246eb215694a6f2"
      }
     },
     "6ddb6cca836e41e7892fb5534383d64d": {
      "model_module": "@jupyter-widgets/controls",
      "model_module_version": "1.5.0",
      "model_name": "HTMLModel",
      "state": {
       "layout": "IPY_MODEL_537bd33b6f884e61b159d408857b4829",
       "style": "IPY_MODEL_79dadd7ca7fd4842ac71e1e4c7456ea1",
       "value": " 0/1500 [03:25&lt;?, ?it/s]"
      }
     },
     "6e36ed1373ea4a189bd7893deb3a4de0": {
      "model_module": "@jupyter-widgets/controls",
      "model_module_version": "1.5.0",
      "model_name": "DescriptionStyleModel",
      "state": {
       "description_width": ""
      }
     },
     "6e4378d8eaf1417299c918e07cc0f048": {
      "model_module": "@jupyter-widgets/controls",
      "model_module_version": "1.5.0",
      "model_name": "HTMLModel",
      "state": {
       "layout": "IPY_MODEL_f9e0c63cacd44c13a41c2e1da4588de7",
       "style": "IPY_MODEL_24d7acf86aa9486b843d305e39e1b0e3",
       "value": " 1500/1500 [03:24&lt;00:00,  7.34it/s]"
      }
     },
     "6eb2ad48eb1e4d93b25ff309f9c46494": {
      "model_module": "@jupyter-widgets/controls",
      "model_module_version": "1.5.0",
      "model_name": "IntProgressModel",
      "state": {
       "bar_style": "success",
       "description": "100%",
       "layout": "IPY_MODEL_e08b6308f04e4de2b5f24c2e8551f2b7",
       "max": 1500,
       "style": "IPY_MODEL_ca624f6ab43f4a9fb55fea560ceb176d",
       "value": 1500
      }
     },
     "6f83efb454fc48eebc79a8a273501a39": {
      "model_module": "@jupyter-widgets/controls",
      "model_module_version": "1.5.0",
      "model_name": "ProgressStyleModel",
      "state": {
       "description_width": "initial"
      }
     },
     "6fa3b774021a4198a6a8e971b7b25f6e": {
      "model_module": "@jupyter-widgets/controls",
      "model_module_version": "1.5.0",
      "model_name": "HTMLModel",
      "state": {
       "layout": "IPY_MODEL_ca75f1498ec6485a946f386e0d83109d",
       "style": "IPY_MODEL_0d48566359a84e1a84523e4926c48a1f",
       "value": " 1500/1500 [01:13&lt;00:00, 20.48it/s]"
      }
     },
     "6fe0bb9ff0c8481490b0a382fe1b3a27": {
      "model_module": "@jupyter-widgets/controls",
      "model_module_version": "1.5.0",
      "model_name": "HTMLModel",
      "state": {
       "layout": "IPY_MODEL_04042b03593245399799d522e784df80",
       "style": "IPY_MODEL_b032b519c44b4392b7e6d8ea1f84832b",
       "value": " 1750/1750 [34:00&lt;00:00,  1.17s/it]"
      }
     },
     "704203a71178438892f92c3b743de56a": {
      "model_module": "@jupyter-widgets/controls",
      "model_module_version": "1.5.0",
      "model_name": "ProgressStyleModel",
      "state": {
       "description_width": "initial"
      }
     },
     "706da87ca7cc460781ce1e323b32aa2d": {
      "model_module": "@jupyter-widgets/base",
      "model_module_version": "1.2.0",
      "model_name": "LayoutModel",
      "state": {}
     },
     "7097e4d01f494badbd4ca9f2448ce3a7": {
      "model_module": "@jupyter-widgets/controls",
      "model_module_version": "1.5.0",
      "model_name": "ProgressStyleModel",
      "state": {
       "description_width": "initial"
      }
     },
     "70f5cc99a4a74ba0b248ab176b3149dc": {
      "model_module": "@jupyter-widgets/controls",
      "model_module_version": "1.5.0",
      "model_name": "DescriptionStyleModel",
      "state": {
       "description_width": ""
      }
     },
     "7102e76a1f6f49bea695687e937adde2": {
      "model_module": "@jupyter-widgets/controls",
      "model_module_version": "1.5.0",
      "model_name": "HTMLModel",
      "state": {
       "layout": "IPY_MODEL_83c5a8cde7a54f53acb581bbd7324c03",
       "style": "IPY_MODEL_84f4913d922147eca6988feaa3cfcc0f",
       "value": " 1500/1500 [13:07&lt;00:00,  1.90it/s]"
      }
     },
     "7139d48b445c48c4afdd7d01e85756f5": {
      "model_module": "@jupyter-widgets/base",
      "model_module_version": "1.2.0",
      "model_name": "LayoutModel",
      "state": {}
     },
     "716ab5b75f4c458080a52eac937100cb": {
      "model_module": "@jupyter-widgets/controls",
      "model_module_version": "1.5.0",
      "model_name": "ProgressStyleModel",
      "state": {
       "description_width": "initial"
      }
     },
     "72496c5baa3f42d1a32b08709a57afc3": {
      "model_module": "@jupyter-widgets/controls",
      "model_module_version": "1.5.0",
      "model_name": "DescriptionStyleModel",
      "state": {
       "description_width": ""
      }
     },
     "72810fb34773496e89abb86ea46cc458": {
      "model_module": "@jupyter-widgets/controls",
      "model_module_version": "1.5.0",
      "model_name": "DescriptionStyleModel",
      "state": {
       "description_width": ""
      }
     },
     "737eaf6aec74477e834fdaf1f835987a": {
      "model_module": "@jupyter-widgets/base",
      "model_module_version": "1.2.0",
      "model_name": "LayoutModel",
      "state": {}
     },
     "73fff8e83d554f908ef828d8bb6429cf": {
      "model_module": "@jupyter-widgets/controls",
      "model_module_version": "1.5.0",
      "model_name": "HTMLModel",
      "state": {
       "layout": "IPY_MODEL_572bed82efe64ed88eea35be4356b40f",
       "style": "IPY_MODEL_cbaa545f68d7426d812465c50495f641",
       "value": " 1500/1500 [35:39&lt;00:00,  1.43s/it]"
      }
     },
     "7462f8c121d64d62b6ca1d916af6cea1": {
      "model_module": "@jupyter-widgets/controls",
      "model_module_version": "1.5.0",
      "model_name": "ProgressStyleModel",
      "state": {
       "description_width": "initial"
      }
     },
     "7523777404944531b20770e91873cb07": {
      "model_module": "@jupyter-widgets/controls",
      "model_module_version": "1.5.0",
      "model_name": "HBoxModel",
      "state": {
       "children": [
        "IPY_MODEL_561dc530e74448fea91548c46436fc30",
        "IPY_MODEL_107c3a77f26040e7b6af3a52d5ea9d64"
       ],
       "layout": "IPY_MODEL_3c9fc3f18ee047b6b44417af65940982"
      }
     },
     "756edef9000448cab3ec1210ae023b27": {
      "model_module": "@jupyter-widgets/base",
      "model_module_version": "1.2.0",
      "model_name": "LayoutModel",
      "state": {}
     },
     "75c499a7df64422884c326451e413b0a": {
      "model_module": "@jupyter-widgets/controls",
      "model_module_version": "1.5.0",
      "model_name": "HTMLModel",
      "state": {
       "layout": "IPY_MODEL_afe05ed830764cb69f94166b2332185b",
       "style": "IPY_MODEL_351adc31304e4f94bfb4f5e566d6bb8f",
       "value": " 1500/1500 [01:46&lt;00:00, 14.06it/s]"
      }
     },
     "7651eb3805de4d3f9de4801a082088b4": {
      "model_module": "@jupyter-widgets/controls",
      "model_module_version": "1.5.0",
      "model_name": "HTMLModel",
      "state": {
       "layout": "IPY_MODEL_18dd0fb119ea486b9670f4bc88f43dbc",
       "style": "IPY_MODEL_613224b056414307bd697724f7336af4",
       "value": " 1750/1750 [01:46&lt;00:00, 16.41it/s]"
      }
     },
     "766ec4a99bba483ca83eb73cb1c0765e": {
      "model_module": "@jupyter-widgets/base",
      "model_module_version": "1.2.0",
      "model_name": "LayoutModel",
      "state": {}
     },
     "76dcf40a16ef4a528300269dec3dec29": {
      "model_module": "@jupyter-widgets/controls",
      "model_module_version": "1.5.0",
      "model_name": "IntProgressModel",
      "state": {
       "bar_style": "success",
       "description": "100%",
       "layout": "IPY_MODEL_507bf825a9d94ae0aaf063787605e711",
       "max": 1500,
       "style": "IPY_MODEL_91ec0fff17d64ba589fc781b8943cce6",
       "value": 1500
      }
     },
     "76e2d34b0f0c41f4b8720b055c59a5f1": {
      "model_module": "@jupyter-widgets/controls",
      "model_module_version": "1.5.0",
      "model_name": "DescriptionStyleModel",
      "state": {
       "description_width": ""
      }
     },
     "778dd8dbb498461f97ca74fbfcd5a9f8": {
      "model_module": "@jupyter-widgets/controls",
      "model_module_version": "1.5.0",
      "model_name": "HTMLModel",
      "state": {
       "layout": "IPY_MODEL_3915dc85ede74529b15dc875f6a9ddec",
       "style": "IPY_MODEL_d0fa1ea85ff84de1b3bfaeadd15d4e53",
       "value": " 1750/1750 [01:46&lt;00:00, 16.49it/s]"
      }
     },
     "77b1320287de42af905a6329b3d4d791": {
      "model_module": "@jupyter-widgets/controls",
      "model_module_version": "1.5.0",
      "model_name": "HBoxModel",
      "state": {
       "children": [
        "IPY_MODEL_d63265050d3f4c9a9cd009995b0c2f00",
        "IPY_MODEL_67d491dfbaba46b6a716a4ed20d13fdd"
       ],
       "layout": "IPY_MODEL_0e5b1cdb9c2f417f9b49042bce6ad729"
      }
     },
     "77ffb8efdd744c6f922e12e37381185a": {
      "model_module": "@jupyter-widgets/controls",
      "model_module_version": "1.5.0",
      "model_name": "IntProgressModel",
      "state": {
       "bar_style": "success",
       "description": "100%",
       "layout": "IPY_MODEL_d82ce7502ef54e3eb0fb424a1e321f1f",
       "max": 1500,
       "style": "IPY_MODEL_6168d7fb71314cb682c99df5c88e19b4",
       "value": 1500
      }
     },
     "785dd4db02304242b741128ce13791a8": {
      "model_module": "@jupyter-widgets/base",
      "model_module_version": "1.2.0",
      "model_name": "LayoutModel",
      "state": {}
     },
     "7961a0a7f71a47cba13536bdaee8549d": {
      "model_module": "@jupyter-widgets/base",
      "model_module_version": "1.2.0",
      "model_name": "LayoutModel",
      "state": {}
     },
     "7968bb1e40c2459bb6d62daf9b1d6490": {
      "model_module": "@jupyter-widgets/base",
      "model_module_version": "1.2.0",
      "model_name": "LayoutModel",
      "state": {}
     },
     "79cffed59fd340fb8134ac826478f789": {
      "model_module": "@jupyter-widgets/base",
      "model_module_version": "1.2.0",
      "model_name": "LayoutModel",
      "state": {}
     },
     "79d8698c8e6c4538899e8527c7076755": {
      "model_module": "@jupyter-widgets/base",
      "model_module_version": "1.2.0",
      "model_name": "LayoutModel",
      "state": {}
     },
     "79dadd7ca7fd4842ac71e1e4c7456ea1": {
      "model_module": "@jupyter-widgets/controls",
      "model_module_version": "1.5.0",
      "model_name": "DescriptionStyleModel",
      "state": {
       "description_width": ""
      }
     },
     "7a1b45dd93a44fbb9c9237f25b427857": {
      "model_module": "@jupyter-widgets/controls",
      "model_module_version": "1.5.0",
      "model_name": "DescriptionStyleModel",
      "state": {
       "description_width": ""
      }
     },
     "7a7436ad62e542b6bd0fbe5cf1671dee": {
      "model_module": "@jupyter-widgets/controls",
      "model_module_version": "1.5.0",
      "model_name": "HTMLModel",
      "state": {
       "layout": "IPY_MODEL_8828cfbf21e741828964748776ebf9e1",
       "style": "IPY_MODEL_d2732f66ccbb483bbc4b8d46e21b3e56",
       "value": " 1500/1500 [01:40&lt;00:00, 14.89it/s]"
      }
     },
     "7aa791b235b444daa11ffb1d52eb3576": {
      "model_module": "@jupyter-widgets/controls",
      "model_module_version": "1.5.0",
      "model_name": "ProgressStyleModel",
      "state": {
       "description_width": "initial"
      }
     },
     "7ab5302c435b4f8dbbf86172ea69bc26": {
      "model_module": "@jupyter-widgets/base",
      "model_module_version": "1.2.0",
      "model_name": "LayoutModel",
      "state": {}
     },
     "7abe867ab3e64aa68d2baeb4b05a6935": {
      "model_module": "@jupyter-widgets/controls",
      "model_module_version": "1.5.0",
      "model_name": "HTMLModel",
      "state": {
       "layout": "IPY_MODEL_b5180d38d3f649b0a83b44f510db7304",
       "style": "IPY_MODEL_da9b8658f3954f26a12ef322785aba2a",
       "value": " 1500/1500 [01:28&lt;00:00, 16.88it/s]"
      }
     },
     "7b26a97e93084b1986cc224f5b1ad4dd": {
      "model_module": "@jupyter-widgets/base",
      "model_module_version": "1.2.0",
      "model_name": "LayoutModel",
      "state": {}
     },
     "7bc7bb7b43524a56a9bbb54221c61ffa": {
      "model_module": "@jupyter-widgets/controls",
      "model_module_version": "1.5.0",
      "model_name": "ProgressStyleModel",
      "state": {
       "description_width": "initial"
      }
     },
     "7c36ed1279064aafb052c0c0c249f65f": {
      "model_module": "@jupyter-widgets/base",
      "model_module_version": "1.2.0",
      "model_name": "LayoutModel",
      "state": {}
     },
     "7c5ad99f28ec44a58d782aaaaf8aa1c7": {
      "model_module": "@jupyter-widgets/controls",
      "model_module_version": "1.5.0",
      "model_name": "ProgressStyleModel",
      "state": {
       "description_width": "initial"
      }
     },
     "7c700ebcc4544ac1b03db8314f5b10c0": {
      "model_module": "@jupyter-widgets/base",
      "model_module_version": "1.2.0",
      "model_name": "LayoutModel",
      "state": {}
     },
     "7c95c6d554e048ceba6f7ac174dc68ce": {
      "model_module": "@jupyter-widgets/controls",
      "model_module_version": "1.5.0",
      "model_name": "ProgressStyleModel",
      "state": {
       "description_width": "initial"
      }
     },
     "7cad4a7e669c471f81d4dd31c2e657b8": {
      "model_module": "@jupyter-widgets/controls",
      "model_module_version": "1.5.0",
      "model_name": "HBoxModel",
      "state": {
       "children": [
        "IPY_MODEL_2da3c34bc9a3451d8f15e895385f47ae",
        "IPY_MODEL_c23ddb4555e242db9bc73ee5154af9b9"
       ],
       "layout": "IPY_MODEL_2c40384e55db4feaa498df40cb88483d"
      }
     },
     "7d2c791674914f2c8fe9faa22477585b": {
      "model_module": "@jupyter-widgets/controls",
      "model_module_version": "1.5.0",
      "model_name": "HTMLModel",
      "state": {
       "layout": "IPY_MODEL_937de2426c6b41feb3f924d2a3aad778",
       "style": "IPY_MODEL_62089c86167940dca3ea56fccfb201db",
       "value": " 1750/1750 [07:46&lt;00:00,  3.75it/s]"
      }
     },
     "7db3041161774ab9a162ae4603a6156d": {
      "model_module": "@jupyter-widgets/controls",
      "model_module_version": "1.5.0",
      "model_name": "DescriptionStyleModel",
      "state": {
       "description_width": ""
      }
     },
     "7db89c095f274113a18c3e9c09723ee5": {
      "model_module": "@jupyter-widgets/controls",
      "model_module_version": "1.5.0",
      "model_name": "HBoxModel",
      "state": {
       "children": [
        "IPY_MODEL_1d7fa8a1374640dc9e83afb7323c48ff",
        "IPY_MODEL_d24215106c834acd92da48b323860296"
       ],
       "layout": "IPY_MODEL_ae3eade25ac64864bafa9d4758fefc82"
      }
     },
     "7e30c7d613e54dcc87af17146fd08c67": {
      "model_module": "@jupyter-widgets/controls",
      "model_module_version": "1.5.0",
      "model_name": "IntProgressModel",
      "state": {
       "bar_style": "success",
       "description": "100%",
       "layout": "IPY_MODEL_3f0ecd868ada47e7baa717f172817ed9",
       "max": 1750,
       "style": "IPY_MODEL_7097e4d01f494badbd4ca9f2448ce3a7",
       "value": 1750
      }
     },
     "7e586c46691741739d387d5ec05de272": {
      "model_module": "@jupyter-widgets/base",
      "model_module_version": "1.2.0",
      "model_name": "LayoutModel",
      "state": {}
     },
     "7e628b21eab74a7c954f0d408d591094": {
      "model_module": "@jupyter-widgets/base",
      "model_module_version": "1.2.0",
      "model_name": "LayoutModel",
      "state": {}
     },
     "7eb8adac7bb9404aafbf651797ff3be6": {
      "model_module": "@jupyter-widgets/base",
      "model_module_version": "1.2.0",
      "model_name": "LayoutModel",
      "state": {}
     },
     "7ede5588b93340d8a1b8a756b01d0fde": {
      "model_module": "@jupyter-widgets/base",
      "model_module_version": "1.2.0",
      "model_name": "LayoutModel",
      "state": {}
     },
     "7f88c660b27743508925ddfd8399d748": {
      "model_module": "@jupyter-widgets/controls",
      "model_module_version": "1.5.0",
      "model_name": "IntProgressModel",
      "state": {
       "bar_style": "danger",
       "description": "  0%",
       "layout": "IPY_MODEL_3b032c9134d2466581318fb0b82f3a86",
       "max": 1500,
       "style": "IPY_MODEL_7c5ad99f28ec44a58d782aaaaf8aa1c7"
      }
     },
     "7f899ded6619467e879677603cd3d904": {
      "model_module": "@jupyter-widgets/base",
      "model_module_version": "1.2.0",
      "model_name": "LayoutModel",
      "state": {}
     },
     "7fb38154bffe491199ad6df642bac3d1": {
      "model_module": "@jupyter-widgets/controls",
      "model_module_version": "1.5.0",
      "model_name": "HTMLModel",
      "state": {
       "layout": "IPY_MODEL_0907e3695040488dbf03bb3f031ea831",
       "style": "IPY_MODEL_987cd34ef9ea49c5aa711f94804cdf63",
       "value": " 1750/1750 [01:35&lt;00:00, 18.31it/s]"
      }
     },
     "7feff6a9e32c411e8bc0fba0581666d0": {
      "model_module": "@jupyter-widgets/base",
      "model_module_version": "1.2.0",
      "model_name": "LayoutModel",
      "state": {}
     },
     "81282e920b364ba9bebf280c986666d2": {
      "model_module": "@jupyter-widgets/base",
      "model_module_version": "1.2.0",
      "model_name": "LayoutModel",
      "state": {}
     },
     "815e4b069ecc4875afa26d10b4032a8f": {
      "model_module": "@jupyter-widgets/controls",
      "model_module_version": "1.5.0",
      "model_name": "HBoxModel",
      "state": {
       "children": [
        "IPY_MODEL_9a40e2c7c71e4f7fa4b9869514f7c046",
        "IPY_MODEL_73fff8e83d554f908ef828d8bb6429cf"
       ],
       "layout": "IPY_MODEL_29a8bcb34366442cb9d82db8fb18d068"
      }
     },
     "819befe3a9d14395a11c78f63852e63e": {
      "model_module": "@jupyter-widgets/controls",
      "model_module_version": "1.5.0",
      "model_name": "IntProgressModel",
      "state": {
       "bar_style": "success",
       "description": "100%",
       "layout": "IPY_MODEL_1acc49b81a1e417ca14d084267e4b7e2",
       "max": 1750,
       "style": "IPY_MODEL_eaee60fb5d324897920cea77b65a78dd",
       "value": 1750
      }
     },
     "820d9b69f3844c09bd72e2efc142df04": {
      "model_module": "@jupyter-widgets/controls",
      "model_module_version": "1.5.0",
      "model_name": "IntProgressModel",
      "state": {
       "bar_style": "success",
       "description": "100%",
       "layout": "IPY_MODEL_62f3794345f04561807d7e39f1846a66",
       "max": 1750,
       "style": "IPY_MODEL_bb89ecb784f7464585c2b3450eeadde9",
       "value": 1750
      }
     },
     "825615c32ab748dca113c14884561280": {
      "model_module": "@jupyter-widgets/controls",
      "model_module_version": "1.5.0",
      "model_name": "DescriptionStyleModel",
      "state": {
       "description_width": ""
      }
     },
     "82738b46a9bf4b77a5a3cd715826a567": {
      "model_module": "@jupyter-widgets/controls",
      "model_module_version": "1.5.0",
      "model_name": "DescriptionStyleModel",
      "state": {
       "description_width": ""
      }
     },
     "8287334e91c642e183deff569fa90dad": {
      "model_module": "@jupyter-widgets/controls",
      "model_module_version": "1.5.0",
      "model_name": "HBoxModel",
      "state": {
       "children": [
        "IPY_MODEL_8c8ee5286c0645dabd02de45959071f9",
        "IPY_MODEL_205ee646d92f43109fa2a59a923cce5b"
       ],
       "layout": "IPY_MODEL_3bf3c7b2fd3d4ff6bd3e4bd17bdd82f9"
      }
     },
     "82a6e81ae02e431e9eefdf06bf6395c0": {
      "model_module": "@jupyter-widgets/base",
      "model_module_version": "1.2.0",
      "model_name": "LayoutModel",
      "state": {}
     },
     "8316a03744ff44b88f9942dd157a0243": {
      "model_module": "@jupyter-widgets/base",
      "model_module_version": "1.2.0",
      "model_name": "LayoutModel",
      "state": {}
     },
     "839d3a7b12764eaeb400bd7d9d8bb15d": {
      "model_module": "@jupyter-widgets/base",
      "model_module_version": "1.2.0",
      "model_name": "LayoutModel",
      "state": {}
     },
     "83c5a8cde7a54f53acb581bbd7324c03": {
      "model_module": "@jupyter-widgets/base",
      "model_module_version": "1.2.0",
      "model_name": "LayoutModel",
      "state": {}
     },
     "84a55ed91e2d45759ebc07dff6849a38": {
      "model_module": "@jupyter-widgets/controls",
      "model_module_version": "1.5.0",
      "model_name": "IntProgressModel",
      "state": {
       "bar_style": "success",
       "description": "100%",
       "layout": "IPY_MODEL_909cb8ad93d147889160bab1d9cdde17",
       "max": 1500,
       "style": "IPY_MODEL_9ade0876948c4b5d97f4536db49b8d85",
       "value": 1500
      }
     },
     "84f4913d922147eca6988feaa3cfcc0f": {
      "model_module": "@jupyter-widgets/controls",
      "model_module_version": "1.5.0",
      "model_name": "DescriptionStyleModel",
      "state": {
       "description_width": ""
      }
     },
     "85306e2bbc5c4d9493cde4d62b1b2b5c": {
      "model_module": "@jupyter-widgets/controls",
      "model_module_version": "1.5.0",
      "model_name": "DescriptionStyleModel",
      "state": {
       "description_width": ""
      }
     },
     "853e670d4dc642059f586118065d1fae": {
      "model_module": "@jupyter-widgets/controls",
      "model_module_version": "1.5.0",
      "model_name": "IntProgressModel",
      "state": {
       "bar_style": "success",
       "description": "100%",
       "layout": "IPY_MODEL_d85b563ab2bd48b397389dd8a166d113",
       "max": 1500,
       "style": "IPY_MODEL_23bc1821bc0147c1821a9c9beace155d",
       "value": 1500
      }
     },
     "854491e358494992a2256407117114c1": {
      "model_module": "@jupyter-widgets/base",
      "model_module_version": "1.2.0",
      "model_name": "LayoutModel",
      "state": {}
     },
     "85566e8ad3544b8cb091122df548dff3": {
      "model_module": "@jupyter-widgets/base",
      "model_module_version": "1.2.0",
      "model_name": "LayoutModel",
      "state": {}
     },
     "855bbe3c05ae4f3982c441b9334375ca": {
      "model_module": "@jupyter-widgets/controls",
      "model_module_version": "1.5.0",
      "model_name": "IntProgressModel",
      "state": {
       "bar_style": "success",
       "description": "100%",
       "layout": "IPY_MODEL_5cfa012fb0f243f1ad4f2a0150535888",
       "max": 1750,
       "style": "IPY_MODEL_513f5669143d4cd7920bbabaad2b3579",
       "value": 1750
      }
     },
     "8586f924f9164625b7a41b47260f47c2": {
      "model_module": "@jupyter-widgets/base",
      "model_module_version": "1.2.0",
      "model_name": "LayoutModel",
      "state": {}
     },
     "8608aedd217145dfac071e0ce9f04407": {
      "model_module": "@jupyter-widgets/base",
      "model_module_version": "1.2.0",
      "model_name": "LayoutModel",
      "state": {}
     },
     "86f1d800a33d48d0bb0160d8d4242155": {
      "model_module": "@jupyter-widgets/controls",
      "model_module_version": "1.5.0",
      "model_name": "IntProgressModel",
      "state": {
       "bar_style": "success",
       "description": "100%",
       "layout": "IPY_MODEL_fc0a61a7d91a42388efacbd23d5b2f79",
       "max": 1500,
       "style": "IPY_MODEL_94e5b3a4b71e40c0ad91999bf6cd8c5e",
       "value": 1500
      }
     },
     "879ba0bfb6664a878623aafd8bedba0d": {
      "model_module": "@jupyter-widgets/controls",
      "model_module_version": "1.5.0",
      "model_name": "HBoxModel",
      "state": {
       "children": [
        "IPY_MODEL_4a4afb68a68248d9b26d2e7ca048ae8e",
        "IPY_MODEL_0cf38e62b98843cc83381d47c69156f2"
       ],
       "layout": "IPY_MODEL_96f80a3c06b84a5b9ebe46f43cff0292"
      }
     },
     "87ab29ed7a134725b83f83c9e441e301": {
      "model_module": "@jupyter-widgets/base",
      "model_module_version": "1.2.0",
      "model_name": "LayoutModel",
      "state": {}
     },
     "8828cfbf21e741828964748776ebf9e1": {
      "model_module": "@jupyter-widgets/base",
      "model_module_version": "1.2.0",
      "model_name": "LayoutModel",
      "state": {}
     },
     "88b851e22b1741b4a06134884fc50273": {
      "model_module": "@jupyter-widgets/controls",
      "model_module_version": "1.5.0",
      "model_name": "IntProgressModel",
      "state": {
       "bar_style": "success",
       "description": "100%",
       "layout": "IPY_MODEL_148bc6a69ba3458d917bd2e95427c2ff",
       "max": 1500,
       "style": "IPY_MODEL_b97b0bf65f2d4816a2240016a3c26a98",
       "value": 1500
      }
     },
     "88b98cc89c6e425094306be926e17550": {
      "model_module": "@jupyter-widgets/controls",
      "model_module_version": "1.5.0",
      "model_name": "ProgressStyleModel",
      "state": {
       "description_width": "initial"
      }
     },
     "891d309dcdb9470e9abb9e1b8b69a371": {
      "model_module": "@jupyter-widgets/controls",
      "model_module_version": "1.5.0",
      "model_name": "HTMLModel",
      "state": {
       "layout": "IPY_MODEL_b0303d9e7287407fb166ba56d00ef5e9",
       "style": "IPY_MODEL_c84490940cde4cbbb8720511b064799c",
       "value": " 15/1500 [03:40&lt;6:03:55, 14.70s/it]"
      }
     },
     "8928c27f5f73419fbbd34f3d58b19e8c": {
      "model_module": "@jupyter-widgets/controls",
      "model_module_version": "1.5.0",
      "model_name": "IntProgressModel",
      "state": {
       "bar_style": "success",
       "description": "100%",
       "layout": "IPY_MODEL_8eaf0c65afaf4ed19dd83b7dbc6ef4d2",
       "max": 1500,
       "style": "IPY_MODEL_b744e4866e174cb381c3e1c5a4afdfb0",
       "value": 1500
      }
     },
     "897640393a5144d7b812e1368491eab6": {
      "model_module": "@jupyter-widgets/controls",
      "model_module_version": "1.5.0",
      "model_name": "HBoxModel",
      "state": {
       "children": [
        "IPY_MODEL_f8ed858f5bf24b5e93dab51f215767dd",
        "IPY_MODEL_1b7b1049054f4df7a5eff289612f1ceb"
       ],
       "layout": "IPY_MODEL_4ad0c96077494a3299186f44b6feb26c"
      }
     },
     "898c7cf3e5ab4cff9917baf22bf2b5c2": {
      "model_module": "@jupyter-widgets/controls",
      "model_module_version": "1.5.0",
      "model_name": "HTMLModel",
      "state": {
       "layout": "IPY_MODEL_7feff6a9e32c411e8bc0fba0581666d0",
       "style": "IPY_MODEL_e9bcd65aebea4131ad030b72215d0ce3",
       "value": " 1500/1500 [23:40&lt;00:00,  1.06it/s]"
      }
     },
     "898c812bb0b54003aa75564f51b0f45f": {
      "model_module": "@jupyter-widgets/controls",
      "model_module_version": "1.5.0",
      "model_name": "HBoxModel",
      "state": {
       "children": [
        "IPY_MODEL_5f0eb0b5e46042b0a037c3668e54fb83",
        "IPY_MODEL_c0f23d26d8e84b0792d34e88ab4eac86"
       ],
       "layout": "IPY_MODEL_a70e2ac4805f43549630558ca64f5570"
      }
     },
     "8a14e72e999647918d4b503536fd1d1c": {
      "model_module": "@jupyter-widgets/controls",
      "model_module_version": "1.5.0",
      "model_name": "DescriptionStyleModel",
      "state": {
       "description_width": ""
      }
     },
     "8a33b072da624f7cbab975082b365bf7": {
      "model_module": "@jupyter-widgets/base",
      "model_module_version": "1.2.0",
      "model_name": "LayoutModel",
      "state": {}
     },
     "8a58acd335684ed09b9ed85cb865fdd6": {
      "model_module": "@jupyter-widgets/base",
      "model_module_version": "1.2.0",
      "model_name": "LayoutModel",
      "state": {}
     },
     "8ae2327cd1be47e88c28794fdd7e6ee1": {
      "model_module": "@jupyter-widgets/controls",
      "model_module_version": "1.5.0",
      "model_name": "ProgressStyleModel",
      "state": {
       "description_width": "initial"
      }
     },
     "8b3fec5dc6d84abb968cb077ab846245": {
      "model_module": "@jupyter-widgets/controls",
      "model_module_version": "1.5.0",
      "model_name": "HTMLModel",
      "state": {
       "layout": "IPY_MODEL_92ccfac744af420fb90b902d5f9d3c1d",
       "style": "IPY_MODEL_7a1b45dd93a44fbb9c9237f25b427857",
       "value": " 1750/1750 [37:01&lt;00:00,  1.27s/it]"
      }
     },
     "8b6b89d946c7476bad26c389206224b5": {
      "model_module": "@jupyter-widgets/base",
      "model_module_version": "1.2.0",
      "model_name": "LayoutModel",
      "state": {}
     },
     "8b6e336641b343ce9df8979d4005a1f9": {
      "model_module": "@jupyter-widgets/base",
      "model_module_version": "1.2.0",
      "model_name": "LayoutModel",
      "state": {}
     },
     "8bab0373207f4110930a1ed8dd82bbf4": {
      "model_module": "@jupyter-widgets/controls",
      "model_module_version": "1.5.0",
      "model_name": "HBoxModel",
      "state": {
       "children": [
        "IPY_MODEL_266b7327c0b9424092bbc3a717b4ec9a",
        "IPY_MODEL_8bd32f3654cc4d67a014c95222c9497f"
       ],
       "layout": "IPY_MODEL_2f6ef2b079d94b1698e187dcecb93b3e"
      }
     },
     "8bd32f3654cc4d67a014c95222c9497f": {
      "model_module": "@jupyter-widgets/controls",
      "model_module_version": "1.5.0",
      "model_name": "HTMLModel",
      "state": {
       "layout": "IPY_MODEL_2e3d96c8341c481388ec670a5af23528",
       "style": "IPY_MODEL_a0b80f604e444c6cad4a4fd562c6edf2",
       "value": " 1500/1500 [00:08&lt;00:00, 166.83it/s]"
      }
     },
     "8c19631560684e2897a8a31de13da92e": {
      "model_module": "@jupyter-widgets/controls",
      "model_module_version": "1.5.0",
      "model_name": "IntProgressModel",
      "state": {
       "bar_style": "success",
       "description": "100%",
       "layout": "IPY_MODEL_3b698707f1f346f7bade68acf9e86e77",
       "max": 1750,
       "style": "IPY_MODEL_a18dea80fb9b45a7a80f961b44555ae1",
       "value": 1750
      }
     },
     "8c6e3d0fc10c400d8959790abd63dc9e": {
      "model_module": "@jupyter-widgets/controls",
      "model_module_version": "1.5.0",
      "model_name": "IntProgressModel",
      "state": {
       "bar_style": "success",
       "description": "100%",
       "layout": "IPY_MODEL_40d249e6475f49a88da8813408f05aa0",
       "max": 1750,
       "style": "IPY_MODEL_cfbb4f4f65304ca6bdc3a4ac00ced392",
       "value": 1750
      }
     },
     "8c8ee5286c0645dabd02de45959071f9": {
      "model_module": "@jupyter-widgets/controls",
      "model_module_version": "1.5.0",
      "model_name": "IntProgressModel",
      "state": {
       "bar_style": "danger",
       "description": " 73%",
       "layout": "IPY_MODEL_fed7290647c84b3192ada81bf7853c1b",
       "max": 1500,
       "style": "IPY_MODEL_955c830b692a415d889b12c0042f12a4",
       "value": 1097
      }
     },
     "8cdd381110a74840b2f937dd04ecd818": {
      "model_module": "@jupyter-widgets/controls",
      "model_module_version": "1.5.0",
      "model_name": "IntProgressModel",
      "state": {
       "bar_style": "success",
       "description": "100%",
       "layout": "IPY_MODEL_854491e358494992a2256407117114c1",
       "max": 1750,
       "style": "IPY_MODEL_0fcf944a03034fde95d0c8f5a6ce5d0f",
       "value": 1750
      }
     },
     "8eaf0c65afaf4ed19dd83b7dbc6ef4d2": {
      "model_module": "@jupyter-widgets/base",
      "model_module_version": "1.2.0",
      "model_name": "LayoutModel",
      "state": {}
     },
     "8ef072ee4d9c4f8e8ab543045e61e049": {
      "model_module": "@jupyter-widgets/controls",
      "model_module_version": "1.5.0",
      "model_name": "IntProgressModel",
      "state": {
       "bar_style": "success",
       "description": "100%",
       "layout": "IPY_MODEL_68929ccc2e3b4a79bafa8dcb0dd22ef5",
       "max": 1750,
       "style": "IPY_MODEL_7462f8c121d64d62b6ca1d916af6cea1",
       "value": 1750
      }
     },
     "8f09593678814d099a90183b4c042b2b": {
      "model_module": "@jupyter-widgets/controls",
      "model_module_version": "1.5.0",
      "model_name": "HTMLModel",
      "state": {
       "layout": "IPY_MODEL_527a6b5a9fe04b65a006bee54f1a2130",
       "style": "IPY_MODEL_0c49409bf7e44facb38c499390fdaa85",
       "value": " 1750/1750 [03:07&lt;00:00,  9.34it/s]"
      }
     },
     "8f8f972c4dac44a2814a24cee47c4fec": {
      "model_module": "@jupyter-widgets/controls",
      "model_module_version": "1.5.0",
      "model_name": "HBoxModel",
      "state": {
       "children": [
        "IPY_MODEL_2b81df8dc902474aa221df8f9c5882ec",
        "IPY_MODEL_a481d63f4b2344d185b7be0103ba4822"
       ],
       "layout": "IPY_MODEL_0303fccc863d45b8b2cd20c632bbf9f0"
      }
     },
     "8f99c1a0cc9642eba1a3e568758264ad": {
      "model_module": "@jupyter-widgets/base",
      "model_module_version": "1.2.0",
      "model_name": "LayoutModel",
      "state": {}
     },
     "8fdc73a774234051889710322e3984f6": {
      "model_module": "@jupyter-widgets/base",
      "model_module_version": "1.2.0",
      "model_name": "LayoutModel",
      "state": {}
     },
     "9056e466b495403e847ec6681c2977d6": {
      "model_module": "@jupyter-widgets/controls",
      "model_module_version": "1.5.0",
      "model_name": "DescriptionStyleModel",
      "state": {
       "description_width": ""
      }
     },
     "909cb8ad93d147889160bab1d9cdde17": {
      "model_module": "@jupyter-widgets/base",
      "model_module_version": "1.2.0",
      "model_name": "LayoutModel",
      "state": {}
     },
     "91348f9b2f9e4d449cc6096d5054866a": {
      "model_module": "@jupyter-widgets/controls",
      "model_module_version": "1.5.0",
      "model_name": "IntProgressModel",
      "state": {
       "bar_style": "success",
       "description": "100%",
       "layout": "IPY_MODEL_1ab249eb7fc647de8d30a5770dd12c89",
       "max": 1750,
       "style": "IPY_MODEL_51dd13772a7f4238bc19f7dd0e1116b7",
       "value": 1750
      }
     },
     "91ec0fff17d64ba589fc781b8943cce6": {
      "model_module": "@jupyter-widgets/controls",
      "model_module_version": "1.5.0",
      "model_name": "ProgressStyleModel",
      "state": {
       "description_width": "initial"
      }
     },
     "92ccfac744af420fb90b902d5f9d3c1d": {
      "model_module": "@jupyter-widgets/base",
      "model_module_version": "1.2.0",
      "model_name": "LayoutModel",
      "state": {}
     },
     "931a5f717fb44ad6bbd5bf71d995197e": {
      "model_module": "@jupyter-widgets/controls",
      "model_module_version": "1.5.0",
      "model_name": "ProgressStyleModel",
      "state": {
       "description_width": "initial"
      }
     },
     "937de2426c6b41feb3f924d2a3aad778": {
      "model_module": "@jupyter-widgets/base",
      "model_module_version": "1.2.0",
      "model_name": "LayoutModel",
      "state": {}
     },
     "939eef2b0f9b4c8c9d009538be48e0ee": {
      "model_module": "@jupyter-widgets/controls",
      "model_module_version": "1.5.0",
      "model_name": "DescriptionStyleModel",
      "state": {
       "description_width": ""
      }
     },
     "93b125f01b0643e4b6aa0df19a4c8d6c": {
      "model_module": "@jupyter-widgets/controls",
      "model_module_version": "1.5.0",
      "model_name": "HBoxModel",
      "state": {
       "children": [
        "IPY_MODEL_855bbe3c05ae4f3982c441b9334375ca",
        "IPY_MODEL_0d2db855e688467fb799e85fe1016db7"
       ],
       "layout": "IPY_MODEL_01b80254b7884633aed7be4537bfb732"
      }
     },
     "944bb8996fff4c6984e56a6930964ad8": {
      "model_module": "@jupyter-widgets/controls",
      "model_module_version": "1.5.0",
      "model_name": "IntProgressModel",
      "state": {
       "bar_style": "success",
       "description": "100%",
       "layout": "IPY_MODEL_105c2997352d442c90a259f4847ca928",
       "max": 1750,
       "style": "IPY_MODEL_6bc3dd0c65e54dc581103b284133e565",
       "value": 1750
      }
     },
     "94e5b3a4b71e40c0ad91999bf6cd8c5e": {
      "model_module": "@jupyter-widgets/controls",
      "model_module_version": "1.5.0",
      "model_name": "ProgressStyleModel",
      "state": {
       "description_width": "initial"
      }
     },
     "94fc67d5dd274172a9559ff76317a321": {
      "model_module": "@jupyter-widgets/controls",
      "model_module_version": "1.5.0",
      "model_name": "ProgressStyleModel",
      "state": {
       "description_width": "initial"
      }
     },
     "955c830b692a415d889b12c0042f12a4": {
      "model_module": "@jupyter-widgets/controls",
      "model_module_version": "1.5.0",
      "model_name": "ProgressStyleModel",
      "state": {
       "description_width": "initial"
      }
     },
     "958ad53abfee490f9e4105e8f7cd7f0d": {
      "model_module": "@jupyter-widgets/controls",
      "model_module_version": "1.5.0",
      "model_name": "IntProgressModel",
      "state": {
       "bar_style": "success",
       "description": "100%",
       "layout": "IPY_MODEL_f5133c332fcc456e98e68f09b9e43f8e",
       "max": 1500,
       "style": "IPY_MODEL_0abe341800604eb98c6eb0db354cf991",
       "value": 1500
      }
     },
     "959b552a9fc0434198884815d09c1c00": {
      "model_module": "@jupyter-widgets/base",
      "model_module_version": "1.2.0",
      "model_name": "LayoutModel",
      "state": {}
     },
     "95ba1a61a9464d6db870600a84cba655": {
      "model_module": "@jupyter-widgets/controls",
      "model_module_version": "1.5.0",
      "model_name": "HBoxModel",
      "state": {
       "children": [
        "IPY_MODEL_d6ac534e351f405f9d3cd72c4f2e6539",
        "IPY_MODEL_054edb9c829d4e73a8f73e546ddfa2ea"
       ],
       "layout": "IPY_MODEL_682c2f7e6689489fbcd96e727c2ceb7d"
      }
     },
     "96f80a3c06b84a5b9ebe46f43cff0292": {
      "model_module": "@jupyter-widgets/base",
      "model_module_version": "1.2.0",
      "model_name": "LayoutModel",
      "state": {}
     },
     "979adf7b26d847e7bfb283b6a1f6f65e": {
      "model_module": "@jupyter-widgets/controls",
      "model_module_version": "1.5.0",
      "model_name": "DescriptionStyleModel",
      "state": {
       "description_width": ""
      }
     },
     "9800c4b9fcf2474fa38b867685452b29": {
      "model_module": "@jupyter-widgets/controls",
      "model_module_version": "1.5.0",
      "model_name": "DescriptionStyleModel",
      "state": {
       "description_width": ""
      }
     },
     "9817ad6f45a4437e8ae22f46b926176d": {
      "model_module": "@jupyter-widgets/base",
      "model_module_version": "1.2.0",
      "model_name": "LayoutModel",
      "state": {}
     },
     "985f5caf1c7c4e8b835688e5d8fb7c42": {
      "model_module": "@jupyter-widgets/controls",
      "model_module_version": "1.5.0",
      "model_name": "DescriptionStyleModel",
      "state": {
       "description_width": ""
      }
     },
     "987cd34ef9ea49c5aa711f94804cdf63": {
      "model_module": "@jupyter-widgets/controls",
      "model_module_version": "1.5.0",
      "model_name": "DescriptionStyleModel",
      "state": {
       "description_width": ""
      }
     },
     "9884b287086546e1ae8be86a8aad57bc": {
      "model_module": "@jupyter-widgets/controls",
      "model_module_version": "1.5.0",
      "model_name": "HBoxModel",
      "state": {
       "children": [
        "IPY_MODEL_4beddef8728b4aefb37f64731fd2a54d",
        "IPY_MODEL_891d309dcdb9470e9abb9e1b8b69a371"
       ],
       "layout": "IPY_MODEL_d10fd344741e4148ba828894ea2b0292"
      }
     },
     "98a18914e0b04aad95fe90784eac794d": {
      "model_module": "@jupyter-widgets/controls",
      "model_module_version": "1.5.0",
      "model_name": "ProgressStyleModel",
      "state": {
       "description_width": "initial"
      }
     },
     "991413145cc04abb9885b1d11f79dab3": {
      "model_module": "@jupyter-widgets/controls",
      "model_module_version": "1.5.0",
      "model_name": "HTMLModel",
      "state": {
       "layout": "IPY_MODEL_7b26a97e93084b1986cc224f5b1ad4dd",
       "style": "IPY_MODEL_b9308271f0994ce3b30d4cf907d93d96",
       "value": " 1500/1500 [07:02&lt;00:00,  3.55it/s]"
      }
     },
     "995e14d4a6c14fce8f4b8755026ff5ce": {
      "model_module": "@jupyter-widgets/base",
      "model_module_version": "1.2.0",
      "model_name": "LayoutModel",
      "state": {}
     },
     "998573e830804ea2af018c5b3a26c2d3": {
      "model_module": "@jupyter-widgets/controls",
      "model_module_version": "1.5.0",
      "model_name": "HTMLModel",
      "state": {
       "layout": "IPY_MODEL_eed72f8399834efe97eff6aada524869",
       "style": "IPY_MODEL_15ee84c4b5a8406d9f916198a80a6197",
       "value": " 1750/1750 [23:31&lt;00:00,  1.24it/s]"
      }
     },
     "99e984f81024439dac1a278b21085e58": {
      "model_module": "@jupyter-widgets/controls",
      "model_module_version": "1.5.0",
      "model_name": "IntProgressModel",
      "state": {
       "bar_style": "success",
       "description": "100%",
       "layout": "IPY_MODEL_3db65065dc734fa8b88d50d78e361a8b",
       "max": 1750,
       "style": "IPY_MODEL_c9e85e6da9a14044bdf42e447b553a8e",
       "value": 1750
      }
     },
     "9a038e76fb5146088e55f278318d93b5": {
      "model_module": "@jupyter-widgets/base",
      "model_module_version": "1.2.0",
      "model_name": "LayoutModel",
      "state": {}
     },
     "9a40e2c7c71e4f7fa4b9869514f7c046": {
      "model_module": "@jupyter-widgets/controls",
      "model_module_version": "1.5.0",
      "model_name": "IntProgressModel",
      "state": {
       "bar_style": "success",
       "description": "100%",
       "layout": "IPY_MODEL_eb603d234a874e48bf3ff7bad58b23df",
       "max": 1500,
       "style": "IPY_MODEL_cb491c83e1d1479d987e0e5193517774",
       "value": 1500
      }
     },
     "9adc66f80486473f82ceb8ef16661c39": {
      "model_module": "@jupyter-widgets/controls",
      "model_module_version": "1.5.0",
      "model_name": "HBoxModel",
      "state": {
       "children": [
        "IPY_MODEL_d1cda4f6f31248feb0f3328597045a17",
        "IPY_MODEL_19edfb6eb45346a98349d19c0b790c6d"
       ],
       "layout": "IPY_MODEL_a337aaf360874e0ea33d2557c2a88b91"
      }
     },
     "9ade0876948c4b5d97f4536db49b8d85": {
      "model_module": "@jupyter-widgets/controls",
      "model_module_version": "1.5.0",
      "model_name": "ProgressStyleModel",
      "state": {
       "description_width": "initial"
      }
     },
     "9b3f60b8e6904fa1b3cc0bebdf5109c5": {
      "model_module": "@jupyter-widgets/controls",
      "model_module_version": "1.5.0",
      "model_name": "HTMLModel",
      "state": {
       "layout": "IPY_MODEL_45ac2b1baaf14e5b877a6bee1fea7249",
       "style": "IPY_MODEL_5b9568524b7c402187f9af86e543f63b",
       "value": " 1500/1500 [26:40&lt;00:00,  1.07s/it]"
      }
     },
     "9b46a011ea2f47c58527d182cf26d005": {
      "model_module": "@jupyter-widgets/base",
      "model_module_version": "1.2.0",
      "model_name": "LayoutModel",
      "state": {}
     },
     "9b4f1951fad246848d8ca8939704407f": {
      "model_module": "@jupyter-widgets/controls",
      "model_module_version": "1.5.0",
      "model_name": "HTMLModel",
      "state": {
       "layout": "IPY_MODEL_3bf2ffc6e1b2415fa9dcd550a6bf626b",
       "style": "IPY_MODEL_ecab7f16c7e14f98a31758482b4e64e8",
       "value": " 1500/1500 [01:31&lt;00:00, 16.38it/s]"
      }
     },
     "9bd4838d03d84585a1767316217c24f7": {
      "model_module": "@jupyter-widgets/controls",
      "model_module_version": "1.5.0",
      "model_name": "HBoxModel",
      "state": {
       "children": [
        "IPY_MODEL_7f88c660b27743508925ddfd8399d748",
        "IPY_MODEL_4658e429c177445685a9f5087e9b416a"
       ],
       "layout": "IPY_MODEL_995e14d4a6c14fce8f4b8755026ff5ce"
      }
     },
     "9c709e0235614bb68fc83565bd291597": {
      "model_module": "@jupyter-widgets/base",
      "model_module_version": "1.2.0",
      "model_name": "LayoutModel",
      "state": {}
     },
     "9cee06761f8f49de8a6a4e7d4d9b20df": {
      "model_module": "@jupyter-widgets/controls",
      "model_module_version": "1.5.0",
      "model_name": "ProgressStyleModel",
      "state": {
       "description_width": "initial"
      }
     },
     "9eb520b4ab5c4a40bc7c9e4f8455ccaf": {
      "model_module": "@jupyter-widgets/controls",
      "model_module_version": "1.5.0",
      "model_name": "ProgressStyleModel",
      "state": {
       "description_width": "initial"
      }
     },
     "9f0b7bde43f54584a124519cd4302fdb": {
      "model_module": "@jupyter-widgets/base",
      "model_module_version": "1.2.0",
      "model_name": "LayoutModel",
      "state": {}
     },
     "9f53a539b7d54de59ca4906a9ab45607": {
      "model_module": "@jupyter-widgets/controls",
      "model_module_version": "1.5.0",
      "model_name": "DescriptionStyleModel",
      "state": {
       "description_width": ""
      }
     },
     "a0a0b73e2f6d43cc8f62e11e2bab7d1d": {
      "model_module": "@jupyter-widgets/base",
      "model_module_version": "1.2.0",
      "model_name": "LayoutModel",
      "state": {}
     },
     "a0b80f604e444c6cad4a4fd562c6edf2": {
      "model_module": "@jupyter-widgets/controls",
      "model_module_version": "1.5.0",
      "model_name": "DescriptionStyleModel",
      "state": {
       "description_width": ""
      }
     },
     "a0ebebf031664c469c9fc691ab3887ce": {
      "model_module": "@jupyter-widgets/base",
      "model_module_version": "1.2.0",
      "model_name": "LayoutModel",
      "state": {}
     },
     "a10b1a0a39ff4cec93e09fb6f0a993a1": {
      "model_module": "@jupyter-widgets/base",
      "model_module_version": "1.2.0",
      "model_name": "LayoutModel",
      "state": {}
     },
     "a165d82a8cfb4742b6a8d4c259b99625": {
      "model_module": "@jupyter-widgets/base",
      "model_module_version": "1.2.0",
      "model_name": "LayoutModel",
      "state": {}
     },
     "a18dea80fb9b45a7a80f961b44555ae1": {
      "model_module": "@jupyter-widgets/controls",
      "model_module_version": "1.5.0",
      "model_name": "ProgressStyleModel",
      "state": {
       "description_width": "initial"
      }
     },
     "a1dd577967964cc7abce45df243c119b": {
      "model_module": "@jupyter-widgets/controls",
      "model_module_version": "1.5.0",
      "model_name": "HBoxModel",
      "state": {
       "children": [
        "IPY_MODEL_09bb20ce43224b6e858fd0232c9b9d42",
        "IPY_MODEL_2c9d205d882140c69025acdf421cc27a"
       ],
       "layout": "IPY_MODEL_152dc1d0922444c0a495472d6469345b"
      }
     },
     "a251f78831a6417a8af15c7824a12dd5": {
      "model_module": "@jupyter-widgets/controls",
      "model_module_version": "1.5.0",
      "model_name": "ProgressStyleModel",
      "state": {
       "description_width": "initial"
      }
     },
     "a323be602f4e4820acc2cd016dba297f": {
      "model_module": "@jupyter-widgets/base",
      "model_module_version": "1.2.0",
      "model_name": "LayoutModel",
      "state": {}
     },
     "a337aaf360874e0ea33d2557c2a88b91": {
      "model_module": "@jupyter-widgets/base",
      "model_module_version": "1.2.0",
      "model_name": "LayoutModel",
      "state": {}
     },
     "a4036c0fba694d7dbb8681f587bc141c": {
      "model_module": "@jupyter-widgets/controls",
      "model_module_version": "1.5.0",
      "model_name": "HBoxModel",
      "state": {
       "children": [
        "IPY_MODEL_91348f9b2f9e4d449cc6096d5054866a",
        "IPY_MODEL_0ede7d9bcfc64522a17447b75b94d06d"
       ],
       "layout": "IPY_MODEL_f8bd03eb83fe456a9d16a94a2b9162e3"
      }
     },
     "a4389587d92643c79153e8318470310a": {
      "model_module": "@jupyter-widgets/base",
      "model_module_version": "1.2.0",
      "model_name": "LayoutModel",
      "state": {}
     },
     "a481d63f4b2344d185b7be0103ba4822": {
      "model_module": "@jupyter-widgets/controls",
      "model_module_version": "1.5.0",
      "model_name": "HTMLModel",
      "state": {
       "layout": "IPY_MODEL_706da87ca7cc460781ce1e323b32aa2d",
       "style": "IPY_MODEL_dc773b0afeec446384deaabb72a43e8b",
       "value": " 1500/1500 [01:38&lt;00:00, 15.20it/s]"
      }
     },
     "a49d2aafce1d435aa82d2e7c776285d2": {
      "model_module": "@jupyter-widgets/controls",
      "model_module_version": "1.5.0",
      "model_name": "ProgressStyleModel",
      "state": {
       "description_width": "initial"
      }
     },
     "a4bd3898be4e40ae984e9b2a71affd82": {
      "model_module": "@jupyter-widgets/controls",
      "model_module_version": "1.5.0",
      "model_name": "HBoxModel",
      "state": {
       "children": [
        "IPY_MODEL_853e670d4dc642059f586118065d1fae",
        "IPY_MODEL_9b3f60b8e6904fa1b3cc0bebdf5109c5"
       ],
       "layout": "IPY_MODEL_dd2d8f5ccb224a1b85222d363d589423"
      }
     },
     "a4fb321f5e4f4323a2067c2b5fba9769": {
      "model_module": "@jupyter-widgets/controls",
      "model_module_version": "1.5.0",
      "model_name": "ProgressStyleModel",
      "state": {
       "description_width": "initial"
      }
     },
     "a666f4effe2841f881c70d4ce5a3776d": {
      "model_module": "@jupyter-widgets/controls",
      "model_module_version": "1.5.0",
      "model_name": "HBoxModel",
      "state": {
       "children": [
        "IPY_MODEL_c9417d14f05b4a5ab8b0c609a6692008",
        "IPY_MODEL_42c6b88a63af423faffea9c7d9f9e45e"
       ],
       "layout": "IPY_MODEL_3acea49966254512a9344eae74d9bd1e"
      }
     },
     "a70e2ac4805f43549630558ca64f5570": {
      "model_module": "@jupyter-widgets/base",
      "model_module_version": "1.2.0",
      "model_name": "LayoutModel",
      "state": {}
     },
     "a71f8a0b37d946e9ad47839ae1db80fe": {
      "model_module": "@jupyter-widgets/controls",
      "model_module_version": "1.5.0",
      "model_name": "HTMLModel",
      "state": {
       "layout": "IPY_MODEL_5a329cec28b3476c9d5b8cec800132c2",
       "style": "IPY_MODEL_f2af92d981f74118b6fc8b8d2868e7e0",
       "value": " 1750/1750 [04:32&lt;00:00,  6.43it/s]"
      }
     },
     "a8485e5ea0f04fa8a7b76e372af62a56": {
      "model_module": "@jupyter-widgets/controls",
      "model_module_version": "1.5.0",
      "model_name": "DescriptionStyleModel",
      "state": {
       "description_width": ""
      }
     },
     "a8525df90b764805a43973b3f11a2498": {
      "model_module": "@jupyter-widgets/controls",
      "model_module_version": "1.5.0",
      "model_name": "HTMLModel",
      "state": {
       "layout": "IPY_MODEL_4745c2e0e834453f8a057901def6614e",
       "style": "IPY_MODEL_0d6f569c67574613a2876a35366d1a2c",
       "value": " 0/1500 [02:08&lt;?, ?it/s]"
      }
     },
     "a8bfc9b0231e42d89a9f33eefdec3924": {
      "model_module": "@jupyter-widgets/controls",
      "model_module_version": "1.5.0",
      "model_name": "IntProgressModel",
      "state": {
       "bar_style": "success",
       "description": "100%",
       "layout": "IPY_MODEL_b7c79b526a804a6d802b352a17a794bb",
       "max": 1750,
       "style": "IPY_MODEL_18af6aef2d7e40cd853def12d93c16fb",
       "value": 1750
      }
     },
     "a9ad81a9992148e0a0cd3ff568235738": {
      "model_module": "@jupyter-widgets/controls",
      "model_module_version": "1.5.0",
      "model_name": "ProgressStyleModel",
      "state": {
       "description_width": "initial"
      }
     },
     "aa28ff9be376432e986e4941fb41cc54": {
      "model_module": "@jupyter-widgets/controls",
      "model_module_version": "1.5.0",
      "model_name": "DescriptionStyleModel",
      "state": {
       "description_width": ""
      }
     },
     "aa56344259b14bd8a5b4917da8e96641": {
      "model_module": "@jupyter-widgets/controls",
      "model_module_version": "1.5.0",
      "model_name": "HBoxModel",
      "state": {
       "children": [
        "IPY_MODEL_ac069e733d904bdab75452d1c6318858",
        "IPY_MODEL_bb8c060bea6041f09193e0b34e3d269c"
       ],
       "layout": "IPY_MODEL_44ee147b4c0345a4bfa1505304d1e2fa"
      }
     },
     "aaf983da8dfd459baccbcb9ec4ab506c": {
      "model_module": "@jupyter-widgets/controls",
      "model_module_version": "1.5.0",
      "model_name": "HBoxModel",
      "state": {
       "children": [
        "IPY_MODEL_e536ea54fb2c439eab97ca021ea02dc4",
        "IPY_MODEL_d92b8d249efa4be4a56345ddde143c49"
       ],
       "layout": "IPY_MODEL_4c14a06e160a4046befa3db22e18278c"
      }
     },
     "ab167c1810504556a26eb2b8e244c3e2": {
      "model_module": "@jupyter-widgets/controls",
      "model_module_version": "1.5.0",
      "model_name": "IntProgressModel",
      "state": {
       "bar_style": "success",
       "description": "100%",
       "layout": "IPY_MODEL_575965d4f7954ed8a4e34b7a6b696028",
       "max": 1500,
       "style": "IPY_MODEL_adc3c4ba261a45feb06808eeced717fd",
       "value": 1500
      }
     },
     "ab2a0aeedfbf448e8ffc5f00cf2ef712": {
      "model_module": "@jupyter-widgets/base",
      "model_module_version": "1.2.0",
      "model_name": "LayoutModel",
      "state": {}
     },
     "abfffd05968b40e29ff659ddd43ece9b": {
      "model_module": "@jupyter-widgets/base",
      "model_module_version": "1.2.0",
      "model_name": "LayoutModel",
      "state": {}
     },
     "ac01b7b4b9964a1eb2574fd6a231903e": {
      "model_module": "@jupyter-widgets/base",
      "model_module_version": "1.2.0",
      "model_name": "LayoutModel",
      "state": {}
     },
     "ac069e733d904bdab75452d1c6318858": {
      "model_module": "@jupyter-widgets/controls",
      "model_module_version": "1.5.0",
      "model_name": "IntProgressModel",
      "state": {
       "bar_style": "success",
       "description": "100%",
       "layout": "IPY_MODEL_5e0576e79bce4aa3ac123c3bee3f2b46",
       "max": 1750,
       "style": "IPY_MODEL_58beb77c624942e999ee1126cffb4481",
       "value": 1750
      }
     },
     "ac5aa9e283b84ebeaeebe7469bb408f1": {
      "model_module": "@jupyter-widgets/base",
      "model_module_version": "1.2.0",
      "model_name": "LayoutModel",
      "state": {}
     },
     "acfb5df70dd84910a122f31ed12f864a": {
      "model_module": "@jupyter-widgets/controls",
      "model_module_version": "1.5.0",
      "model_name": "HTMLModel",
      "state": {
       "layout": "IPY_MODEL_737eaf6aec74477e834fdaf1f835987a",
       "style": "IPY_MODEL_72496c5baa3f42d1a32b08709a57afc3",
       "value": " 1750/1750 [02:18&lt;00:00, 12.63it/s]"
      }
     },
     "ad2baa5370c249b2894b8e4813d58efd": {
      "model_module": "@jupyter-widgets/base",
      "model_module_version": "1.2.0",
      "model_name": "LayoutModel",
      "state": {}
     },
     "ad84f45cd448406c89796575b0e5d77e": {
      "model_module": "@jupyter-widgets/base",
      "model_module_version": "1.2.0",
      "model_name": "LayoutModel",
      "state": {}
     },
     "adc3c4ba261a45feb06808eeced717fd": {
      "model_module": "@jupyter-widgets/controls",
      "model_module_version": "1.5.0",
      "model_name": "ProgressStyleModel",
      "state": {
       "description_width": "initial"
      }
     },
     "ae3eade25ac64864bafa9d4758fefc82": {
      "model_module": "@jupyter-widgets/base",
      "model_module_version": "1.2.0",
      "model_name": "LayoutModel",
      "state": {}
     },
     "ae439bd22b3541be9b09d90a635d21a1": {
      "model_module": "@jupyter-widgets/controls",
      "model_module_version": "1.5.0",
      "model_name": "IntProgressModel",
      "state": {
       "bar_style": "success",
       "description": "100%",
       "layout": "IPY_MODEL_0b294628e2754878b3d7cea76d0e21ab",
       "max": 1500,
       "style": "IPY_MODEL_448d8dad57594d70bfa330b79b34298c",
       "value": 1500
      }
     },
     "ae4ba0c5b8db4f1b893832600841d518": {
      "model_module": "@jupyter-widgets/controls",
      "model_module_version": "1.5.0",
      "model_name": "IntProgressModel",
      "state": {
       "bar_style": "danger",
       "description": "  0%",
       "layout": "IPY_MODEL_7968bb1e40c2459bb6d62daf9b1d6490",
       "max": 1500,
       "style": "IPY_MODEL_9cee06761f8f49de8a6a4e7d4d9b20df"
      }
     },
     "aecee43b9a454305bc018564a887f435": {
      "model_module": "@jupyter-widgets/controls",
      "model_module_version": "1.5.0",
      "model_name": "IntProgressModel",
      "state": {
       "bar_style": "success",
       "description": "100%",
       "layout": "IPY_MODEL_7ede5588b93340d8a1b8a756b01d0fde",
       "max": 1500,
       "style": "IPY_MODEL_a49d2aafce1d435aa82d2e7c776285d2",
       "value": 1500
      }
     },
     "afe05ed830764cb69f94166b2332185b": {
      "model_module": "@jupyter-widgets/base",
      "model_module_version": "1.2.0",
      "model_name": "LayoutModel",
      "state": {}
     },
     "b0303d9e7287407fb166ba56d00ef5e9": {
      "model_module": "@jupyter-widgets/base",
      "model_module_version": "1.2.0",
      "model_name": "LayoutModel",
      "state": {}
     },
     "b032b519c44b4392b7e6d8ea1f84832b": {
      "model_module": "@jupyter-widgets/controls",
      "model_module_version": "1.5.0",
      "model_name": "DescriptionStyleModel",
      "state": {
       "description_width": ""
      }
     },
     "b05601b5f4044e3b93f62879c674dd5d": {
      "model_module": "@jupyter-widgets/controls",
      "model_module_version": "1.5.0",
      "model_name": "HBoxModel",
      "state": {
       "children": [
        "IPY_MODEL_819befe3a9d14395a11c78f63852e63e",
        "IPY_MODEL_acfb5df70dd84910a122f31ed12f864a"
       ],
       "layout": "IPY_MODEL_7e628b21eab74a7c954f0d408d591094"
      }
     },
     "b06072a19cd04b30bcd7b0410a1d7e69": {
      "model_module": "@jupyter-widgets/controls",
      "model_module_version": "1.5.0",
      "model_name": "IntProgressModel",
      "state": {
       "bar_style": "success",
       "description": "100%",
       "layout": "IPY_MODEL_04a2d2ca8a2940359361cda054c374ed",
       "max": 1500,
       "style": "IPY_MODEL_bacbff6d440445fbba565fe66f4e3506",
       "value": 1500
      }
     },
     "b100b80a28bf4c42a266c3ea38dcf34d": {
      "model_module": "@jupyter-widgets/controls",
      "model_module_version": "1.5.0",
      "model_name": "IntProgressModel",
      "state": {
       "bar_style": "danger",
       "description": "  0%",
       "layout": "IPY_MODEL_b6205c851c4445bb86b3c9bdc9f09b83",
       "max": 1500,
       "style": "IPY_MODEL_3dea4d49e4c24d218fab208f1937d7f6"
      }
     },
     "b11bac279d624e28b85eeb48a33b63c2": {
      "model_module": "@jupyter-widgets/base",
      "model_module_version": "1.2.0",
      "model_name": "LayoutModel",
      "state": {}
     },
     "b156200756d54c4f90804185d7c487b2": {
      "model_module": "@jupyter-widgets/controls",
      "model_module_version": "1.5.0",
      "model_name": "HBoxModel",
      "state": {
       "children": [
        "IPY_MODEL_100c3f93d2524a408295a2d4b80adf3b",
        "IPY_MODEL_0614979fb86340fc86eb80b9062cabe0"
       ],
       "layout": "IPY_MODEL_d9f6da463e4c409fbe50d75899efa4e8"
      }
     },
     "b2322453d96342e7953e19974bc7c666": {
      "model_module": "@jupyter-widgets/controls",
      "model_module_version": "1.5.0",
      "model_name": "IntProgressModel",
      "state": {
       "bar_style": "success",
       "description": "100%",
       "layout": "IPY_MODEL_dbe47de61e0e4d8094db5952d189d1cc",
       "max": 1500,
       "style": "IPY_MODEL_704203a71178438892f92c3b743de56a",
       "value": 1500
      }
     },
     "b274c472d38a4e0e93a42874b8c4b910": {
      "model_module": "@jupyter-widgets/controls",
      "model_module_version": "1.5.0",
      "model_name": "HBoxModel",
      "state": {
       "children": [
        "IPY_MODEL_4a11ef3444104f8382b591a01d6d2149",
        "IPY_MODEL_2d521aebe20846418abfa41a4c76f1a8"
       ],
       "layout": "IPY_MODEL_0e7aacf9eb624a27912cd3c84708b4e9"
      }
     },
     "b419057f729c427a8095fd58840c67a6": {
      "model_module": "@jupyter-widgets/controls",
      "model_module_version": "1.5.0",
      "model_name": "HBoxModel",
      "state": {
       "children": [
        "IPY_MODEL_12ecb3e6fbaf4f10a3f67a37cd8372ac",
        "IPY_MODEL_6e4378d8eaf1417299c918e07cc0f048"
       ],
       "layout": "IPY_MODEL_766ec4a99bba483ca83eb73cb1c0765e"
      }
     },
     "b421cc3a724143029d91ce5ed090b7fd": {
      "model_module": "@jupyter-widgets/controls",
      "model_module_version": "1.5.0",
      "model_name": "IntProgressModel",
      "state": {
       "bar_style": "success",
       "description": "100%",
       "layout": "IPY_MODEL_a0a0b73e2f6d43cc8f62e11e2bab7d1d",
       "max": 1750,
       "style": "IPY_MODEL_491274d9d577493fb636eb2442a5b961",
       "value": 1750
      }
     },
     "b5180d38d3f649b0a83b44f510db7304": {
      "model_module": "@jupyter-widgets/base",
      "model_module_version": "1.2.0",
      "model_name": "LayoutModel",
      "state": {}
     },
     "b5cfbecb405f4c2d98d49ee936959c24": {
      "model_module": "@jupyter-widgets/controls",
      "model_module_version": "1.5.0",
      "model_name": "HTMLModel",
      "state": {
       "layout": "IPY_MODEL_1154dc1ba68446a0b79a71bfd1ccf201",
       "style": "IPY_MODEL_45138cbe34aa4a2cb2cca2ee807c1897",
       "value": " 1750/1750 [01:30&lt;00:00, 19.36it/s]"
      }
     },
     "b6205c851c4445bb86b3c9bdc9f09b83": {
      "model_module": "@jupyter-widgets/base",
      "model_module_version": "1.2.0",
      "model_name": "LayoutModel",
      "state": {}
     },
     "b64687db15cc430f853ef3689b260dae": {
      "model_module": "@jupyter-widgets/base",
      "model_module_version": "1.2.0",
      "model_name": "LayoutModel",
      "state": {}
     },
     "b678248bb74c49009ef898679d56ec3c": {
      "model_module": "@jupyter-widgets/base",
      "model_module_version": "1.2.0",
      "model_name": "LayoutModel",
      "state": {}
     },
     "b6ab88cf1d1d4b5dbd96488a71645d98": {
      "model_module": "@jupyter-widgets/controls",
      "model_module_version": "1.5.0",
      "model_name": "DescriptionStyleModel",
      "state": {
       "description_width": ""
      }
     },
     "b6bb2deb3b304ae1a6a1b3e8a896f012": {
      "model_module": "@jupyter-widgets/controls",
      "model_module_version": "1.5.0",
      "model_name": "HBoxModel",
      "state": {
       "children": [
        "IPY_MODEL_84a55ed91e2d45759ebc07dff6849a38",
        "IPY_MODEL_5971908f089f4278b2999a4d40ffc6e3"
       ],
       "layout": "IPY_MODEL_79d8698c8e6c4538899e8527c7076755"
      }
     },
     "b6cc81a10873458da2881296c4d5f859": {
      "model_module": "@jupyter-widgets/controls",
      "model_module_version": "1.5.0",
      "model_name": "ProgressStyleModel",
      "state": {
       "description_width": "initial"
      }
     },
     "b6f3ed471cf04f4dbbbc3eb7f956af44": {
      "model_module": "@jupyter-widgets/controls",
      "model_module_version": "1.5.0",
      "model_name": "HTMLModel",
      "state": {
       "layout": "IPY_MODEL_8608aedd217145dfac071e0ce9f04407",
       "style": "IPY_MODEL_ccf3f0e7397c492d842ee95e702b44c5",
       "value": " 1500/1500 [03:16&lt;00:00,  7.64it/s]"
      }
     },
     "b744e4866e174cb381c3e1c5a4afdfb0": {
      "model_module": "@jupyter-widgets/controls",
      "model_module_version": "1.5.0",
      "model_name": "ProgressStyleModel",
      "state": {
       "description_width": "initial"
      }
     },
     "b7875f9405d6457bb699ee2f41f4a7b6": {
      "model_module": "@jupyter-widgets/controls",
      "model_module_version": "1.5.0",
      "model_name": "IntProgressModel",
      "state": {
       "bar_style": "danger",
       "description": " 10%",
       "layout": "IPY_MODEL_dfae680ca6fd4d408a9717a10b4c0300",
       "max": 1500,
       "style": "IPY_MODEL_4c309cb29f0f404dae6b5a8c49e21823",
       "value": 144
      }
     },
     "b7b39c3ce97a41f297f85fa44e05546d": {
      "model_module": "@jupyter-widgets/controls",
      "model_module_version": "1.5.0",
      "model_name": "HBoxModel",
      "state": {
       "children": [
        "IPY_MODEL_5b6c4b782ef04daab48128947140df89",
        "IPY_MODEL_08e5bf16ae514a618b96e30982c66d4f"
       ],
       "layout": "IPY_MODEL_c03e3c1c8cba409a83fb410704f68718"
      }
     },
     "b7c79b526a804a6d802b352a17a794bb": {
      "model_module": "@jupyter-widgets/base",
      "model_module_version": "1.2.0",
      "model_name": "LayoutModel",
      "state": {}
     },
     "b8b75229e8d44de48cab4c12271ce231": {
      "model_module": "@jupyter-widgets/controls",
      "model_module_version": "1.5.0",
      "model_name": "ProgressStyleModel",
      "state": {
       "description_width": "initial"
      }
     },
     "b9308271f0994ce3b30d4cf907d93d96": {
      "model_module": "@jupyter-widgets/controls",
      "model_module_version": "1.5.0",
      "model_name": "DescriptionStyleModel",
      "state": {
       "description_width": ""
      }
     },
     "b93ab2edf2954a0bad6f17a918c5bd03": {
      "model_module": "@jupyter-widgets/controls",
      "model_module_version": "1.5.0",
      "model_name": "HBoxModel",
      "state": {
       "children": [
        "IPY_MODEL_0284622b57f14f6da2f9dfde2032a246",
        "IPY_MODEL_7d2c791674914f2c8fe9faa22477585b"
       ],
       "layout": "IPY_MODEL_c998d4c8e229465eb35cec0cb3095f34"
      }
     },
     "b93bfcc142d9485384253e66cfd82012": {
      "model_module": "@jupyter-widgets/controls",
      "model_module_version": "1.5.0",
      "model_name": "HBoxModel",
      "state": {
       "children": [
        "IPY_MODEL_c6f1b0fb948845f1b4771d8ee234d30b",
        "IPY_MODEL_34de56af384744d19421f3e586d3d716"
       ],
       "layout": "IPY_MODEL_4ccc5c9228c64713a7b0501de555287f"
      }
     },
     "b97b0bf65f2d4816a2240016a3c26a98": {
      "model_module": "@jupyter-widgets/controls",
      "model_module_version": "1.5.0",
      "model_name": "ProgressStyleModel",
      "state": {
       "description_width": "initial"
      }
     },
     "b9f459ff5ea54280981a6910a9047fb2": {
      "model_module": "@jupyter-widgets/base",
      "model_module_version": "1.2.0",
      "model_name": "LayoutModel",
      "state": {}
     },
     "bacbff6d440445fbba565fe66f4e3506": {
      "model_module": "@jupyter-widgets/controls",
      "model_module_version": "1.5.0",
      "model_name": "ProgressStyleModel",
      "state": {
       "description_width": "initial"
      }
     },
     "bb8962479a9b4e6bba01d83d17babbde": {
      "model_module": "@jupyter-widgets/base",
      "model_module_version": "1.2.0",
      "model_name": "LayoutModel",
      "state": {}
     },
     "bb89ecb784f7464585c2b3450eeadde9": {
      "model_module": "@jupyter-widgets/controls",
      "model_module_version": "1.5.0",
      "model_name": "ProgressStyleModel",
      "state": {
       "description_width": "initial"
      }
     },
     "bb8c060bea6041f09193e0b34e3d269c": {
      "model_module": "@jupyter-widgets/controls",
      "model_module_version": "1.5.0",
      "model_name": "HTMLModel",
      "state": {
       "layout": "IPY_MODEL_06f5d5656a1546a9859f8a2f405a9a05",
       "style": "IPY_MODEL_2b850d1f53d74e859d6cf8b7f390d8f5",
       "value": " 1750/1750 [01:31&lt;00:00, 19.08it/s]"
      }
     },
     "bbafea57b616443ca75e6d85c44d504e": {
      "model_module": "@jupyter-widgets/controls",
      "model_module_version": "1.5.0",
      "model_name": "ProgressStyleModel",
      "state": {
       "description_width": "initial"
      }
     },
     "bbb54bc1d0c04688b7ecda96ef14b276": {
      "model_module": "@jupyter-widgets/base",
      "model_module_version": "1.2.0",
      "model_name": "LayoutModel",
      "state": {}
     },
     "bc1b8ddb4bb1448f94ee947c09bc89c7": {
      "model_module": "@jupyter-widgets/controls",
      "model_module_version": "1.5.0",
      "model_name": "IntProgressModel",
      "state": {
       "bar_style": "success",
       "description": "100%",
       "layout": "IPY_MODEL_e61da56909e9409a9d3dde06ec9caa02",
       "max": 1750,
       "style": "IPY_MODEL_558d08b659b54707a062e29a02445083",
       "value": 1750
      }
     },
     "bc1ddafee8ad457cba7410068b5bb61b": {
      "model_module": "@jupyter-widgets/controls",
      "model_module_version": "1.5.0",
      "model_name": "HBoxModel",
      "state": {
       "children": [
        "IPY_MODEL_8cdd381110a74840b2f937dd04ecd818",
        "IPY_MODEL_998573e830804ea2af018c5b3a26c2d3"
       ],
       "layout": "IPY_MODEL_fb7477b5969848a3b83cbccae6309e53"
      }
     },
     "bd128632e936463f955baa2b7f3271c5": {
      "model_module": "@jupyter-widgets/controls",
      "model_module_version": "1.5.0",
      "model_name": "DescriptionStyleModel",
      "state": {
       "description_width": ""
      }
     },
     "bd25e79eb6724c33908210fab5678e6a": {
      "model_module": "@jupyter-widgets/controls",
      "model_module_version": "1.5.0",
      "model_name": "ProgressStyleModel",
      "state": {
       "description_width": "initial"
      }
     },
     "bd794899496f45999823d0db381ddac4": {
      "model_module": "@jupyter-widgets/controls",
      "model_module_version": "1.5.0",
      "model_name": "DescriptionStyleModel",
      "state": {
       "description_width": ""
      }
     },
     "bdd488206ddf4a539d554fff5a71a9fa": {
      "model_module": "@jupyter-widgets/base",
      "model_module_version": "1.2.0",
      "model_name": "LayoutModel",
      "state": {}
     },
     "be282af6e5634356bf8d704b34d06cfe": {
      "model_module": "@jupyter-widgets/base",
      "model_module_version": "1.2.0",
      "model_name": "LayoutModel",
      "state": {}
     },
     "bebd6ba41cca4d72908227bc77143d25": {
      "model_module": "@jupyter-widgets/base",
      "model_module_version": "1.2.0",
      "model_name": "LayoutModel",
      "state": {}
     },
     "bf7b6855082848f4801fdf9c5d9d6255": {
      "model_module": "@jupyter-widgets/controls",
      "model_module_version": "1.5.0",
      "model_name": "HTMLModel",
      "state": {
       "layout": "IPY_MODEL_8fdc73a774234051889710322e3984f6",
       "style": "IPY_MODEL_2f5366c5f8094d518b822a8bf286768c",
       "value": " 1750/1750 [02:49&lt;00:00, 10.30it/s]"
      }
     },
     "bf97b76c35b846feb5d4d6645f6e2786": {
      "model_module": "@jupyter-widgets/controls",
      "model_module_version": "1.5.0",
      "model_name": "HTMLModel",
      "state": {
       "layout": "IPY_MODEL_f61bf987b617448c91b043cdb8c5d46f",
       "style": "IPY_MODEL_bd128632e936463f955baa2b7f3271c5",
       "value": " 1500/1500 [00:25&lt;00:00, 58.58it/s]"
      }
     },
     "c03e3c1c8cba409a83fb410704f68718": {
      "model_module": "@jupyter-widgets/base",
      "model_module_version": "1.2.0",
      "model_name": "LayoutModel",
      "state": {}
     },
     "c08b040b110a423c941da3b333fa7b84": {
      "model_module": "@jupyter-widgets/base",
      "model_module_version": "1.2.0",
      "model_name": "LayoutModel",
      "state": {}
     },
     "c0f23d26d8e84b0792d34e88ab4eac86": {
      "model_module": "@jupyter-widgets/controls",
      "model_module_version": "1.5.0",
      "model_name": "HTMLModel",
      "state": {
       "layout": "IPY_MODEL_00aa3efe4afa4b7ba371f33e2c19f060",
       "style": "IPY_MODEL_ce74661ba9a24731b9d5fa9a16239088",
       "value": " 1500/1500 [01:39&lt;00:00, 15.04it/s]"
      }
     },
     "c1f08956fdba40d4bdd18501868cb331": {
      "model_module": "@jupyter-widgets/base",
      "model_module_version": "1.2.0",
      "model_name": "LayoutModel",
      "state": {}
     },
     "c23ddb4555e242db9bc73ee5154af9b9": {
      "model_module": "@jupyter-widgets/controls",
      "model_module_version": "1.5.0",
      "model_name": "HTMLModel",
      "state": {
       "layout": "IPY_MODEL_04121efe5b3f4cb7b539b1a7d1a591d0",
       "style": "IPY_MODEL_514c4e360a034f5bb3e9271b99e4e453",
       "value": " 1500/1500 [03:01&lt;00:00,  8.27it/s]"
      }
     },
     "c264a7477f544b20a08eeaaf70e67693": {
      "model_module": "@jupyter-widgets/controls",
      "model_module_version": "1.5.0",
      "model_name": "HTMLModel",
      "state": {
       "layout": "IPY_MODEL_9a038e76fb5146088e55f278318d93b5",
       "style": "IPY_MODEL_184ce222cc49462986e216563d13be55",
       "value": " 1750/1750 [01:20&lt;00:00, 21.65it/s]"
      }
     },
     "c386feb164244f6d9b9642cc54fcdf12": {
      "model_module": "@jupyter-widgets/controls",
      "model_module_version": "1.5.0",
      "model_name": "HBoxModel",
      "state": {
       "children": [
        "IPY_MODEL_0b41a4b2da334159b85a25d86242ecb3",
        "IPY_MODEL_b6f3ed471cf04f4dbbbc3eb7f956af44"
       ],
       "layout": "IPY_MODEL_e60f1d35afd44cd983dfb5e86abab37b"
      }
     },
     "c4068a5340b84cdeb84509d9aec621c3": {
      "model_module": "@jupyter-widgets/base",
      "model_module_version": "1.2.0",
      "model_name": "LayoutModel",
      "state": {}
     },
     "c4d8e020188c42549192db2948fe7968": {
      "model_module": "@jupyter-widgets/base",
      "model_module_version": "1.2.0",
      "model_name": "LayoutModel",
      "state": {}
     },
     "c5a2a6357bb745ec8d3f910735237872": {
      "model_module": "@jupyter-widgets/controls",
      "model_module_version": "1.5.0",
      "model_name": "ProgressStyleModel",
      "state": {
       "description_width": "initial"
      }
     },
     "c634936f739943c2b45fad29791fbac8": {
      "model_module": "@jupyter-widgets/controls",
      "model_module_version": "1.5.0",
      "model_name": "HTMLModel",
      "state": {
       "layout": "IPY_MODEL_cc75840517524a4883b2008e7ede24b9",
       "style": "IPY_MODEL_7db3041161774ab9a162ae4603a6156d",
       "value": " 1500/1500 [01:29&lt;00:00, 16.80it/s]"
      }
     },
     "c6590c00c5e44d82bd5fccb36c1ce46b": {
      "model_module": "@jupyter-widgets/controls",
      "model_module_version": "1.5.0",
      "model_name": "HBoxModel",
      "state": {
       "children": [
        "IPY_MODEL_8c6e3d0fc10c400d8959790abd63dc9e",
        "IPY_MODEL_7651eb3805de4d3f9de4801a082088b4"
       ],
       "layout": "IPY_MODEL_21567c7545a94a3cb33bbf789b25cc4a"
      }
     },
     "c6f1b0fb948845f1b4771d8ee234d30b": {
      "model_module": "@jupyter-widgets/controls",
      "model_module_version": "1.5.0",
      "model_name": "IntProgressModel",
      "state": {
       "bar_style": "success",
       "description": "100%",
       "layout": "IPY_MODEL_9c709e0235614bb68fc83565bd291597",
       "max": 1750,
       "style": "IPY_MODEL_53d4c8aa76454a2abdffb76e87fa02d5",
       "value": 1750
      }
     },
     "c7160df65d21401e98bdd72a62377d65": {
      "model_module": "@jupyter-widgets/controls",
      "model_module_version": "1.5.0",
      "model_name": "IntProgressModel",
      "state": {
       "bar_style": "success",
       "description": "100%",
       "layout": "IPY_MODEL_578247a1fa0e4432a3baecb798af201c",
       "max": 1500,
       "style": "IPY_MODEL_bbafea57b616443ca75e6d85c44d504e",
       "value": 1500
      }
     },
     "c75ece1a2f4949e294405c61cf32e1ab": {
      "model_module": "@jupyter-widgets/controls",
      "model_module_version": "1.5.0",
      "model_name": "DescriptionStyleModel",
      "state": {
       "description_width": ""
      }
     },
     "c770454cd0a744a98327226074f21e03": {
      "model_module": "@jupyter-widgets/controls",
      "model_module_version": "1.5.0",
      "model_name": "HBoxModel",
      "state": {
       "children": [
        "IPY_MODEL_33cd1ee156c24db680b24cc4f10076ac",
        "IPY_MODEL_6a4acdc68b854983a8c324b26662d1ca"
       ],
       "layout": "IPY_MODEL_43d06b95520f4d578b2d9743699fb5cf"
      }
     },
     "c797278283b7493ab06024e051e8879e": {
      "model_module": "@jupyter-widgets/controls",
      "model_module_version": "1.5.0",
      "model_name": "DescriptionStyleModel",
      "state": {
       "description_width": ""
      }
     },
     "c79729d9053348f6822ad30387a46427": {
      "model_module": "@jupyter-widgets/base",
      "model_module_version": "1.2.0",
      "model_name": "LayoutModel",
      "state": {}
     },
     "c8167d20c57c48d59908c149158c28b4": {
      "model_module": "@jupyter-widgets/base",
      "model_module_version": "1.2.0",
      "model_name": "LayoutModel",
      "state": {}
     },
     "c84490940cde4cbbb8720511b064799c": {
      "model_module": "@jupyter-widgets/controls",
      "model_module_version": "1.5.0",
      "model_name": "DescriptionStyleModel",
      "state": {
       "description_width": ""
      }
     },
     "c883e695ea394ad79f0314e20cd69ac7": {
      "model_module": "@jupyter-widgets/controls",
      "model_module_version": "1.5.0",
      "model_name": "ProgressStyleModel",
      "state": {
       "description_width": "initial"
      }
     },
     "c89429a3686547178a756ffcaa92b1e2": {
      "model_module": "@jupyter-widgets/controls",
      "model_module_version": "1.5.0",
      "model_name": "HBoxModel",
      "state": {
       "children": [
        "IPY_MODEL_28a7e996f231434f959bc3add02d2797",
        "IPY_MODEL_c634936f739943c2b45fad29791fbac8"
       ],
       "layout": "IPY_MODEL_4e9439d3328c4b0188f14c5dd65147a7"
      }
     },
     "c9417d14f05b4a5ab8b0c609a6692008": {
      "model_module": "@jupyter-widgets/controls",
      "model_module_version": "1.5.0",
      "model_name": "IntProgressModel",
      "state": {
       "bar_style": "danger",
       "description": "  0%",
       "layout": "IPY_MODEL_4cee0f178c614934b7febf9d92009ae3",
       "max": 1500,
       "style": "IPY_MODEL_343c3717536146249be24c1e614b7775"
      }
     },
     "c957c746187a4b5f8cbe30fff2e12320": {
      "model_module": "@jupyter-widgets/controls",
      "model_module_version": "1.5.0",
      "model_name": "IntProgressModel",
      "state": {
       "bar_style": "success",
       "description": "100%",
       "layout": "IPY_MODEL_23602adb3cc442108ab49d62c07a2f9c",
       "max": 1500,
       "style": "IPY_MODEL_7c95c6d554e048ceba6f7ac174dc68ce",
       "value": 1500
      }
     },
     "c998d4c8e229465eb35cec0cb3095f34": {
      "model_module": "@jupyter-widgets/base",
      "model_module_version": "1.2.0",
      "model_name": "LayoutModel",
      "state": {}
     },
     "c9e85e6da9a14044bdf42e447b553a8e": {
      "model_module": "@jupyter-widgets/controls",
      "model_module_version": "1.5.0",
      "model_name": "ProgressStyleModel",
      "state": {
       "description_width": "initial"
      }
     },
     "ca624f6ab43f4a9fb55fea560ceb176d": {
      "model_module": "@jupyter-widgets/controls",
      "model_module_version": "1.5.0",
      "model_name": "ProgressStyleModel",
      "state": {
       "description_width": "initial"
      }
     },
     "ca75f1498ec6485a946f386e0d83109d": {
      "model_module": "@jupyter-widgets/base",
      "model_module_version": "1.2.0",
      "model_name": "LayoutModel",
      "state": {}
     },
     "ca7d2ada87b643e794e37f4ff3f20584": {
      "model_module": "@jupyter-widgets/base",
      "model_module_version": "1.2.0",
      "model_name": "LayoutModel",
      "state": {}
     },
     "cadc8ab6f1044816a541e6828206f59c": {
      "model_module": "@jupyter-widgets/controls",
      "model_module_version": "1.5.0",
      "model_name": "IntProgressModel",
      "state": {
       "bar_style": "success",
       "description": "100%",
       "layout": "IPY_MODEL_bdd488206ddf4a539d554fff5a71a9fa",
       "max": 1750,
       "style": "IPY_MODEL_bd25e79eb6724c33908210fab5678e6a",
       "value": 1750
      }
     },
     "cb491c83e1d1479d987e0e5193517774": {
      "model_module": "@jupyter-widgets/controls",
      "model_module_version": "1.5.0",
      "model_name": "ProgressStyleModel",
      "state": {
       "description_width": "initial"
      }
     },
     "cba5f979676d426d9179c0e81b902c62": {
      "model_module": "@jupyter-widgets/base",
      "model_module_version": "1.2.0",
      "model_name": "LayoutModel",
      "state": {}
     },
     "cbaa545f68d7426d812465c50495f641": {
      "model_module": "@jupyter-widgets/controls",
      "model_module_version": "1.5.0",
      "model_name": "DescriptionStyleModel",
      "state": {
       "description_width": ""
      }
     },
     "cbf645527917425591aca0df47ccf21f": {
      "model_module": "@jupyter-widgets/controls",
      "model_module_version": "1.5.0",
      "model_name": "HBoxModel",
      "state": {
       "children": [
        "IPY_MODEL_52dcef47efa54689b4d312e28e5a0e67",
        "IPY_MODEL_cf9cac3810564c10b4986abff21e1792"
       ],
       "layout": "IPY_MODEL_199576c535234fb1a4f7a18fb539f5f1"
      }
     },
     "cc75840517524a4883b2008e7ede24b9": {
      "model_module": "@jupyter-widgets/base",
      "model_module_version": "1.2.0",
      "model_name": "LayoutModel",
      "state": {}
     },
     "ccf3f0e7397c492d842ee95e702b44c5": {
      "model_module": "@jupyter-widgets/controls",
      "model_module_version": "1.5.0",
      "model_name": "DescriptionStyleModel",
      "state": {
       "description_width": ""
      }
     },
     "cd71a2e2199940499f0a6ca2901add10": {
      "model_module": "@jupyter-widgets/controls",
      "model_module_version": "1.5.0",
      "model_name": "HBoxModel",
      "state": {
       "children": [
        "IPY_MODEL_c7160df65d21401e98bdd72a62377d65",
        "IPY_MODEL_898c7cf3e5ab4cff9917baf22bf2b5c2"
       ],
       "layout": "IPY_MODEL_81282e920b364ba9bebf280c986666d2"
      }
     },
     "cde96e3eb6f640b18854016a4ad4f9e6": {
      "model_module": "@jupyter-widgets/base",
      "model_module_version": "1.2.0",
      "model_name": "LayoutModel",
      "state": {}
     },
     "ce74661ba9a24731b9d5fa9a16239088": {
      "model_module": "@jupyter-widgets/controls",
      "model_module_version": "1.5.0",
      "model_name": "DescriptionStyleModel",
      "state": {
       "description_width": ""
      }
     },
     "cf9cac3810564c10b4986abff21e1792": {
      "model_module": "@jupyter-widgets/controls",
      "model_module_version": "1.5.0",
      "model_name": "HTMLModel",
      "state": {
       "layout": "IPY_MODEL_2378c1ec2a024b96944176e4b1fa82ab",
       "style": "IPY_MODEL_c75ece1a2f4949e294405c61cf32e1ab",
       "value": " 0/1500 [01:54&lt;?, ?it/s]"
      }
     },
     "cfbb4f4f65304ca6bdc3a4ac00ced392": {
      "model_module": "@jupyter-widgets/controls",
      "model_module_version": "1.5.0",
      "model_name": "ProgressStyleModel",
      "state": {
       "description_width": "initial"
      }
     },
     "cfd7cc193b66401eaf90a0d583784fb6": {
      "model_module": "@jupyter-widgets/controls",
      "model_module_version": "1.5.0",
      "model_name": "DescriptionStyleModel",
      "state": {
       "description_width": ""
      }
     },
     "d037948b058048b38c4365ec74863674": {
      "model_module": "@jupyter-widgets/controls",
      "model_module_version": "1.5.0",
      "model_name": "HTMLModel",
      "state": {
       "layout": "IPY_MODEL_66b2fbd72d2f41c5904993fe8ac4c7a5",
       "style": "IPY_MODEL_fccfcf9a23274a448e8377273ba9e39c",
       "value": " 1750/1750 [31:00&lt;00:00,  1.06s/it]"
      }
     },
     "d0f8119fa8d34a4ebd4f06f715deb214": {
      "model_module": "@jupyter-widgets/base",
      "model_module_version": "1.2.0",
      "model_name": "LayoutModel",
      "state": {}
     },
     "d0fa1ea85ff84de1b3bfaeadd15d4e53": {
      "model_module": "@jupyter-widgets/controls",
      "model_module_version": "1.5.0",
      "model_name": "DescriptionStyleModel",
      "state": {
       "description_width": ""
      }
     },
     "d10fd344741e4148ba828894ea2b0292": {
      "model_module": "@jupyter-widgets/base",
      "model_module_version": "1.2.0",
      "model_name": "LayoutModel",
      "state": {}
     },
     "d1653a7909334feaaff730b020bc5706": {
      "model_module": "@jupyter-widgets/base",
      "model_module_version": "1.2.0",
      "model_name": "LayoutModel",
      "state": {}
     },
     "d1cda4f6f31248feb0f3328597045a17": {
      "model_module": "@jupyter-widgets/controls",
      "model_module_version": "1.5.0",
      "model_name": "IntProgressModel",
      "state": {
       "bar_style": "success",
       "description": "100%",
       "layout": "IPY_MODEL_ff23c243e9c34e1aba36dacabe035413",
       "max": 1750,
       "style": "IPY_MODEL_2b26bd2a664d41c0989c49e4a523fe84",
       "value": 1750
      }
     },
     "d24215106c834acd92da48b323860296": {
      "model_module": "@jupyter-widgets/controls",
      "model_module_version": "1.5.0",
      "model_name": "HTMLModel",
      "state": {
       "layout": "IPY_MODEL_c4068a5340b84cdeb84509d9aec621c3",
       "style": "IPY_MODEL_3c21dfc00475470cae9b5bbba1b2a562",
       "value": " 1500/1500 [02:19&lt;00:00, 10.76it/s]"
      }
     },
     "d2732f66ccbb483bbc4b8d46e21b3e56": {
      "model_module": "@jupyter-widgets/controls",
      "model_module_version": "1.5.0",
      "model_name": "DescriptionStyleModel",
      "state": {
       "description_width": ""
      }
     },
     "d3489dde86c9402e9338e94c1d6a7304": {
      "model_module": "@jupyter-widgets/controls",
      "model_module_version": "1.5.0",
      "model_name": "IntProgressModel",
      "state": {
       "bar_style": "success",
       "description": "100%",
       "layout": "IPY_MODEL_4fa648bf9d424a5484882ccc0f89007e",
       "max": 1500,
       "style": "IPY_MODEL_94fc67d5dd274172a9559ff76317a321",
       "value": 1500
      }
     },
     "d41a731864d345fdade9167b600a9c4b": {
      "model_module": "@jupyter-widgets/controls",
      "model_module_version": "1.5.0",
      "model_name": "HTMLModel",
      "state": {
       "layout": "IPY_MODEL_f2d55b0f57764fe98c5f3c2cd5e4ce23",
       "style": "IPY_MODEL_85306e2bbc5c4d9493cde4d62b1b2b5c",
       "value": " 1750/1750 [01:29&lt;00:00, 19.63it/s]"
      }
     },
     "d530f99f902243a890071b4ac1003bc8": {
      "model_module": "@jupyter-widgets/controls",
      "model_module_version": "1.5.0",
      "model_name": "HTMLModel",
      "state": {
       "layout": "IPY_MODEL_1d746a8bd85a4e8984da09dc162f1573",
       "style": "IPY_MODEL_62f91d7df69841e2b2b67b990e791f82",
       "value": " 1500/1500 [01:30&lt;00:00, 16.52it/s]"
      }
     },
     "d5f664408e2141cb981ff964f97078ee": {
      "model_module": "@jupyter-widgets/controls",
      "model_module_version": "1.5.0",
      "model_name": "HBoxModel",
      "state": {
       "children": [
        "IPY_MODEL_0c1f89546a8b4d7da8c8555caa5af9e3",
        "IPY_MODEL_f40e4a870f484ddf8157972415ab2fdf"
       ],
       "layout": "IPY_MODEL_09cb8ec9d4cd4944bb80839d10a586f4"
      }
     },
     "d625b463cdbe4800819549f76d9203d8": {
      "model_module": "@jupyter-widgets/base",
      "model_module_version": "1.2.0",
      "model_name": "LayoutModel",
      "state": {}
     },
     "d63265050d3f4c9a9cd009995b0c2f00": {
      "model_module": "@jupyter-widgets/controls",
      "model_module_version": "1.5.0",
      "model_name": "IntProgressModel",
      "state": {
       "bar_style": "danger",
       "description": "  2%",
       "layout": "IPY_MODEL_f9c45a7c8df14766b3f7e72f6b17da24",
       "max": 1500,
       "style": "IPY_MODEL_b8b75229e8d44de48cab4c12271ce231",
       "value": 24
      }
     },
     "d6398683f08a4000830840bd033e63fd": {
      "model_module": "@jupyter-widgets/base",
      "model_module_version": "1.2.0",
      "model_name": "LayoutModel",
      "state": {}
     },
     "d66c8cc064a8462c985f4bfbb85b6368": {
      "model_module": "@jupyter-widgets/base",
      "model_module_version": "1.2.0",
      "model_name": "LayoutModel",
      "state": {}
     },
     "d6973fe1bae348769d8d6f5ae9a6087b": {
      "model_module": "@jupyter-widgets/controls",
      "model_module_version": "1.5.0",
      "model_name": "HTMLModel",
      "state": {
       "layout": "IPY_MODEL_ed99b086e8ff4b0f84195fb9521eef6e",
       "style": "IPY_MODEL_cfd7cc193b66401eaf90a0d583784fb6",
       "value": " 1750/1750 [02:54&lt;00:00, 10.03it/s]"
      }
     },
     "d69b8d5099ee41b58898c7c67e376f09": {
      "model_module": "@jupyter-widgets/controls",
      "model_module_version": "1.5.0",
      "model_name": "IntProgressModel",
      "state": {
       "bar_style": "success",
       "description": "100%",
       "layout": "IPY_MODEL_25f2cf23591b45968b627d77566e9e03",
       "max": 1750,
       "style": "IPY_MODEL_c5a2a6357bb745ec8d3f910735237872",
       "value": 1750
      }
     },
     "d6ac534e351f405f9d3cd72c4f2e6539": {
      "model_module": "@jupyter-widgets/controls",
      "model_module_version": "1.5.0",
      "model_name": "IntProgressModel",
      "state": {
       "bar_style": "success",
       "description": "100%",
       "layout": "IPY_MODEL_b11bac279d624e28b85eeb48a33b63c2",
       "max": 1750,
       "style": "IPY_MODEL_174d36abd13e4935840aaf3ddd83ca06",
       "value": 1750
      }
     },
     "d6f2d7b33b4d48c68ecc09a427fa8626": {
      "model_module": "@jupyter-widgets/base",
      "model_module_version": "1.2.0",
      "model_name": "LayoutModel",
      "state": {}
     },
     "d7877830d0d04235a82db610f1bf624b": {
      "model_module": "@jupyter-widgets/controls",
      "model_module_version": "1.5.0",
      "model_name": "DescriptionStyleModel",
      "state": {
       "description_width": ""
      }
     },
     "d7a0817f2e9447c9bfb177c380f8b4ac": {
      "model_module": "@jupyter-widgets/controls",
      "model_module_version": "1.5.0",
      "model_name": "IntProgressModel",
      "state": {
       "bar_style": "danger",
       "description": " 20%",
       "layout": "IPY_MODEL_e8904c77c3fa431f91230f9f5ade6f0a",
       "max": 1750,
       "style": "IPY_MODEL_3ca2428762f742ec89528fddb51aad0a",
       "value": 353
      }
     },
     "d80fee8dde504180aaef97b9b86c8a65": {
      "model_module": "@jupyter-widgets/controls",
      "model_module_version": "1.5.0",
      "model_name": "HBoxModel",
      "state": {
       "children": [
        "IPY_MODEL_3a029c53873e4215902d5621f38d3569",
        "IPY_MODEL_8b3fec5dc6d84abb968cb077ab846245"
       ],
       "layout": "IPY_MODEL_594520c7e15c43258cb1316f63715964"
      }
     },
     "d82ce7502ef54e3eb0fb424a1e321f1f": {
      "model_module": "@jupyter-widgets/base",
      "model_module_version": "1.2.0",
      "model_name": "LayoutModel",
      "state": {}
     },
     "d85b563ab2bd48b397389dd8a166d113": {
      "model_module": "@jupyter-widgets/base",
      "model_module_version": "1.2.0",
      "model_name": "LayoutModel",
      "state": {}
     },
     "d92b8d249efa4be4a56345ddde143c49": {
      "model_module": "@jupyter-widgets/controls",
      "model_module_version": "1.5.0",
      "model_name": "HTMLModel",
      "state": {
       "layout": "IPY_MODEL_1a88df56617a47b98cbd29e887ab994c",
       "style": "IPY_MODEL_526df7637eec45afb098b27a479facf8",
       "value": " 1500/1500 [17:41&lt;00:00,  1.41it/s]"
      }
     },
     "d97f620158a8402ba691bbeebd12a9ad": {
      "model_module": "@jupyter-widgets/controls",
      "model_module_version": "1.5.0",
      "model_name": "HBoxModel",
      "state": {
       "children": [
        "IPY_MODEL_b421cc3a724143029d91ce5ed090b7fd",
        "IPY_MODEL_a71f8a0b37d946e9ad47839ae1db80fe"
       ],
       "layout": "IPY_MODEL_6a21d48f40064812a896c9ea28cecb94"
      }
     },
     "d9f6da463e4c409fbe50d75899efa4e8": {
      "model_module": "@jupyter-widgets/base",
      "model_module_version": "1.2.0",
      "model_name": "LayoutModel",
      "state": {}
     },
     "da8ec7bfeaef4c21bf9df84f8da7ca45": {
      "model_module": "@jupyter-widgets/base",
      "model_module_version": "1.2.0",
      "model_name": "LayoutModel",
      "state": {}
     },
     "da9b8658f3954f26a12ef322785aba2a": {
      "model_module": "@jupyter-widgets/controls",
      "model_module_version": "1.5.0",
      "model_name": "DescriptionStyleModel",
      "state": {
       "description_width": ""
      }
     },
     "dbe47de61e0e4d8094db5952d189d1cc": {
      "model_module": "@jupyter-widgets/base",
      "model_module_version": "1.2.0",
      "model_name": "LayoutModel",
      "state": {}
     },
     "dc773b0afeec446384deaabb72a43e8b": {
      "model_module": "@jupyter-widgets/controls",
      "model_module_version": "1.5.0",
      "model_name": "DescriptionStyleModel",
      "state": {
       "description_width": ""
      }
     },
     "dcbf863105e64f4193842dfe2c348dd4": {
      "model_module": "@jupyter-widgets/base",
      "model_module_version": "1.2.0",
      "model_name": "LayoutModel",
      "state": {}
     },
     "dd2d8f5ccb224a1b85222d363d589423": {
      "model_module": "@jupyter-widgets/base",
      "model_module_version": "1.2.0",
      "model_name": "LayoutModel",
      "state": {}
     },
     "dd613027fd3b4dd983ebdee763547b8c": {
      "model_module": "@jupyter-widgets/base",
      "model_module_version": "1.2.0",
      "model_name": "LayoutModel",
      "state": {}
     },
     "ddd301989b0f4af59315dab70549d113": {
      "model_module": "@jupyter-widgets/controls",
      "model_module_version": "1.5.0",
      "model_name": "IntProgressModel",
      "state": {
       "bar_style": "success",
       "description": "100%",
       "layout": "IPY_MODEL_4fb65e9c0c1744ae8ee24cc8ab24f2d2",
       "max": 1500,
       "style": "IPY_MODEL_4af3fab54e7d49abaae73f7cc8acfd1d",
       "value": 1500
      }
     },
     "de1e3b806f4742d2a2019d6d5741e784": {
      "model_module": "@jupyter-widgets/controls",
      "model_module_version": "1.5.0",
      "model_name": "DescriptionStyleModel",
      "state": {
       "description_width": ""
      }
     },
     "de6f96fa4d8b492a85723a93237e2697": {
      "model_module": "@jupyter-widgets/controls",
      "model_module_version": "1.5.0",
      "model_name": "IntProgressModel",
      "state": {
       "bar_style": "success",
       "description": "100%",
       "layout": "IPY_MODEL_4a4182022f1b483f9e635c5dbbe0b96e",
       "max": 1500,
       "style": "IPY_MODEL_040f8e2cac2d4fcfa04b5bd3c00ccaa8",
       "value": 1500
      }
     },
     "de7aae43bb7a4702865003ecd6a54013": {
      "model_module": "@jupyter-widgets/controls",
      "model_module_version": "1.5.0",
      "model_name": "HTMLModel",
      "state": {
       "layout": "IPY_MODEL_362987f6a0fe4b00a65ab3c3c07e5e24",
       "style": "IPY_MODEL_9800c4b9fcf2474fa38b867685452b29",
       "value": " 1750/1750 [02:52&lt;00:00, 10.15it/s]"
      }
     },
     "dee932d6f6114d2ca7646326ecad5ca1": {
      "model_module": "@jupyter-widgets/controls",
      "model_module_version": "1.5.0",
      "model_name": "DescriptionStyleModel",
      "state": {
       "description_width": ""
      }
     },
     "df8532ed77504b4d9b47e5b1a45d6c40": {
      "model_module": "@jupyter-widgets/controls",
      "model_module_version": "1.5.0",
      "model_name": "ProgressStyleModel",
      "state": {
       "description_width": "initial"
      }
     },
     "dfae680ca6fd4d408a9717a10b4c0300": {
      "model_module": "@jupyter-widgets/base",
      "model_module_version": "1.2.0",
      "model_name": "LayoutModel",
      "state": {}
     },
     "dfb1c5b261d349a6b22e2d7e81bb1560": {
      "model_module": "@jupyter-widgets/controls",
      "model_module_version": "1.5.0",
      "model_name": "ProgressStyleModel",
      "state": {
       "description_width": "initial"
      }
     },
     "e03fd21172744db4a0f30bb0857e9d55": {
      "model_module": "@jupyter-widgets/controls",
      "model_module_version": "1.5.0",
      "model_name": "DescriptionStyleModel",
      "state": {
       "description_width": ""
      }
     },
     "e0891caf3a3e467f85b6569469f051fe": {
      "model_module": "@jupyter-widgets/base",
      "model_module_version": "1.2.0",
      "model_name": "LayoutModel",
      "state": {}
     },
     "e08b6308f04e4de2b5f24c2e8551f2b7": {
      "model_module": "@jupyter-widgets/base",
      "model_module_version": "1.2.0",
      "model_name": "LayoutModel",
      "state": {}
     },
     "e2bb171a6e47436f90f2400d390404e6": {
      "model_module": "@jupyter-widgets/controls",
      "model_module_version": "1.5.0",
      "model_name": "HTMLModel",
      "state": {
       "layout": "IPY_MODEL_1fc0a512f4ca4e408caf5d6e02a6c206",
       "style": "IPY_MODEL_19bb1c8fc8f84a68b75ec18f38a43c59",
       "value": " 1500/1500 [00:09&lt;00:00, 165.84it/s]"
      }
     },
     "e2df43013e8646e68de609b20de134e2": {
      "model_module": "@jupyter-widgets/base",
      "model_module_version": "1.2.0",
      "model_name": "LayoutModel",
      "state": {}
     },
     "e37ecf8591fb4032a2baf840243c157e": {
      "model_module": "@jupyter-widgets/controls",
      "model_module_version": "1.5.0",
      "model_name": "IntProgressModel",
      "state": {
       "bar_style": "success",
       "description": "100%",
       "layout": "IPY_MODEL_a323be602f4e4820acc2cd016dba297f",
       "max": 1750,
       "style": "IPY_MODEL_6bc59e2b3be54d2597a1b4272c93a0b3",
       "value": 1750
      }
     },
     "e3c547c2879f4ac69b8c00d5804fe233": {
      "model_module": "@jupyter-widgets/base",
      "model_module_version": "1.2.0",
      "model_name": "LayoutModel",
      "state": {}
     },
     "e44cb8abf8af4df49e97ebc8b39ead6a": {
      "model_module": "@jupyter-widgets/controls",
      "model_module_version": "1.5.0",
      "model_name": "ProgressStyleModel",
      "state": {
       "description_width": "initial"
      }
     },
     "e536ea54fb2c439eab97ca021ea02dc4": {
      "model_module": "@jupyter-widgets/controls",
      "model_module_version": "1.5.0",
      "model_name": "IntProgressModel",
      "state": {
       "bar_style": "success",
       "description": "100%",
       "layout": "IPY_MODEL_dcbf863105e64f4193842dfe2c348dd4",
       "max": 1500,
       "style": "IPY_MODEL_1912572aa6eb4e0d997ac7814b981981",
       "value": 1500
      }
     },
     "e5591e4e473448e5b1e7c1a9589aaa1b": {
      "model_module": "@jupyter-widgets/controls",
      "model_module_version": "1.5.0",
      "model_name": "HBoxModel",
      "state": {
       "children": [
        "IPY_MODEL_820d9b69f3844c09bd72e2efc142df04",
        "IPY_MODEL_0bd4477bc4814545b730ecf29d48d43d"
       ],
       "layout": "IPY_MODEL_2c68821e0a27435ead9c96e63d7505ac"
      }
     },
     "e5cfa0cd78e34f3bb1335bbe6f529ddf": {
      "model_module": "@jupyter-widgets/controls",
      "model_module_version": "1.5.0",
      "model_name": "HBoxModel",
      "state": {
       "children": [
        "IPY_MODEL_04b7c7b96314424eab4a5867fc10cc28",
        "IPY_MODEL_6fa3b774021a4198a6a8e971b7b25f6e"
       ],
       "layout": "IPY_MODEL_a165d82a8cfb4742b6a8d4c259b99625"
      }
     },
     "e60f1d35afd44cd983dfb5e86abab37b": {
      "model_module": "@jupyter-widgets/base",
      "model_module_version": "1.2.0",
      "model_name": "LayoutModel",
      "state": {}
     },
     "e615a70443604c6fa17bef4edf8a0bb5": {
      "model_module": "@jupyter-widgets/controls",
      "model_module_version": "1.5.0",
      "model_name": "ProgressStyleModel",
      "state": {
       "description_width": "initial"
      }
     },
     "e61da56909e9409a9d3dde06ec9caa02": {
      "model_module": "@jupyter-widgets/base",
      "model_module_version": "1.2.0",
      "model_name": "LayoutModel",
      "state": {}
     },
     "e62bfec933e44dc0bf61b6d440383728": {
      "model_module": "@jupyter-widgets/base",
      "model_module_version": "1.2.0",
      "model_name": "LayoutModel",
      "state": {}
     },
     "e68c226cd45946a4823f9f54d892b6d9": {
      "model_module": "@jupyter-widgets/base",
      "model_module_version": "1.2.0",
      "model_name": "LayoutModel",
      "state": {}
     },
     "e6e62db6007d4f018eabd29e95345c89": {
      "model_module": "@jupyter-widgets/controls",
      "model_module_version": "1.5.0",
      "model_name": "HTMLModel",
      "state": {
       "layout": "IPY_MODEL_85566e8ad3544b8cb091122df548dff3",
       "style": "IPY_MODEL_eafa555fd43a4c4b8e27831342656bd4",
       "value": " 144/1500 [01:49&lt;17:11,  1.32it/s]"
      }
     },
     "e7deaece3c0f44688d07f1c5c5dc9391": {
      "model_module": "@jupyter-widgets/controls",
      "model_module_version": "1.5.0",
      "model_name": "HTMLModel",
      "state": {
       "layout": "IPY_MODEL_d1653a7909334feaaff730b020bc5706",
       "style": "IPY_MODEL_72810fb34773496e89abb86ea46cc458",
       "value": " 1750/1750 [28:02&lt;00:00,  1.04it/s]"
      }
     },
     "e7eb3110746e4646bbe7551486b719a7": {
      "model_module": "@jupyter-widgets/base",
      "model_module_version": "1.2.0",
      "model_name": "LayoutModel",
      "state": {}
     },
     "e818ef12ad4045779f8322ebf77ed22f": {
      "model_module": "@jupyter-widgets/base",
      "model_module_version": "1.2.0",
      "model_name": "LayoutModel",
      "state": {}
     },
     "e836370e517d45be8c5e45aecd3aeffc": {
      "model_module": "@jupyter-widgets/base",
      "model_module_version": "1.2.0",
      "model_name": "LayoutModel",
      "state": {}
     },
     "e884959e972e43ce8759e4fbdf121521": {
      "model_module": "@jupyter-widgets/base",
      "model_module_version": "1.2.0",
      "model_name": "LayoutModel",
      "state": {}
     },
     "e8904c77c3fa431f91230f9f5ade6f0a": {
      "model_module": "@jupyter-widgets/base",
      "model_module_version": "1.2.0",
      "model_name": "LayoutModel",
      "state": {}
     },
     "e9892a69c6464166953bf8cf46632670": {
      "model_module": "@jupyter-widgets/controls",
      "model_module_version": "1.5.0",
      "model_name": "DescriptionStyleModel",
      "state": {
       "description_width": ""
      }
     },
     "e9bcd65aebea4131ad030b72215d0ce3": {
      "model_module": "@jupyter-widgets/controls",
      "model_module_version": "1.5.0",
      "model_name": "DescriptionStyleModel",
      "state": {
       "description_width": ""
      }
     },
     "eaa9d44d6688447ab7a728e5d9cbcfd9": {
      "model_module": "@jupyter-widgets/base",
      "model_module_version": "1.2.0",
      "model_name": "LayoutModel",
      "state": {}
     },
     "eac5e94ae3f64b76ab7d6aad7de66136": {
      "model_module": "@jupyter-widgets/controls",
      "model_module_version": "1.5.0",
      "model_name": "ProgressStyleModel",
      "state": {
       "description_width": "initial"
      }
     },
     "eaee60fb5d324897920cea77b65a78dd": {
      "model_module": "@jupyter-widgets/controls",
      "model_module_version": "1.5.0",
      "model_name": "ProgressStyleModel",
      "state": {
       "description_width": "initial"
      }
     },
     "eafa555fd43a4c4b8e27831342656bd4": {
      "model_module": "@jupyter-widgets/controls",
      "model_module_version": "1.5.0",
      "model_name": "DescriptionStyleModel",
      "state": {
       "description_width": ""
      }
     },
     "eb126ba097ff4061890bc782fe2cf97c": {
      "model_module": "@jupyter-widgets/base",
      "model_module_version": "1.2.0",
      "model_name": "LayoutModel",
      "state": {}
     },
     "eb603d234a874e48bf3ff7bad58b23df": {
      "model_module": "@jupyter-widgets/base",
      "model_module_version": "1.2.0",
      "model_name": "LayoutModel",
      "state": {}
     },
     "ec94c48e022f4dba86abf7f147ec8131": {
      "model_module": "@jupyter-widgets/base",
      "model_module_version": "1.2.0",
      "model_name": "LayoutModel",
      "state": {}
     },
     "ecab7f16c7e14f98a31758482b4e64e8": {
      "model_module": "@jupyter-widgets/controls",
      "model_module_version": "1.5.0",
      "model_name": "DescriptionStyleModel",
      "state": {
       "description_width": ""
      }
     },
     "ece5ccc847204a2683d34339e763cd00": {
      "model_module": "@jupyter-widgets/controls",
      "model_module_version": "1.5.0",
      "model_name": "ProgressStyleModel",
      "state": {
       "description_width": "initial"
      }
     },
     "ed99b086e8ff4b0f84195fb9521eef6e": {
      "model_module": "@jupyter-widgets/base",
      "model_module_version": "1.2.0",
      "model_name": "LayoutModel",
      "state": {}
     },
     "eea1df6a611340efb6d216627637a6c9": {
      "model_module": "@jupyter-widgets/controls",
      "model_module_version": "1.5.0",
      "model_name": "HBoxModel",
      "state": {
       "children": [
        "IPY_MODEL_cadc8ab6f1044816a541e6828206f59c",
        "IPY_MODEL_d41a731864d345fdade9167b600a9c4b"
       ],
       "layout": "IPY_MODEL_7eb8adac7bb9404aafbf651797ff3be6"
      }
     },
     "eed72f8399834efe97eff6aada524869": {
      "model_module": "@jupyter-widgets/base",
      "model_module_version": "1.2.0",
      "model_name": "LayoutModel",
      "state": {}
     },
     "ef26e97e24b04b96920a84d6e9875a4e": {
      "model_module": "@jupyter-widgets/controls",
      "model_module_version": "1.5.0",
      "model_name": "DescriptionStyleModel",
      "state": {
       "description_width": ""
      }
     },
     "f048094d05b0499ebccb52a0129d6fa5": {
      "model_module": "@jupyter-widgets/controls",
      "model_module_version": "1.5.0",
      "model_name": "HBoxModel",
      "state": {
       "children": [
        "IPY_MODEL_b7875f9405d6457bb699ee2f41f4a7b6",
        "IPY_MODEL_e6e62db6007d4f018eabd29e95345c89"
       ],
       "layout": "IPY_MODEL_0efd641ac89f4c6e94f006a19d2e92ab"
      }
     },
     "f099ee09364d484d86bd654e50b2d066": {
      "model_module": "@jupyter-widgets/controls",
      "model_module_version": "1.5.0",
      "model_name": "HBoxModel",
      "state": {
       "children": [
        "IPY_MODEL_09e8f021a4c14a40a5edc4088c26692a",
        "IPY_MODEL_0bafff64ca184aa9b180a594a6f2f0ad"
       ],
       "layout": "IPY_MODEL_eaa9d44d6688447ab7a728e5d9cbcfd9"
      }
     },
     "f0bd611cd1d44e2c949de6b76e0de2ec": {
      "model_module": "@jupyter-widgets/controls",
      "model_module_version": "1.5.0",
      "model_name": "HTMLModel",
      "state": {
       "layout": "IPY_MODEL_e818ef12ad4045779f8322ebf77ed22f",
       "style": "IPY_MODEL_979adf7b26d847e7bfb283b6a1f6f65e",
       "value": " 1750/1750 [08:24&lt;00:00,  3.47it/s]"
      }
     },
     "f1e50fdb309a49829c1a1ddc1f36c915": {
      "model_module": "@jupyter-widgets/controls",
      "model_module_version": "1.5.0",
      "model_name": "IntProgressModel",
      "state": {
       "bar_style": "success",
       "description": "100%",
       "layout": "IPY_MODEL_d6398683f08a4000830840bd033e63fd",
       "max": 1750,
       "style": "IPY_MODEL_dfb1c5b261d349a6b22e2d7e81bb1560",
       "value": 1750
      }
     },
     "f2af92d981f74118b6fc8b8d2868e7e0": {
      "model_module": "@jupyter-widgets/controls",
      "model_module_version": "1.5.0",
      "model_name": "DescriptionStyleModel",
      "state": {
       "description_width": ""
      }
     },
     "f2d55b0f57764fe98c5f3c2cd5e4ce23": {
      "model_module": "@jupyter-widgets/base",
      "model_module_version": "1.2.0",
      "model_name": "LayoutModel",
      "state": {}
     },
     "f329eb7e4e3d46d69486420fee5d1b5a": {
      "model_module": "@jupyter-widgets/controls",
      "model_module_version": "1.5.0",
      "model_name": "HTMLModel",
      "state": {
       "layout": "IPY_MODEL_9f0b7bde43f54584a124519cd4302fdb",
       "style": "IPY_MODEL_f66bcdffcc8c4a6bae4b9e915b990830",
       "value": " 1500/1500 [01:31&lt;00:00, 16.39it/s]"
      }
     },
     "f32c160aaaab49909956295b5393fc03": {
      "model_module": "@jupyter-widgets/controls",
      "model_module_version": "1.5.0",
      "model_name": "HTMLModel",
      "state": {
       "layout": "IPY_MODEL_4b3fa9d9e9454adf8027712b21491c71",
       "style": "IPY_MODEL_661b6def2635490d9550d9cb682f4c83",
       "value": " 1500/1500 [01:30&lt;00:00, 16.51it/s]"
      }
     },
     "f3c093decc5d4e4ba968c634c620e340": {
      "model_module": "@jupyter-widgets/controls",
      "model_module_version": "1.5.0",
      "model_name": "HTMLModel",
      "state": {
       "layout": "IPY_MODEL_40b16a009fad4a17b44e0c7815579f22",
       "style": "IPY_MODEL_1bff6ed23fee4cb68d33742c0dbcd8d3",
       "value": " 1750/1750 [02:49&lt;00:00, 10.31it/s]"
      }
     },
     "f40e4a870f484ddf8157972415ab2fdf": {
      "model_module": "@jupyter-widgets/controls",
      "model_module_version": "1.5.0",
      "model_name": "HTMLModel",
      "state": {
       "layout": "IPY_MODEL_687d8a8c01a2477480b1072db242804e",
       "style": "IPY_MODEL_f8db3b268cda4eb0a113e77df607851c",
       "value": " 1750/1750 [02:51&lt;00:00, 10.21it/s]"
      }
     },
     "f4d74dd92c39490e9238f81ba327f0d6": {
      "model_module": "@jupyter-widgets/base",
      "model_module_version": "1.2.0",
      "model_name": "LayoutModel",
      "state": {}
     },
     "f4dbc2ae946d4fa3899a11f54f8c7761": {
      "model_module": "@jupyter-widgets/controls",
      "model_module_version": "1.5.0",
      "model_name": "HBoxModel",
      "state": {
       "children": [
        "IPY_MODEL_f1e50fdb309a49829c1a1ddc1f36c915",
        "IPY_MODEL_6fe0bb9ff0c8481490b0a382fe1b3a27"
       ],
       "layout": "IPY_MODEL_b64687db15cc430f853ef3689b260dae"
      }
     },
     "f5133c332fcc456e98e68f09b9e43f8e": {
      "model_module": "@jupyter-widgets/base",
      "model_module_version": "1.2.0",
      "model_name": "LayoutModel",
      "state": {}
     },
     "f61bf987b617448c91b043cdb8c5d46f": {
      "model_module": "@jupyter-widgets/base",
      "model_module_version": "1.2.0",
      "model_name": "LayoutModel",
      "state": {}
     },
     "f66bcdffcc8c4a6bae4b9e915b990830": {
      "model_module": "@jupyter-widgets/controls",
      "model_module_version": "1.5.0",
      "model_name": "DescriptionStyleModel",
      "state": {
       "description_width": ""
      }
     },
     "f87061c55d5c4317aca4c8b7e045ddd3": {
      "model_module": "@jupyter-widgets/base",
      "model_module_version": "1.2.0",
      "model_name": "LayoutModel",
      "state": {}
     },
     "f8971be3b1e248f7abfee33f7b346f4d": {
      "model_module": "@jupyter-widgets/base",
      "model_module_version": "1.2.0",
      "model_name": "LayoutModel",
      "state": {}
     },
     "f8bd03eb83fe456a9d16a94a2b9162e3": {
      "model_module": "@jupyter-widgets/base",
      "model_module_version": "1.2.0",
      "model_name": "LayoutModel",
      "state": {}
     },
     "f8db3b268cda4eb0a113e77df607851c": {
      "model_module": "@jupyter-widgets/controls",
      "model_module_version": "1.5.0",
      "model_name": "DescriptionStyleModel",
      "state": {
       "description_width": ""
      }
     },
     "f8ed858f5bf24b5e93dab51f215767dd": {
      "model_module": "@jupyter-widgets/controls",
      "model_module_version": "1.5.0",
      "model_name": "IntProgressModel",
      "state": {
       "bar_style": "danger",
       "description": "  0%",
       "layout": "IPY_MODEL_636bb7eb694648108c35f197be971b8b",
       "max": 1500,
       "style": "IPY_MODEL_34731226ce4c4a43a3ffeb304e78e778"
      }
     },
     "f9c45a7c8df14766b3f7e72f6b17da24": {
      "model_module": "@jupyter-widgets/base",
      "model_module_version": "1.2.0",
      "model_name": "LayoutModel",
      "state": {}
     },
     "f9e0c63cacd44c13a41c2e1da4588de7": {
      "model_module": "@jupyter-widgets/base",
      "model_module_version": "1.2.0",
      "model_name": "LayoutModel",
      "state": {}
     },
     "fa5fdcf94b1d42d0ab5fc15890b2581a": {
      "model_module": "@jupyter-widgets/controls",
      "model_module_version": "1.5.0",
      "model_name": "ProgressStyleModel",
      "state": {
       "description_width": "initial"
      }
     },
     "fae1038ffa254367a27ff54b2d5861e4": {
      "model_module": "@jupyter-widgets/controls",
      "model_module_version": "1.5.0",
      "model_name": "ProgressStyleModel",
      "state": {
       "description_width": "initial"
      }
     },
     "fb47e087fc094bbbbe2c7fc0a898696d": {
      "model_module": "@jupyter-widgets/base",
      "model_module_version": "1.2.0",
      "model_name": "LayoutModel",
      "state": {}
     },
     "fb745b8f337a4c1cb8f7c9f89b813e71": {
      "model_module": "@jupyter-widgets/controls",
      "model_module_version": "1.5.0",
      "model_name": "HBoxModel",
      "state": {
       "children": [
        "IPY_MODEL_77ffb8efdd744c6f922e12e37381185a",
        "IPY_MODEL_1acc689f233546b6a1193082c519ba17"
       ],
       "layout": "IPY_MODEL_0dc31457888c4daebc7db4d302ecb535"
      }
     },
     "fb7477b5969848a3b83cbccae6309e53": {
      "model_module": "@jupyter-widgets/base",
      "model_module_version": "1.2.0",
      "model_name": "LayoutModel",
      "state": {}
     },
     "fbd3ef588f964da3b44ace34459c8d34": {
      "model_module": "@jupyter-widgets/controls",
      "model_module_version": "1.5.0",
      "model_name": "HTMLModel",
      "state": {
       "layout": "IPY_MODEL_26cff22992b3465d9586c08a3287226a",
       "style": "IPY_MODEL_0bc0d4317e1c4caf90f8c8aa02d0d80e",
       "value": " 1500/1500 [20:40&lt;00:00,  1.21it/s]"
      }
     },
     "fc0a61a7d91a42388efacbd23d5b2f79": {
      "model_module": "@jupyter-widgets/base",
      "model_module_version": "1.2.0",
      "model_name": "LayoutModel",
      "state": {}
     },
     "fc9d65bd3d624400ba14e80e4c32b53a": {
      "model_module": "@jupyter-widgets/base",
      "model_module_version": "1.2.0",
      "model_name": "LayoutModel",
      "state": {}
     },
     "fccfcf9a23274a448e8377273ba9e39c": {
      "model_module": "@jupyter-widgets/controls",
      "model_module_version": "1.5.0",
      "model_name": "DescriptionStyleModel",
      "state": {
       "description_width": ""
      }
     },
     "fd0a6db7dfa54698b66ae7b012e6711f": {
      "model_module": "@jupyter-widgets/controls",
      "model_module_version": "1.5.0",
      "model_name": "HBoxModel",
      "state": {
       "children": [
        "IPY_MODEL_13df535babbd46129edeb7abf1f1762e",
        "IPY_MODEL_c264a7477f544b20a08eeaaf70e67693"
       ],
       "layout": "IPY_MODEL_e836370e517d45be8c5e45aecd3aeffc"
      }
     },
     "fdead1188c0b4d29a7d30195fe3f9bd5": {
      "model_module": "@jupyter-widgets/controls",
      "model_module_version": "1.5.0",
      "model_name": "DescriptionStyleModel",
      "state": {
       "description_width": ""
      }
     },
     "fed7290647c84b3192ada81bf7853c1b": {
      "model_module": "@jupyter-widgets/base",
      "model_module_version": "1.2.0",
      "model_name": "LayoutModel",
      "state": {}
     },
     "ff23c243e9c34e1aba36dacabe035413": {
      "model_module": "@jupyter-widgets/base",
      "model_module_version": "1.2.0",
      "model_name": "LayoutModel",
      "state": {}
     },
     "ff2e5302c91742f28e7192207841f4f1": {
      "model_module": "@jupyter-widgets/base",
      "model_module_version": "1.2.0",
      "model_name": "LayoutModel",
      "state": {}
     },
     "ff8b86cf4e8543cd9a92807113fe4e57": {
      "model_module": "@jupyter-widgets/controls",
      "model_module_version": "1.5.0",
      "model_name": "HBoxModel",
      "state": {
       "children": [
        "IPY_MODEL_32be264b7e7646bbbcc8acac47282019",
        "IPY_MODEL_e7deaece3c0f44688d07f1c5c5dc9391"
       ],
       "layout": "IPY_MODEL_490257c03b384e9d9e7be18b8612a4b7"
      }
     }
    },
    "version_major": 2,
    "version_minor": 0
   }
  }
 },
 "nbformat": 4,
 "nbformat_minor": 2
}
